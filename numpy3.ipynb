{
 "cells": [
  {
   "cell_type": "code",
   "execution_count": 1,
   "id": "7d3da0a5-48e7-4cfb-b19a-2931261b3f39",
   "metadata": {},
   "outputs": [],
   "source": [
    "import numpy as np"
   ]
  },
  {
   "cell_type": "code",
   "execution_count": 2,
   "id": "b4ef6f25-9eed-473f-ad2e-3f6ee24eb9ab",
   "metadata": {},
   "outputs": [],
   "source": [
    "##Numpy array manupulation"
   ]
  },
  {
   "cell_type": "code",
   "execution_count": 4,
   "id": "171d49c6-bb11-4c0c-911a-fc15e8d30478",
   "metadata": {},
   "outputs": [],
   "source": [
    "arr=np.random.randint(1,10,(4,4))"
   ]
  },
  {
   "cell_type": "code",
   "execution_count": 5,
   "id": "f3bb14cf-3724-4010-8c85-e8d7800a2668",
   "metadata": {},
   "outputs": [
    {
     "data": {
      "text/plain": [
       "array([[4, 3, 1, 1],\n",
       "       [4, 8, 4, 5],\n",
       "       [3, 3, 2, 2],\n",
       "       [6, 7, 8, 2]])"
      ]
     },
     "execution_count": 5,
     "metadata": {},
     "output_type": "execute_result"
    }
   ],
   "source": [
    "arr"
   ]
  },
  {
   "cell_type": "code",
   "execution_count": 6,
   "id": "8281be99-c3fc-4148-ba14-113ed8842ac2",
   "metadata": {},
   "outputs": [
    {
     "data": {
      "text/plain": [
       "array([[4, 3],\n",
       "       [1, 1],\n",
       "       [4, 8],\n",
       "       [4, 5],\n",
       "       [3, 3],\n",
       "       [2, 2],\n",
       "       [6, 7],\n",
       "       [8, 2]])"
      ]
     },
     "execution_count": 6,
     "metadata": {},
     "output_type": "execute_result"
    }
   ],
   "source": [
    "arr.reshape(8,2\n",
    "           )"
   ]
  },
  {
   "cell_type": "code",
   "execution_count": 7,
   "id": "212c49b5-2f19-47db-a9f1-4b31c9cb00ee",
   "metadata": {},
   "outputs": [
    {
     "data": {
      "text/plain": [
       "array([[4, 3, 1, 1],\n",
       "       [4, 8, 4, 5],\n",
       "       [3, 3, 2, 2],\n",
       "       [6, 7, 8, 2]])"
      ]
     },
     "execution_count": 7,
     "metadata": {},
     "output_type": "execute_result"
    }
   ],
   "source": [
    "arr"
   ]
  },
  {
   "cell_type": "code",
   "execution_count": 8,
   "id": "dce9e363-04ca-48c1-8117-2c34c68906e9",
   "metadata": {},
   "outputs": [
    {
     "data": {
      "text/plain": [
       "array([[4, 4, 3, 6],\n",
       "       [3, 8, 3, 7],\n",
       "       [1, 4, 2, 8],\n",
       "       [1, 5, 2, 2]])"
      ]
     },
     "execution_count": 8,
     "metadata": {},
     "output_type": "execute_result"
    }
   ],
   "source": [
    "arr.T\n",
    "\n"
   ]
  },
  {
   "cell_type": "code",
   "execution_count": 9,
   "id": "f9fe5374-924b-4c14-ba46-54ce7cbeb16f",
   "metadata": {},
   "outputs": [
    {
     "data": {
      "text/plain": [
       "array([4, 3, 1, 1, 4, 8, 4, 5, 3, 3, 2, 2, 6, 7, 8, 2])"
      ]
     },
     "execution_count": 9,
     "metadata": {},
     "output_type": "execute_result"
    }
   ],
   "source": [
    "arr.flatten()"
   ]
  },
  {
   "cell_type": "code",
   "execution_count": 10,
   "id": "93fad80f-d61f-44d7-a1e0-11c2737931a6",
   "metadata": {},
   "outputs": [
    {
     "data": {
      "text/plain": [
       "array([[4, 3, 1, 1],\n",
       "       [4, 8, 4, 5],\n",
       "       [3, 3, 2, 2],\n",
       "       [6, 7, 8, 2]])"
      ]
     },
     "execution_count": 10,
     "metadata": {},
     "output_type": "execute_result"
    }
   ],
   "source": [
    "arr"
   ]
  },
  {
   "cell_type": "code",
   "execution_count": 12,
   "id": "440a5a25-e6b9-46a3-aa8b-e7761f4f8085",
   "metadata": {},
   "outputs": [
    {
     "data": {
      "text/plain": [
       "array([[[4, 3, 1, 1]],\n",
       "\n",
       "       [[4, 8, 4, 5]],\n",
       "\n",
       "       [[3, 3, 2, 2]],\n",
       "\n",
       "       [[6, 7, 8, 2]]])"
      ]
     },
     "execution_count": 12,
     "metadata": {},
     "output_type": "execute_result"
    }
   ],
   "source": [
    "np.expand_dims(arr,axis=1)"
   ]
  },
  {
   "cell_type": "code",
   "execution_count": 13,
   "id": "80511c9f-c9f8-40ca-8104-ebc9f6d9d014",
   "metadata": {},
   "outputs": [
    {
     "data": {
      "text/plain": [
       "array([[[4, 3, 1, 1],\n",
       "        [4, 8, 4, 5],\n",
       "        [3, 3, 2, 2],\n",
       "        [6, 7, 8, 2]]])"
      ]
     },
     "execution_count": 13,
     "metadata": {},
     "output_type": "execute_result"
    }
   ],
   "source": [
    "np.expand_dims(arr,axis=0)"
   ]
  },
  {
   "cell_type": "code",
   "execution_count": 14,
   "id": "3b5d34bb-8d60-4799-81fe-02e63d9a4549",
   "metadata": {},
   "outputs": [],
   "source": [
    "data=np.array([[1],[2],[3]])"
   ]
  },
  {
   "cell_type": "code",
   "execution_count": 15,
   "id": "f88e6c12-6f5e-4491-b56b-d88ad1106f69",
   "metadata": {},
   "outputs": [
    {
     "data": {
      "text/plain": [
       "array([[1],\n",
       "       [2],\n",
       "       [3]])"
      ]
     },
     "execution_count": 15,
     "metadata": {},
     "output_type": "execute_result"
    }
   ],
   "source": [
    "data"
   ]
  },
  {
   "cell_type": "code",
   "execution_count": 16,
   "id": "4e22a3a8-e9c5-48d3-a723-54471fa66a58",
   "metadata": {},
   "outputs": [
    {
     "data": {
      "text/plain": [
       "array([1, 2, 3])"
      ]
     },
     "execution_count": 16,
     "metadata": {},
     "output_type": "execute_result"
    }
   ],
   "source": [
    "np.squeeze(data)"
   ]
  },
  {
   "cell_type": "code",
   "execution_count": 17,
   "id": "462ca43d-6240-4fd7-800b-c20f2baf971f",
   "metadata": {},
   "outputs": [
    {
     "data": {
      "text/plain": [
       "array([1, 1, 1, 1, 2, 2, 2, 2, 3, 3, 3, 3])"
      ]
     },
     "execution_count": 17,
     "metadata": {},
     "output_type": "execute_result"
    }
   ],
   "source": [
    "np.repeat(data,4)"
   ]
  },
  {
   "cell_type": "code",
   "execution_count": 18,
   "id": "415297e1-cf5d-4be3-a66a-1333a819a320",
   "metadata": {},
   "outputs": [
    {
     "data": {
      "text/plain": [
       "array([[2],\n",
       "       [3],\n",
       "       [1]])"
      ]
     },
     "execution_count": 18,
     "metadata": {},
     "output_type": "execute_result"
    }
   ],
   "source": [
    "np.roll(data,2)"
   ]
  },
  {
   "cell_type": "code",
   "execution_count": 22,
   "id": "c0676cd6-6d02-4674-bcd6-32fcb8fa9f8e",
   "metadata": {},
   "outputs": [
    {
     "data": {
      "text/plain": [
       "array([[1, 0, 0, 0],\n",
       "       [0, 2, 0, 0],\n",
       "       [0, 0, 3, 0],\n",
       "       [0, 0, 0, 4]])"
      ]
     },
     "execution_count": 22,
     "metadata": {},
     "output_type": "execute_result"
    }
   ],
   "source": [
    "np.diag(np.array([1,2,3,4]))"
   ]
  },
  {
   "cell_type": "code",
   "execution_count": 23,
   "id": "f60e4cc4-ba60-4b2e-9bfb-f0e3424913b8",
   "metadata": {},
   "outputs": [],
   "source": [
    "##Numpy Binary Operations"
   ]
  },
  {
   "cell_type": "code",
   "execution_count": 24,
   "id": "c5ddb338-f3ea-4d16-9ca7-823ee3bf726a",
   "metadata": {},
   "outputs": [],
   "source": [
    "arr1 = np.random.randint(1,10 , (3,4))\n",
    "arr2 = np.random.randint(1,10 , (3,4))"
   ]
  },
  {
   "cell_type": "code",
   "execution_count": 25,
   "id": "b86b956a-eea5-4b32-afbd-03d72086dbd0",
   "metadata": {},
   "outputs": [
    {
     "data": {
      "text/plain": [
       "array([[3, 6, 5, 7],\n",
       "       [5, 8, 5, 4],\n",
       "       [2, 9, 2, 5]])"
      ]
     },
     "execution_count": 25,
     "metadata": {},
     "output_type": "execute_result"
    }
   ],
   "source": [
    "arr1"
   ]
  },
  {
   "cell_type": "markdown",
   "id": "84a136e4-13c9-4961-8f57-15a55441a2ee",
   "metadata": {},
   "source": [
    "## "
   ]
  },
  {
   "cell_type": "code",
   "execution_count": 26,
   "id": "6df474db-f224-41d7-b5bb-1e0cb53c2c31",
   "metadata": {},
   "outputs": [
    {
     "data": {
      "text/plain": [
       "array([[9, 8, 5, 2],\n",
       "       [2, 6, 6, 1],\n",
       "       [6, 2, 7, 6]])"
      ]
     },
     "execution_count": 26,
     "metadata": {},
     "output_type": "execute_result"
    }
   ],
   "source": [
    "arr2"
   ]
  },
  {
   "cell_type": "code",
   "execution_count": 27,
   "id": "2c91952a-145a-4cdb-880c-c6ceeca8f507",
   "metadata": {},
   "outputs": [
    {
     "data": {
      "text/plain": [
       "array([[ -4,  -7,  -6,  -8],\n",
       "       [ -6,  -9,  -6,  -5],\n",
       "       [ -3, -10,  -3,  -6]])"
      ]
     },
     "execution_count": 27,
     "metadata": {},
     "output_type": "execute_result"
    }
   ],
   "source": [
    "~arr1"
   ]
  },
  {
   "cell_type": "code",
   "execution_count": 28,
   "id": "353e3e75-7e85-42f6-b667-4ed1fe9f2214",
   "metadata": {},
   "outputs": [
    {
     "data": {
      "text/plain": [
       "array([[False, False, False,  True],\n",
       "       [ True,  True, False,  True],\n",
       "       [False,  True, False, False]])"
      ]
     },
     "execution_count": 28,
     "metadata": {},
     "output_type": "execute_result"
    }
   ],
   "source": [
    "arr1>arr2"
   ]
  },
  {
   "cell_type": "code",
   "execution_count": null,
   "id": "65fc9a87-0d00-4cf8-b928-939de05329fe",
   "metadata": {},
   "outputs": [],
   "source": [
    "##Numpy String functions"
   ]
  },
  {
   "cell_type": "code",
   "execution_count": 30,
   "id": "548b5f23-a685-466d-9e81-c55d00eddf7d",
   "metadata": {},
   "outputs": [],
   "source": [
    "arr=np.array(['anwar','hilal'])"
   ]
  },
  {
   "cell_type": "code",
   "execution_count": 31,
   "id": "a68d18bd-4693-4f7e-a39f-10206875bda3",
   "metadata": {},
   "outputs": [
    {
     "data": {
      "text/plain": [
       "array(['anwar', 'hilal'], dtype='<U5')"
      ]
     },
     "execution_count": 31,
     "metadata": {},
     "output_type": "execute_result"
    }
   ],
   "source": [
    "arr"
   ]
  },
  {
   "cell_type": "code",
   "execution_count": 32,
   "id": "ba1420f9-356e-45ec-a1ab-13c30f96d615",
   "metadata": {},
   "outputs": [
    {
     "data": {
      "text/plain": [
       "dtype('<U5')"
      ]
     },
     "execution_count": 32,
     "metadata": {},
     "output_type": "execute_result"
    }
   ],
   "source": [
    "arr.dtype"
   ]
  },
  {
   "cell_type": "code",
   "execution_count": 34,
   "id": "5656d0cb-b4cf-4e89-b3c1-85a10214b06a",
   "metadata": {},
   "outputs": [
    {
     "data": {
      "text/plain": [
       "array(['ANWAR', 'HILAL'], dtype='<U5')"
      ]
     },
     "execution_count": 34,
     "metadata": {},
     "output_type": "execute_result"
    }
   ],
   "source": [
    "np.char.upper(arr)"
   ]
  },
  {
   "cell_type": "code",
   "execution_count": 35,
   "id": "19aa98b3-e55b-4e87-b701-735418dff867",
   "metadata": {},
   "outputs": [
    {
     "data": {
      "text/plain": [
       "array(['Anwar', 'Hilal'], dtype='<U5')"
      ]
     },
     "execution_count": 35,
     "metadata": {},
     "output_type": "execute_result"
    }
   ],
   "source": [
    "np.char.capitalize(arr)"
   ]
  },
  {
   "cell_type": "code",
   "execution_count": 36,
   "id": "81d481fd-625c-43d7-84d7-54e4e568f2f6",
   "metadata": {},
   "outputs": [
    {
     "data": {
      "text/plain": [
       "array(['Anwar', 'Hilal'], dtype='<U5')"
      ]
     },
     "execution_count": 36,
     "metadata": {},
     "output_type": "execute_result"
    }
   ],
   "source": [
    "np.char.title(arr\n",
    "             )"
   ]
  },
  {
   "cell_type": "code",
   "execution_count": 37,
   "id": "6a75b1b3-c5a5-4706-a946-818ee9a12700",
   "metadata": {},
   "outputs": [
    {
     "data": {
      "text/plain": [
       "array(['anwar', 'hilal'], dtype='<U5')"
      ]
     },
     "execution_count": 37,
     "metadata": {},
     "output_type": "execute_result"
    }
   ],
   "source": [
    "arr"
   ]
  },
  {
   "cell_type": "code",
   "execution_count": 38,
   "id": "349bdc1a-440f-49c4-9733-889e4c5e14c6",
   "metadata": {},
   "outputs": [],
   "source": [
    "##Numpy Mathematical function"
   ]
  },
  {
   "cell_type": "code",
   "execution_count": 39,
   "id": "82b3b0cc-6aaa-4994-811d-4d3a8954315c",
   "metadata": {},
   "outputs": [
    {
     "data": {
      "text/plain": [
       "array([[3, 6, 5, 7],\n",
       "       [5, 8, 5, 4],\n",
       "       [2, 9, 2, 5]])"
      ]
     },
     "execution_count": 39,
     "metadata": {},
     "output_type": "execute_result"
    }
   ],
   "source": [
    "arr1"
   ]
  },
  {
   "cell_type": "code",
   "execution_count": 41,
   "id": "4f1207ee-c37d-4691-a9b9-70f55859e9a2",
   "metadata": {},
   "outputs": [
    {
     "data": {
      "text/plain": [
       "array([[ 0.14112001, -0.2794155 , -0.95892427,  0.6569866 ],\n",
       "       [-0.95892427,  0.98935825, -0.95892427, -0.7568025 ],\n",
       "       [ 0.90929743,  0.41211849,  0.90929743, -0.95892427]])"
      ]
     },
     "execution_count": 41,
     "metadata": {},
     "output_type": "execute_result"
    }
   ],
   "source": [
    "np.sin(arr1)"
   ]
  },
  {
   "cell_type": "code",
   "execution_count": 42,
   "id": "e4cb3718-d853-4b45-989e-cbe490949c15",
   "metadata": {},
   "outputs": [
    {
     "data": {
      "text/plain": [
       "array([[-0.14254654, -0.29100619, -3.38051501,  0.87144798],\n",
       "       [-3.38051501, -6.79971146, -3.38051501,  1.15782128],\n",
       "       [-2.18503986, -0.45231566, -2.18503986, -3.38051501]])"
      ]
     },
     "execution_count": 42,
     "metadata": {},
     "output_type": "execute_result"
    }
   ],
   "source": [
    "np.tan(arr1)"
   ]
  },
  {
   "cell_type": "code",
   "execution_count": 43,
   "id": "0bec724d-12be-4625-9c0d-c3b4108e4021",
   "metadata": {},
   "outputs": [
    {
     "data": {
      "text/plain": [
       "array([[-0.9899925 ,  0.96017029,  0.28366219,  0.75390225],\n",
       "       [ 0.28366219, -0.14550003,  0.28366219, -0.65364362],\n",
       "       [-0.41614684, -0.91113026, -0.41614684,  0.28366219]])"
      ]
     },
     "execution_count": 43,
     "metadata": {},
     "output_type": "execute_result"
    }
   ],
   "source": [
    "np.cos(arr1)"
   ]
  },
  {
   "cell_type": "code",
   "execution_count": 44,
   "id": "2701ad38-f84d-4644-80d5-623becd75d0d",
   "metadata": {},
   "outputs": [
    {
     "data": {
      "text/plain": [
       "array([[0.47712125, 0.77815125, 0.69897   , 0.84509804],\n",
       "       [0.69897   , 0.90308999, 0.69897   , 0.60205999],\n",
       "       [0.30103   , 0.95424251, 0.30103   , 0.69897   ]])"
      ]
     },
     "execution_count": 44,
     "metadata": {},
     "output_type": "execute_result"
    }
   ],
   "source": [
    "np.log10(arr1)"
   ]
  },
  {
   "cell_type": "code",
   "execution_count": 45,
   "id": "61217466-d125-4a6d-bce1-7df957103525",
   "metadata": {},
   "outputs": [
    {
     "data": {
      "text/plain": [
       "array([[2.00855369e+01, 4.03428793e+02, 1.48413159e+02, 1.09663316e+03],\n",
       "       [1.48413159e+02, 2.98095799e+03, 1.48413159e+02, 5.45981500e+01],\n",
       "       [7.38905610e+00, 8.10308393e+03, 7.38905610e+00, 1.48413159e+02]])"
      ]
     },
     "execution_count": 45,
     "metadata": {},
     "output_type": "execute_result"
    }
   ],
   "source": [
    "np.exp(arr1)"
   ]
  },
  {
   "cell_type": "code",
   "execution_count": 46,
   "id": "60f9b5ed-9132-44e3-9055-34c5ec878381",
   "metadata": {},
   "outputs": [
    {
     "data": {
      "text/plain": [
       "array([[ 27, 216, 125, 343],\n",
       "       [125, 512, 125,  64],\n",
       "       [  8, 729,   8, 125]])"
      ]
     },
     "execution_count": 46,
     "metadata": {},
     "output_type": "execute_result"
    }
   ],
   "source": [
    "np.power(arr1,3)"
   ]
  },
  {
   "cell_type": "code",
   "execution_count": 47,
   "id": "c592ecdb-1bdb-49c5-81f6-462f52858775",
   "metadata": {},
   "outputs": [
    {
     "data": {
      "text/plain": [
       "5.083333333333333"
      ]
     },
     "execution_count": 47,
     "metadata": {},
     "output_type": "execute_result"
    }
   ],
   "source": [
    "np.mean(arr1)"
   ]
  },
  {
   "cell_type": "code",
   "execution_count": 48,
   "id": "ee089057-8b8c-4849-b095-e483e4d202e0",
   "metadata": {},
   "outputs": [
    {
     "data": {
      "text/plain": [
       "9"
      ]
     },
     "execution_count": 48,
     "metadata": {},
     "output_type": "execute_result"
    }
   ],
   "source": [
    "np.max(arr1)"
   ]
  },
  {
   "cell_type": "code",
   "execution_count": 49,
   "id": "761e8516-a676-4e90-967c-1f9eda1da8a9",
   "metadata": {},
   "outputs": [
    {
     "data": {
      "text/plain": [
       "4.409722222222222"
      ]
     },
     "execution_count": 49,
     "metadata": {},
     "output_type": "execute_result"
    }
   ],
   "source": [
    "np.var(arr1)"
   ]
  },
  {
   "cell_type": "code",
   "execution_count": 50,
   "id": "e2b816fb-d9d1-4dd0-9251-af51035e83df",
   "metadata": {},
   "outputs": [
    {
     "data": {
      "text/plain": [
       "2.099933861392359"
      ]
     },
     "execution_count": 50,
     "metadata": {},
     "output_type": "execute_result"
    }
   ],
   "source": [
    "np.std(arr1)"
   ]
  },
  {
   "cell_type": "code",
   "execution_count": 51,
   "id": "49d13b10-a359-496e-a9b5-1ccba7cbc8d4",
   "metadata": {},
   "outputs": [
    {
     "data": {
      "text/plain": [
       "array([[3, 6, 5, 7],\n",
       "       [5, 8, 5, 4],\n",
       "       [2, 9, 2, 5]])"
      ]
     },
     "execution_count": 51,
     "metadata": {},
     "output_type": "execute_result"
    }
   ],
   "source": [
    "arr1\n"
   ]
  },
  {
   "cell_type": "code",
   "execution_count": 52,
   "id": "61bdf407-110f-4384-ae9f-5923f6a28bcd",
   "metadata": {},
   "outputs": [
    {
     "data": {
      "text/plain": [
       "array([[9, 8, 5, 2],\n",
       "       [2, 6, 6, 1],\n",
       "       [6, 2, 7, 6]])"
      ]
     },
     "execution_count": 52,
     "metadata": {},
     "output_type": "execute_result"
    }
   ],
   "source": [
    "arr2"
   ]
  },
  {
   "cell_type": "code",
   "execution_count": 53,
   "id": "dd968b0b-f6a3-485f-933e-140af502b5ab",
   "metadata": {},
   "outputs": [
    {
     "data": {
      "text/plain": [
       "array([[-6, -2,  0,  5],\n",
       "       [ 3,  2, -1,  3],\n",
       "       [-4,  7, -5, -1]])"
      ]
     },
     "execution_count": 53,
     "metadata": {},
     "output_type": "execute_result"
    }
   ],
   "source": [
    "np.subtract(arr1,arr2)"
   ]
  },
  {
   "cell_type": "code",
   "execution_count": 54,
   "id": "152a06c5-a427-4eca-9a20-5e98c4c32f70",
   "metadata": {},
   "outputs": [
    {
     "data": {
      "text/plain": [
       "array([[27, 48, 25, 14],\n",
       "       [10, 48, 30,  4],\n",
       "       [12, 18, 14, 30]])"
      ]
     },
     "execution_count": 54,
     "metadata": {},
     "output_type": "execute_result"
    }
   ],
   "source": [
    "np.multiply(arr1,arr2)"
   ]
  },
  {
   "cell_type": "code",
   "execution_count": 56,
   "id": "5a6422a1-0b90-4292-9bfc-70f19d39a9ea",
   "metadata": {},
   "outputs": [
    {
     "data": {
      "text/plain": [
       "array([[3, 6, 0, 1],\n",
       "       [1, 2, 5, 0],\n",
       "       [2, 1, 2, 5]])"
      ]
     },
     "execution_count": 56,
     "metadata": {},
     "output_type": "execute_result"
    }
   ],
   "source": [
    "np.mod(arr1,arr2)"
   ]
  },
  {
   "cell_type": "code",
   "execution_count": 57,
   "id": "530e9def-a6f5-4917-9d25-5c2e30dc1b92",
   "metadata": {},
   "outputs": [
    {
     "data": {
      "text/plain": [
       "array([[  19683, 1679616,    3125,      49],\n",
       "       [     25,  262144,   15625,       4],\n",
       "       [     64,      81,     128,   15625]])"
      ]
     },
     "execution_count": 57,
     "metadata": {},
     "output_type": "execute_result"
    }
   ],
   "source": [
    "np.power(arr1,arr2)"
   ]
  },
  {
   "cell_type": "code",
   "execution_count": 58,
   "id": "6b6fb713-af9e-4bf7-b9dc-85961940efab",
   "metadata": {},
   "outputs": [
    {
     "data": {
      "text/plain": [
       "array([[1.73205081, 2.44948974, 2.23606798, 2.64575131],\n",
       "       [2.23606798, 2.82842712, 2.23606798, 2.        ],\n",
       "       [1.41421356, 3.        , 1.41421356, 2.23606798]])"
      ]
     },
     "execution_count": 58,
     "metadata": {},
     "output_type": "execute_result"
    }
   ],
   "source": [
    "np.sqrt(arr1)"
   ]
  },
  {
   "cell_type": "code",
   "execution_count": 59,
   "id": "dfe339d4-27f5-498f-b7d6-dc780f0eeb0e",
   "metadata": {},
   "outputs": [],
   "source": [
    "##Satitical Function"
   ]
  },
  {
   "cell_type": "code",
   "execution_count": 60,
   "id": "3eb68b75-a7a4-4f23-9f73-f1bb24f1f2c8",
   "metadata": {},
   "outputs": [
    {
     "data": {
      "text/plain": [
       "5.083333333333333"
      ]
     },
     "execution_count": 60,
     "metadata": {},
     "output_type": "execute_result"
    }
   ],
   "source": [
    "np.mean(arr1)"
   ]
  },
  {
   "cell_type": "code",
   "execution_count": 61,
   "id": "b924df58-9255-4c95-95fd-623d0e298456",
   "metadata": {},
   "outputs": [
    {
     "data": {
      "text/plain": [
       "5.0"
      ]
     },
     "execution_count": 61,
     "metadata": {},
     "output_type": "execute_result"
    }
   ],
   "source": [
    "np.median(arr1)"
   ]
  },
  {
   "cell_type": "code",
   "execution_count": 62,
   "id": "0ead886c-fb15-4728-b75b-b4799de8262c",
   "metadata": {},
   "outputs": [
    {
     "data": {
      "text/plain": [
       "2.099933861392359"
      ]
     },
     "execution_count": 62,
     "metadata": {},
     "output_type": "execute_result"
    }
   ],
   "source": [
    "np.std(arr1)"
   ]
  },
  {
   "cell_type": "code",
   "execution_count": null,
   "id": "80a83c31-a30f-4bb2-ac90-c00d1485b15f",
   "metadata": {},
   "outputs": [],
   "source": []
  },
  {
   "cell_type": "code",
   "execution_count": null,
   "id": "c6e11667-f373-476c-8847-a90daaf15653",
   "metadata": {},
   "outputs": [],
   "source": []
  },
  {
   "cell_type": "code",
   "execution_count": null,
   "id": "c9970667-4adc-45ca-bfff-c00ea4d05c38",
   "metadata": {},
   "outputs": [],
   "source": []
  }
 ],
 "metadata": {
  "kernelspec": {
   "display_name": "Python 3 (ipykernel)",
   "language": "python",
   "name": "python3"
  },
  "language_info": {
   "codemirror_mode": {
    "name": "ipython",
    "version": 3
   },
   "file_extension": ".py",
   "mimetype": "text/x-python",
   "name": "python",
   "nbconvert_exporter": "python",
   "pygments_lexer": "ipython3",
   "version": "3.10.8"
  }
 },
 "nbformat": 4,
 "nbformat_minor": 5
}
