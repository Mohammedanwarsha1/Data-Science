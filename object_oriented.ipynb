{
 "cells": [
  {
   "cell_type": "markdown",
   "id": "7ff0d434-7646-44e6-af25-9303afbcf52d",
   "metadata": {},
   "source": [
    "## object oriented "
   ]
  },
  {
   "cell_type": "code",
   "execution_count": 1,
   "id": "c94f3716-0eab-4150-b10b-e25444fa90a2",
   "metadata": {},
   "outputs": [
    {
     "ename": "SyntaxError",
     "evalue": "incomplete input (3527747674.py, line 1)",
     "output_type": "error",
     "traceback": [
      "\u001b[0;36m  Cell \u001b[0;32mIn[1], line 1\u001b[0;36m\u001b[0m\n\u001b[0;31m    class test:\u001b[0m\n\u001b[0m               ^\u001b[0m\n\u001b[0;31mSyntaxError\u001b[0m\u001b[0;31m:\u001b[0m incomplete input\n"
     ]
    }
   ],
   "source": [
    "class test:"
   ]
  },
  {
   "cell_type": "code",
   "execution_count": 2,
   "id": "fb7b485e-e909-4a7e-9bf5-27359abf6fea",
   "metadata": {},
   "outputs": [],
   "source": [
    "class test:\n",
    "    pass"
   ]
  },
  {
   "cell_type": "code",
   "execution_count": 3,
   "id": "da0ce610-380c-4992-8edb-d56126a607ad",
   "metadata": {},
   "outputs": [],
   "source": [
    "a=test()     ## a is object"
   ]
  },
  {
   "cell_type": "code",
   "execution_count": 5,
   "id": "0d9c0473-7162-4dc1-bcfa-e04764e6193f",
   "metadata": {},
   "outputs": [
    {
     "name": "stdout",
     "output_type": "stream",
     "text": [
      "<class '__main__.test'>\n"
     ]
    }
   ],
   "source": [
    "print(type(a))"
   ]
  },
  {
   "cell_type": "code",
   "execution_count": 18,
   "id": "92cb858d-5b4d-4f73-9423-a393aba0512c",
   "metadata": {},
   "outputs": [],
   "source": [
    "class test:\n",
    "    def welcome_msg(self):\n",
    "        print(\"welcome\")"
   ]
  },
  {
   "cell_type": "code",
   "execution_count": 16,
   "id": "8f241a88-c653-44a2-95aa-a210a5726ca0",
   "metadata": {},
   "outputs": [],
   "source": [
    "r=test()"
   ]
  },
  {
   "cell_type": "code",
   "execution_count": 19,
   "id": "aeda72d5-fef2-459f-b437-006bdbebed44",
   "metadata": {},
   "outputs": [
    {
     "name": "stdout",
     "output_type": "stream",
     "text": [
      "welcome\n"
     ]
    }
   ],
   "source": [
    "r.welcome_msg()"
   ]
  },
  {
   "cell_type": "code",
   "execution_count": 23,
   "id": "a9bfa4b6-6c33-4855-878b-fbf77db06a68",
   "metadata": {},
   "outputs": [
    {
     "name": "stdout",
     "output_type": "stream",
     "text": [
      "welcome\n"
     ]
    }
   ],
   "source": [
    "s=pwskills()\n",
    "s.welcome_msg()"
   ]
  },
  {
   "cell_type": "code",
   "execution_count": 37,
   "id": "bafcc6a6-febb-4df2-a060-7205659ee5fa",
   "metadata": {},
   "outputs": [],
   "source": [
    "class pwskills1:\n",
    "    def __init__(self,phon_no,email_id,student_id):\n",
    "        self.phon_no=phon_no\n",
    "        self.email_id=email_id\n",
    "        self.student_id=student_id\n",
    "        \n",
    "    def return_student_details(self):\n",
    "        return self.phon_no,self.email_id,self.student_id"
   ]
  },
  {
   "cell_type": "code",
   "execution_count": 39,
   "id": "772c0021-5fa4-4ba9-8b3c-1e9a71c8fe0b",
   "metadata": {},
   "outputs": [],
   "source": [
    "rohan=pwskills1(8972,\"jedne@gmail.com\",123)"
   ]
  },
  {
   "cell_type": "code",
   "execution_count": 41,
   "id": "09786617-ffce-456f-be1e-460056d9c591",
   "metadata": {},
   "outputs": [
    {
     "data": {
      "text/plain": [
       "8972"
      ]
     },
     "execution_count": 41,
     "metadata": {},
     "output_type": "execute_result"
    }
   ],
   "source": [
    "rohan.phon_no"
   ]
  },
  {
   "cell_type": "code",
   "execution_count": 42,
   "id": "f36a97f9-616d-45cf-9ce6-eadf608a6a81",
   "metadata": {},
   "outputs": [
    {
     "data": {
      "text/plain": [
       "(8972, 'jedne@gmail.com', 123)"
      ]
     },
     "execution_count": 42,
     "metadata": {},
     "output_type": "execute_result"
    }
   ],
   "source": [
    "rohan.return_student_details()"
   ]
  },
  {
   "cell_type": "code",
   "execution_count": null,
   "id": "33b67d64-d36e-4d3f-aac0-0b48e7508da6",
   "metadata": {},
   "outputs": [],
   "source": []
  }
 ],
 "metadata": {
  "kernelspec": {
   "display_name": "Python 3 (ipykernel)",
   "language": "python",
   "name": "python3"
  },
  "language_info": {
   "codemirror_mode": {
    "name": "ipython",
    "version": 3
   },
   "file_extension": ".py",
   "mimetype": "text/x-python",
   "name": "python",
   "nbconvert_exporter": "python",
   "pygments_lexer": "ipython3",
   "version": "3.10.8"
  }
 },
 "nbformat": 4,
 "nbformat_minor": 5
}
