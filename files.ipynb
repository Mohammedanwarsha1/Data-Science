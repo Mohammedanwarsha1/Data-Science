{
 "cells": [
  {
   "cell_type": "code",
   "execution_count": 5,
   "id": "b0b58fa4-aefc-4098-bf9c-186ed0142826",
   "metadata": {},
   "outputs": [],
   "source": [
    "f=open(\"test.txt\",\"a\")     ##w-REmove all the previous data  a-append to the previous data"
   ]
  },
  {
   "cell_type": "code",
   "execution_count": 2,
   "id": "152c3082-bc75-41cc-991e-e6f08229a385",
   "metadata": {},
   "outputs": [
    {
     "data": {
      "text/plain": [
       "'/home/jovyan/work/pythonProgram1'"
      ]
     },
     "execution_count": 2,
     "metadata": {},
     "output_type": "execute_result"
    }
   ],
   "source": [
    "pwd"
   ]
  },
  {
   "cell_type": "code",
   "execution_count": 3,
   "id": "2abf9b53-3731-4391-ac2b-9657d4ea9322",
   "metadata": {},
   "outputs": [
    {
     "data": {
      "text/plain": [
       "28"
      ]
     },
     "execution_count": 3,
     "metadata": {},
     "output_type": "execute_result"
    }
   ],
   "source": [
    "f.write(\"this is my file file program\")"
   ]
  },
  {
   "cell_type": "code",
   "execution_count": 4,
   "id": "926bcfc3-e910-487a-a334-513aa23b04b7",
   "metadata": {},
   "outputs": [],
   "source": [
    "f.close()"
   ]
  },
  {
   "cell_type": "code",
   "execution_count": 6,
   "id": "e752adda-82ae-4407-9a84-00a3ba898a45",
   "metadata": {},
   "outputs": [
    {
     "data": {
      "text/plain": [
       "8"
      ]
     },
     "execution_count": 6,
     "metadata": {},
     "output_type": "execute_result"
    }
   ],
   "source": [
    "f.write(\"jhdduyhg\")"
   ]
  },
  {
   "cell_type": "code",
   "execution_count": 7,
   "id": "7e489a9b-618c-48d1-8050-c6a6943ee303",
   "metadata": {},
   "outputs": [],
   "source": [
    "f.close()"
   ]
  },
  {
   "cell_type": "code",
   "execution_count": 8,
   "id": "949c3bf0-c88d-4984-b86b-6a99d31e2221",
   "metadata": {},
   "outputs": [],
   "source": [
    "data=open(\"test.txt\",\"r\")"
   ]
  },
  {
   "cell_type": "code",
   "execution_count": 9,
   "id": "49eda801-b373-4031-ac2a-c60df9b5f97e",
   "metadata": {},
   "outputs": [
    {
     "data": {
      "text/plain": [
       "'this is my file file programjhdduyhg'"
      ]
     },
     "execution_count": 9,
     "metadata": {},
     "output_type": "execute_result"
    }
   ],
   "source": [
    "data.read()"
   ]
  },
  {
   "cell_type": "code",
   "execution_count": 10,
   "id": "0b2e81fc-e444-457e-8d8d-1de1ea7baba7",
   "metadata": {},
   "outputs": [
    {
     "data": {
      "text/plain": [
       "''"
      ]
     },
     "execution_count": 10,
     "metadata": {},
     "output_type": "execute_result"
    }
   ],
   "source": [
    "data.read()     ## Because the cursor is pointing to the last letter"
   ]
  },
  {
   "cell_type": "code",
   "execution_count": null,
   "id": "d72c45d8-b7fd-4b32-89c0-63c209755683",
   "metadata": {},
   "outputs": [],
   "source": [
    "## in order to reset our cursor we use a methord called 'seek'"
   ]
  },
  {
   "cell_type": "code",
   "execution_count": 11,
   "id": "1bb2b264-f7b9-4eca-88cb-cc5bf81d1452",
   "metadata": {},
   "outputs": [
    {
     "data": {
      "text/plain": [
       "0"
      ]
     },
     "execution_count": 11,
     "metadata": {},
     "output_type": "execute_result"
    }
   ],
   "source": [
    "data.seek(0)"
   ]
  },
  {
   "cell_type": "code",
   "execution_count": 12,
   "id": "ab60d8bb-d86f-4505-bee8-e67bb866affe",
   "metadata": {},
   "outputs": [
    {
     "data": {
      "text/plain": [
       "'this is my file file programjhdduyhg'"
      ]
     },
     "execution_count": 12,
     "metadata": {},
     "output_type": "execute_result"
    }
   ],
   "source": [
    "data.read()"
   ]
  },
  {
   "cell_type": "code",
   "execution_count": 13,
   "id": "75198b46-1c9c-4cba-9db5-78a72d1d87f7",
   "metadata": {},
   "outputs": [
    {
     "data": {
      "text/plain": [
       "10"
      ]
     },
     "execution_count": 13,
     "metadata": {},
     "output_type": "execute_result"
    }
   ],
   "source": [
    "data.seek(10)"
   ]
  },
  {
   "cell_type": "code",
   "execution_count": 14,
   "id": "e2764a02-99c8-4d9b-912f-57ef23543303",
   "metadata": {},
   "outputs": [
    {
     "data": {
      "text/plain": [
       "' file file programjhdduyhg'"
      ]
     },
     "execution_count": 14,
     "metadata": {},
     "output_type": "execute_result"
    }
   ],
   "source": [
    "data.read()"
   ]
  },
  {
   "cell_type": "code",
   "execution_count": 15,
   "id": "0fdbb98b-2bf3-4393-a34f-357ffccf35b5",
   "metadata": {},
   "outputs": [],
   "source": [
    "data1=open(\"test.txt\",\"r\")"
   ]
  },
  {
   "cell_type": "code",
   "execution_count": 17,
   "id": "8ed94d58-300c-4d9c-8c0b-d8ed72b8d131",
   "metadata": {},
   "outputs": [
    {
     "name": "stdout",
     "output_type": "stream",
     "text": [
      "this is my file file programjhdduyhg\n"
     ]
    }
   ],
   "source": [
    "for i in data1:\n",
    "    print(i)"
   ]
  },
  {
   "cell_type": "code",
   "execution_count": 18,
   "id": "1d1d103e-97f8-4a86-915f-7a9b15c5a609",
   "metadata": {},
   "outputs": [],
   "source": [
    "import os"
   ]
  },
  {
   "cell_type": "code",
   "execution_count": 19,
   "id": "c74d4e53-0646-4b6b-a894-df7d52184078",
   "metadata": {},
   "outputs": [
    {
     "data": {
      "text/plain": [
       "36"
      ]
     },
     "execution_count": 19,
     "metadata": {},
     "output_type": "execute_result"
    }
   ],
   "source": [
    "os.path.getsize(\"test.txt\")      ## used to get size of the file"
   ]
  },
  {
   "cell_type": "code",
   "execution_count": 20,
   "id": "6cc4976a-352d-4f82-9ec5-f9876441eabe",
   "metadata": {},
   "outputs": [],
   "source": [
    "import shutil"
   ]
  },
  {
   "cell_type": "code",
   "execution_count": 21,
   "id": "7fa417b1-cb21-4460-8a8b-1e37d3e8d16e",
   "metadata": {},
   "outputs": [
    {
     "data": {
      "text/plain": [
       "'new.txt'"
      ]
     },
     "execution_count": 21,
     "metadata": {},
     "output_type": "execute_result"
    }
   ],
   "source": [
    "shutil.copy(\"test.txt\",\"new.txt\")"
   ]
  },
  {
   "cell_type": "code",
   "execution_count": 22,
   "id": "456d3b4d-79a6-4026-937b-51b3b933e6b0",
   "metadata": {},
   "outputs": [],
   "source": [
    "os.remove(\"test.txt\")"
   ]
  },
  {
   "cell_type": "code",
   "execution_count": 24,
   "id": "5c6c5c80-ee9e-4f6d-8a51-cec7326aaf01",
   "metadata": {},
   "outputs": [
    {
     "name": "stdout",
     "output_type": "stream",
     "text": [
      "this is my file file programjhdduyhg\n"
     ]
    }
   ],
   "source": [
    "with open(\"new.txt\",\"r\")as f:\n",
    "    print(f.read())"
   ]
  },
  {
   "cell_type": "code",
   "execution_count": 25,
   "id": "28e85951-0339-477f-9751-c1159b37b67b",
   "metadata": {},
   "outputs": [],
   "source": [
    "os.rename(\"new.txt\",\"new1.txt\")\n"
   ]
  },
  {
   "cell_type": "code",
   "execution_count": 26,
   "id": "c60f3886-a7d3-417b-8da0-d2a1f9aa549e",
   "metadata": {},
   "outputs": [],
   "source": [
    "data={\"name\":\"anwar\",\n",
    "     \"mail_id\":\"anwar@gmail.com\",\n",
    "     \"phone_no\":98782345,\n",
    "     \"subject\":[\"dataScience\",\"web dev\",\"data analytics\"]}"
   ]
  },
  {
   "cell_type": "code",
   "execution_count": 27,
   "id": "786321b9-5154-4a48-99f3-0f5c0a8c4659",
   "metadata": {},
   "outputs": [],
   "source": [
    "import json     ## json file is used to store dictionary files"
   ]
  },
  {
   "cell_type": "code",
   "execution_count": 28,
   "id": "07000a21-260b-47ca-9dc5-21941d6b4d8b",
   "metadata": {},
   "outputs": [],
   "source": [
    "with open(\"test1.json\",\"w\")as f:\n",
    "    json.dump(data,f)"
   ]
  },
  {
   "cell_type": "code",
   "execution_count": 33,
   "id": "00726cd2-15f9-44e5-ac4b-c6af47ac7707",
   "metadata": {},
   "outputs": [],
   "source": [
    "with open(\"test1.json\",\"r\")as f:\n",
    "    data1=json.load(f)"
   ]
  },
  {
   "cell_type": "code",
   "execution_count": 34,
   "id": "99e8cdb0-d6c3-4ee9-a02d-5e22d824b927",
   "metadata": {},
   "outputs": [
    {
     "data": {
      "text/plain": [
       "{'name': 'anwar',\n",
       " 'mail_id': 'anwar@gmail.com',\n",
       " 'phone_no': 98782345,\n",
       " 'subject': ['dataScience', 'web dev', 'data analytics']}"
      ]
     },
     "execution_count": 34,
     "metadata": {},
     "output_type": "execute_result"
    }
   ],
   "source": [
    "data1"
   ]
  },
  {
   "cell_type": "code",
   "execution_count": 35,
   "id": "59cd0072-b66b-4047-a88d-dc262e70206e",
   "metadata": {},
   "outputs": [
    {
     "data": {
      "text/plain": [
       "['dataScience', 'web dev', 'data analytics']"
      ]
     },
     "execution_count": 35,
     "metadata": {},
     "output_type": "execute_result"
    }
   ],
   "source": [
    "data1[\"subject\"]"
   ]
  },
  {
   "cell_type": "code",
   "execution_count": 36,
   "id": "4aad156d-5718-44ed-93b6-0f20dd4793b2",
   "metadata": {},
   "outputs": [
    {
     "data": {
      "text/plain": [
       "'web dev'"
      ]
     },
     "execution_count": 36,
     "metadata": {},
     "output_type": "execute_result"
    }
   ],
   "source": [
    "data[\"subject\"][1]"
   ]
  },
  {
   "cell_type": "code",
   "execution_count": 37,
   "id": "030610a0-5062-4cd4-8103-42dd48ab9e51",
   "metadata": {},
   "outputs": [],
   "source": [
    "data2=[[\"name\",\"email_id\",\"number\"],\n",
    "      [\"anwar\",\"anwar@gamil.com\",8263567],\n",
    "      [\"nadim\",\"nadim@gmail.com\",785467]]   ## Comma seperated values"
   ]
  },
  {
   "cell_type": "code",
   "execution_count": 38,
   "id": "57153772-967a-46c0-a67d-f24e736dbf29",
   "metadata": {},
   "outputs": [],
   "source": [
    "import csv     ##comma seperated values"
   ]
  },
  {
   "cell_type": "code",
   "execution_count": 44,
   "id": "17f7e4cb-167b-4549-a614-f3258dd95920",
   "metadata": {},
   "outputs": [],
   "source": [
    "with open(\"test1.csv\",\"w\")as f:\n",
    "    w=csv.writer(f)\n",
    "    for i in data2:\n",
    "        w.writerow(i)"
   ]
  },
  {
   "cell_type": "code",
   "execution_count": 46,
   "id": "55020fb5-b364-4b8b-8e07-1ddfd9613e23",
   "metadata": {},
   "outputs": [
    {
     "name": "stdout",
     "output_type": "stream",
     "text": [
      "['name', 'email_id', 'number']\n",
      "['anwar', 'anwar@gamil.com', '8263567']\n",
      "['nadim', 'nadim@gmail.com', '785467']\n"
     ]
    }
   ],
   "source": [
    "with open(\"test1.csv\",\"r\")as f:\n",
    "    data=csv.reader(f)\n",
    "    for i in data:\n",
    "        print(i)"
   ]
  },
  {
   "cell_type": "code",
   "execution_count": 48,
   "id": "c6c2b348-9c8a-478d-af10-7843dcfe161e",
   "metadata": {},
   "outputs": [],
   "source": [
    "with open(\"test3.bin\",\"wb\")as f:    ## write binary number to a file\n",
    "    f.write(b\"\\x01\\x02\\x03\")"
   ]
  },
  {
   "cell_type": "code",
   "execution_count": 50,
   "id": "2f200aca-cd00-46c5-adda-402a45bbe8b0",
   "metadata": {},
   "outputs": [
    {
     "name": "stdout",
     "output_type": "stream",
     "text": [
      "b'\\x01\\x02\\x03'\n"
     ]
    }
   ],
   "source": [
    "with open(\"test3.bin\",\"rb\")as f:    ## read binary number from a file\n",
    "    print(f.read())"
   ]
  },
  {
   "cell_type": "markdown",
   "id": "8f2fe69d-a7dc-492b-a807-5100d26422ce",
   "metadata": {},
   "source": [
    "## Buffered class"
   ]
  },
  {
   "cell_type": "code",
   "execution_count": 51,
   "id": "249f0cc4-a7bb-4066-b6d7-90d11c41e594",
   "metadata": {},
   "outputs": [],
   "source": [
    "import io"
   ]
  },
  {
   "cell_type": "code",
   "execution_count": 53,
   "id": "7756b9b6-ac80-49f1-827d-9d22e3378fa2",
   "metadata": {},
   "outputs": [],
   "source": [
    "with open(\"test.txt\",\"wb\")as f:\n",
    "    file=io.BufferedWriter(f)\n",
    "    file.write(b\"ksdbjkwebweiubnqweuiebe\\n\")\n",
    "    file.write(b\"hfbhbfuhfbhwb\")\n",
    "    file.flush()"
   ]
  },
  {
   "cell_type": "code",
   "execution_count": 55,
   "id": "cff2355c-ad41-47f8-899d-0e29f70cbf97",
   "metadata": {},
   "outputs": [
    {
     "name": "stdout",
     "output_type": "stream",
     "text": [
      "b'ksdbjkwebw'\n"
     ]
    }
   ],
   "source": [
    "with open(\"test.txt\",\"rb\")as f:\n",
    "    file=io.BufferedReader(f)\n",
    "    data=f.read(10)       ##read only first 10 from starting\n",
    "    print(data)"
   ]
  },
  {
   "cell_type": "markdown",
   "id": "ef30c1d2-5637-4025-8889-442b79a74a99",
   "metadata": {},
   "source": [
    "## Logging and Debugging"
   ]
  },
  {
   "cell_type": "code",
   "execution_count": 56,
   "id": "a96f7ebd-e036-42e4-8b3c-92ea6388c801",
   "metadata": {},
   "outputs": [
    {
     "name": "stdout",
     "output_type": "stream",
     "text": [
      "hello world\n"
     ]
    }
   ],
   "source": [
    "print(\"hello world\")   ## this is not permentalty stored"
   ]
  },
  {
   "cell_type": "code",
   "execution_count": 1,
   "id": "2c02ad6b-3504-4e3a-b9d1-a5e37bc95cdc",
   "metadata": {},
   "outputs": [],
   "source": [
    "import logging"
   ]
  },
  {
   "cell_type": "code",
   "execution_count": 3,
   "id": "6afcb623-0acc-4494-b850-8cbba7d3cc42",
   "metadata": {},
   "outputs": [],
   "source": [
    "logging.basicConfig(filename=\"test4.log\",level=logging.INFO)"
   ]
  },
  {
   "cell_type": "code",
   "execution_count": 4,
   "id": "0ac952e5-c957-432e-b9fe-0454a1125e59",
   "metadata": {},
   "outputs": [],
   "source": [
    "logging.info(\"this my info log\")"
   ]
  },
  {
   "cell_type": "code",
   "execution_count": 5,
   "id": "2c4a0cb2-9335-4d7a-b7cd-d2ced5421c77",
   "metadata": {},
   "outputs": [],
   "source": [
    "logging.shutdown()"
   ]
  },
  {
   "cell_type": "code",
   "execution_count": 4,
   "id": "0b608592-fe26-4a7a-86eb-cc8069ae911f",
   "metadata": {},
   "outputs": [],
   "source": [
    "logging.basicConfig(filename=\"test2.log\",level=logging.DEBUG,format=\"%(asctime)s %(name)s %(levelname)s %(message)s\")"
   ]
  },
  {
   "cell_type": "code",
   "execution_count": 3,
   "id": "f2a59bb2-b04e-4a69-ac21-3681ee8b38ab",
   "metadata": {},
   "outputs": [],
   "source": [
    "logging.info(\"this is my info log hi\")"
   ]
  },
  {
   "cell_type": "code",
   "execution_count": 7,
   "id": "e4ca4ec3-111b-4458-b04c-53e6a305915a",
   "metadata": {},
   "outputs": [],
   "source": [
    "l=[1,2,3,[4,5,6],\"hi\",\"hello\"]"
   ]
  },
  {
   "cell_type": "code",
   "execution_count": 14,
   "id": "a9397860-5b50-487b-bbc5-f59858ba0123",
   "metadata": {},
   "outputs": [],
   "source": [
    "l1_int=[]\n",
    "l2_str=[]\n",
    "\n",
    "for i in l:\n",
    "    logging.info(\"this is my first for loop{}\".format(l))\n",
    "    logging.info(\"this is value of i iam logging{}\".format(i))    ##Understand pattern of exicution of program\n",
    "    if type(i)==list:\n",
    "        for j in i:\n",
    "            logging.info(\"this is my j {j} and i {i}\".format(i=i,j=j))\n",
    "            if type(j)==int:\n",
    "                l1_int.append(j)\n",
    "    elif type(i)==int:\n",
    "        l1_int.append(i)\n",
    "    else:\n",
    "        if type(i)==str:\n",
    "            l2_str.append(i)\n",
    "logging.info(\"this is my final result with all int{l1} and str{l2}\".format(l1=l1_int,l2=l2_str))"
   ]
  },
  {
   "cell_type": "code",
   "execution_count": 10,
   "id": "5662466f-90ef-402f-9b63-6ab24607f240",
   "metadata": {},
   "outputs": [
    {
     "data": {
      "text/plain": [
       "[1, 2, 3, 4, 5, 6]"
      ]
     },
     "execution_count": 10,
     "metadata": {},
     "output_type": "execute_result"
    }
   ],
   "source": [
    "l1_int"
   ]
  },
  {
   "cell_type": "code",
   "execution_count": 11,
   "id": "e630f9d0-a452-453c-9f2c-d615e5dc29b0",
   "metadata": {},
   "outputs": [
    {
     "data": {
      "text/plain": [
       "['hi', 'hello']"
      ]
     },
     "execution_count": 11,
     "metadata": {},
     "output_type": "execute_result"
    }
   ],
   "source": [
    "l2_str"
   ]
  },
  {
   "cell_type": "code",
   "execution_count": null,
   "id": "98072475-86a4-41df-8864-dafdf1a0bb1d",
   "metadata": {},
   "outputs": [],
   "source": []
  }
 ],
 "metadata": {
  "kernelspec": {
   "display_name": "Python 3 (ipykernel)",
   "language": "python",
   "name": "python3"
  },
  "language_info": {
   "codemirror_mode": {
    "name": "ipython",
    "version": 3
   },
   "file_extension": ".py",
   "mimetype": "text/x-python",
   "name": "python",
   "nbconvert_exporter": "python",
   "pygments_lexer": "ipython3",
   "version": "3.10.8"
  }
 },
 "nbformat": 4,
 "nbformat_minor": 5
}
