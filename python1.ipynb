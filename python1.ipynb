{
 "cells": [
  {
   "cell_type": "code",
   "execution_count": 7,
   "id": "6d4abcc3-535f-4fa7-8b93-c773bd557c35",
   "metadata": {},
   "outputs": [
    {
     "data": {
      "text/plain": [
       "2"
      ]
     },
     "execution_count": 7,
     "metadata": {},
     "output_type": "execute_result"
    }
   ],
   "source": [
    "1+1"
   ]
  },
  {
   "cell_type": "code",
   "execution_count": 10,
   "id": "31d972f1-380b-4f48-be58-71966ecd9c1d",
   "metadata": {},
   "outputs": [],
   "source": [
    "## comment"
   ]
  },
  {
   "cell_type": "code",
   "execution_count": 12,
   "id": "dab328d1-f839-4787-a48c-dd471eb5d1d5",
   "metadata": {},
   "outputs": [
    {
     "data": {
      "text/plain": [
       "10"
      ]
     },
     "execution_count": 12,
     "metadata": {},
     "output_type": "execute_result"
    }
   ],
   "source": [
    "\"\"\"\n",
    "multiLine comment\n",
    "\"\"\"\n",
    "a=10\n",
    "a"
   ]
  },
  {
   "cell_type": "markdown",
   "id": "51ce90e6-95de-4c0d-a74b-341279dfccde",
   "metadata": {},
   "source": [
    "## numbers"
   ]
  },
  {
   "cell_type": "code",
   "execution_count": 13,
   "id": "2322ada3-6af6-449e-bffa-cdcf549686c7",
   "metadata": {},
   "outputs": [
    {
     "data": {
      "text/plain": [
       "10"
      ]
     },
     "execution_count": 13,
     "metadata": {},
     "output_type": "execute_result"
    }
   ],
   "source": [
    "1+9"
   ]
  },
  {
   "cell_type": "markdown",
   "id": "fa79e391-5c74-4195-b894-f6674cd50284",
   "metadata": {},
   "source": [
    "### like terminal"
   ]
  },
  {
   "cell_type": "code",
   "execution_count": 17,
   "id": "ee1901ca-c31b-49c6-854e-1a1dffe96fdd",
   "metadata": {},
   "outputs": [
    {
     "name": "stdout",
     "output_type": "stream",
     "text": [
      "wsnduiedeui\n",
      "wjdouiwjhndweuohduoh\n"
     ]
    }
   ],
   "source": [
    "print(\"wsnduiedeui\\nwjdouiwjhndweuohduoh\")"
   ]
  },
  {
   "cell_type": "markdown",
   "id": "20139252-84f9-4c0b-aa01-d9bc4352f12a",
   "metadata": {},
   "source": [
    "## variable assignment\n"
   ]
  },
  {
   "cell_type": "code",
   "execution_count": 18,
   "id": "4edbec29-2509-4ff8-bd57-30bd7e8b1f68",
   "metadata": {},
   "outputs": [],
   "source": [
    "name=\"anwar\"\n",
    "company=\"oracle\""
   ]
  },
  {
   "cell_type": "code",
   "execution_count": 19,
   "id": "fee719e5-240c-40af-b8d2-28a1334edc24",
   "metadata": {},
   "outputs": [
    {
     "data": {
      "text/plain": [
       "'anwar'"
      ]
     },
     "execution_count": 19,
     "metadata": {},
     "output_type": "execute_result"
    }
   ],
   "source": [
    "name"
   ]
  },
  {
   "cell_type": "code",
   "execution_count": 20,
   "id": "6fd883f8-254e-4cb9-9044-c84235c351e0",
   "metadata": {},
   "outputs": [],
   "source": [
    "number=10"
   ]
  },
  {
   "cell_type": "code",
   "execution_count": 21,
   "id": "bef9d01e-747a-450b-8f4d-fe071f830553",
   "metadata": {},
   "outputs": [
    {
     "data": {
      "text/plain": [
       "10"
      ]
     },
     "execution_count": 21,
     "metadata": {},
     "output_type": "execute_result"
    }
   ],
   "source": [
    "number\n"
   ]
  },
  {
   "cell_type": "code",
   "execution_count": 22,
   "id": "56a2ee4c-1c1b-4032-9fa5-22133d2bb92e",
   "metadata": {},
   "outputs": [],
   "source": [
    "name=\"shukoor\""
   ]
  },
  {
   "cell_type": "code",
   "execution_count": 23,
   "id": "2e52571a-235b-4e8b-9504-29aca66510fc",
   "metadata": {},
   "outputs": [
    {
     "data": {
      "text/plain": [
       "'shukoor'"
      ]
     },
     "execution_count": 23,
     "metadata": {},
     "output_type": "execute_result"
    }
   ],
   "source": [
    "name\n"
   ]
  },
  {
   "cell_type": "code",
   "execution_count": 24,
   "id": "af945a67-60ff-4309-b899-a9bd21fa86ea",
   "metadata": {},
   "outputs": [
    {
     "data": {
      "text/plain": [
       "str"
      ]
     },
     "execution_count": 24,
     "metadata": {},
     "output_type": "execute_result"
    }
   ],
   "source": [
    "type(\"\")\n"
   ]
  },
  {
   "cell_type": "code",
   "execution_count": 25,
   "id": "5857c389-1b56-42c7-85e7-a358f7ee4074",
   "metadata": {},
   "outputs": [
    {
     "data": {
      "text/plain": [
       "str"
      ]
     },
     "execution_count": 25,
     "metadata": {},
     "output_type": "execute_result"
    }
   ],
   "source": [
    "type(\"jmwisxjwi\")\n"
   ]
  },
  {
   "cell_type": "code",
   "execution_count": 26,
   "id": "e9b04445-7d0f-4f01-a4c5-c5aa9fceb3c0",
   "metadata": {},
   "outputs": [
    {
     "data": {
      "text/plain": [
       "str"
      ]
     },
     "execution_count": 26,
     "metadata": {},
     "output_type": "execute_result"
    }
   ],
   "source": [
    "type(name)\n"
   ]
  },
  {
   "cell_type": "code",
   "execution_count": 27,
   "id": "9ccd5a1f-48af-4a89-85e1-e0e586637a13",
   "metadata": {},
   "outputs": [
    {
     "data": {
      "text/plain": [
       "int"
      ]
     },
     "execution_count": 27,
     "metadata": {},
     "output_type": "execute_result"
    }
   ],
   "source": [
    "type(number)\n"
   ]
  },
  {
   "cell_type": "code",
   "execution_count": 28,
   "id": "f053cb4c-509e-47e8-a453-550cc7a7be6e",
   "metadata": {},
   "outputs": [],
   "source": [
    "decimal=2.9"
   ]
  },
  {
   "cell_type": "code",
   "execution_count": 29,
   "id": "81a68bb4-e39d-4f03-abe3-788dc96088f9",
   "metadata": {},
   "outputs": [
    {
     "data": {
      "text/plain": [
       "2.9"
      ]
     },
     "execution_count": 29,
     "metadata": {},
     "output_type": "execute_result"
    }
   ],
   "source": [
    "decimal\n"
   ]
  },
  {
   "cell_type": "code",
   "execution_count": 30,
   "id": "d07accf6-b369-4e8b-b142-11d350b374dc",
   "metadata": {},
   "outputs": [
    {
     "data": {
      "text/plain": [
       "float"
      ]
     },
     "execution_count": 30,
     "metadata": {},
     "output_type": "execute_result"
    }
   ],
   "source": [
    "type(decimal)\n"
   ]
  },
  {
   "cell_type": "code",
   "execution_count": 33,
   "id": "c5ef92b9-0035-4c6c-babe-98b1925f797f",
   "metadata": {},
   "outputs": [
    {
     "data": {
      "text/plain": [
       "complex"
      ]
     },
     "execution_count": 33,
     "metadata": {},
     "output_type": "execute_result"
    }
   ],
   "source": [
    "type(1+2j)\n"
   ]
  },
  {
   "cell_type": "code",
   "execution_count": 34,
   "id": "95930a3f-7a68-4cf5-b9a5-8571a2c1c686",
   "metadata": {},
   "outputs": [
    {
     "ename": "NameError",
     "evalue": "name 'true' is not defined",
     "output_type": "error",
     "traceback": [
      "\u001b[0;31m---------------------------------------------------------------------------\u001b[0m",
      "\u001b[0;31mNameError\u001b[0m                                 Traceback (most recent call last)",
      "Cell \u001b[0;32mIn[34], line 1\u001b[0m\n\u001b[0;32m----> 1\u001b[0m \u001b[43mtrue\u001b[49m\n",
      "\u001b[0;31mNameError\u001b[0m: name 'true' is not defined"
     ]
    }
   ],
   "source": [
    " true\n",
    "    "
   ]
  },
  {
   "cell_type": "code",
   "execution_count": 35,
   "id": "a9b09f29-3287-479b-bcbb-4ea06d7ec4b9",
   "metadata": {},
   "outputs": [
    {
     "ename": "NameError",
     "evalue": "name 'true' is not defined",
     "output_type": "error",
     "traceback": [
      "\u001b[0;31m---------------------------------------------------------------------------\u001b[0m",
      "\u001b[0;31mNameError\u001b[0m                                 Traceback (most recent call last)",
      "Cell \u001b[0;32mIn[35], line 1\u001b[0m\n\u001b[0;32m----> 1\u001b[0m \u001b[43mtrue\u001b[49m\n",
      "\u001b[0;31mNameError\u001b[0m: name 'true' is not defined"
     ]
    }
   ],
   "source": [
    "true"
   ]
  },
  {
   "cell_type": "code",
   "execution_count": 36,
   "id": "34015956-2ff6-4b8b-8c3e-3bf31e67190b",
   "metadata": {},
   "outputs": [
    {
     "data": {
      "text/plain": [
       "True"
      ]
     },
     "execution_count": 36,
     "metadata": {},
     "output_type": "execute_result"
    }
   ],
   "source": [
    "True"
   ]
  },
  {
   "cell_type": "code",
   "execution_count": 37,
   "id": "3e97149f-cd47-4f90-b06b-b674ad28e1c0",
   "metadata": {},
   "outputs": [
    {
     "ename": "NameError",
     "evalue": "name 'false' is not defined",
     "output_type": "error",
     "traceback": [
      "\u001b[0;31m---------------------------------------------------------------------------\u001b[0m",
      "\u001b[0;31mNameError\u001b[0m                                 Traceback (most recent call last)",
      "Cell \u001b[0;32mIn[37], line 1\u001b[0m\n\u001b[0;32m----> 1\u001b[0m \u001b[43mfalse\u001b[49m\n",
      "\u001b[0;31mNameError\u001b[0m: name 'false' is not defined"
     ]
    }
   ],
   "source": [
    "false"
   ]
  },
  {
   "cell_type": "code",
   "execution_count": 38,
   "id": "9878bc88-bef4-49c7-a32f-25d6a3bdecd0",
   "metadata": {},
   "outputs": [
    {
     "data": {
      "text/plain": [
       "False"
      ]
     },
     "execution_count": 38,
     "metadata": {},
     "output_type": "execute_result"
    }
   ],
   "source": [
    "False\n"
   ]
  },
  {
   "cell_type": "code",
   "execution_count": 39,
   "id": "a6a33110-8abf-494c-90d0-c0961897819a",
   "metadata": {},
   "outputs": [
    {
     "data": {
      "text/plain": [
       "bool"
      ]
     },
     "execution_count": 39,
     "metadata": {},
     "output_type": "execute_result"
    }
   ],
   "source": [
    "type(True)"
   ]
  },
  {
   "cell_type": "code",
   "execution_count": 40,
   "id": "1a79aa47-513c-4760-8131-0771025a5e2a",
   "metadata": {},
   "outputs": [
    {
     "data": {
      "text/plain": [
       "True"
      ]
     },
     "execution_count": 40,
     "metadata": {},
     "output_type": "execute_result"
    }
   ],
   "source": [
    "not False"
   ]
  },
  {
   "cell_type": "code",
   "execution_count": 41,
   "id": "08d2e549-39e1-480a-9cb9-9a8e5d3df02c",
   "metadata": {},
   "outputs": [
    {
     "data": {
      "text/plain": [
       "False"
      ]
     },
     "execution_count": 41,
     "metadata": {},
     "output_type": "execute_result"
    }
   ],
   "source": [
    "not True\n"
   ]
  },
  {
   "cell_type": "code",
   "execution_count": 43,
   "id": "40e8cfe7-747f-4864-b1b2-b88ef9593d07",
   "metadata": {},
   "outputs": [
    {
     "name": "stdout",
     "output_type": "stream",
     "text": [
      "True\n"
     ]
    }
   ],
   "source": [
    "a=1\n",
    "if bool(a)==True:\n",
    " print(\"True\")"
   ]
  },
  {
   "cell_type": "code",
   "execution_count": 44,
   "id": "a0b5db62-5b86-4694-a11b-3bbbb5f4f533",
   "metadata": {},
   "outputs": [
    {
     "data": {
      "text/plain": [
       "'23'"
      ]
     },
     "execution_count": 44,
     "metadata": {},
     "output_type": "execute_result"
    }
   ],
   "source": [
    "str(23)\n"
   ]
  },
  {
   "cell_type": "code",
   "execution_count": 45,
   "id": "52a4c2eb-c948-4f8e-aec1-9bfe2bf537d4",
   "metadata": {},
   "outputs": [
    {
     "data": {
      "text/plain": [
       "'223'"
      ]
     },
     "execution_count": 45,
     "metadata": {},
     "output_type": "execute_result"
    }
   ],
   "source": [
    "str(\"223\")\n"
   ]
  },
  {
   "cell_type": "code",
   "execution_count": 47,
   "id": "7dfcd61d-a302-4c88-af1e-fce6d5d1b24a",
   "metadata": {},
   "outputs": [
    {
     "data": {
      "text/plain": [
       "int"
      ]
     },
     "execution_count": 47,
     "metadata": {},
     "output_type": "execute_result"
    }
   ],
   "source": [
    "type(int(\"23\"))\n"
   ]
  },
  {
   "cell_type": "markdown",
   "id": "75054489-8254-4e3d-91d2-8df4d45daf96",
   "metadata": {},
   "source": [
    "## Dynamic type"
   ]
  },
  {
   "cell_type": "code",
   "execution_count": 48,
   "id": "0433d06f-95b2-496d-a34f-aa34ad01bede",
   "metadata": {},
   "outputs": [
    {
     "data": {
      "text/plain": [
       "str"
      ]
     },
     "execution_count": 48,
     "metadata": {},
     "output_type": "execute_result"
    }
   ],
   "source": [
    "a=10\n",
    "a=\"anwar\"\n",
    "type(a)"
   ]
  },
  {
   "cell_type": "code",
   "execution_count": 49,
   "id": "b8bd7802-72f8-4052-9199-44cbe50c2333",
   "metadata": {},
   "outputs": [],
   "source": [
    "## concatination between two diffrent types"
   ]
  },
  {
   "cell_type": "code",
   "execution_count": 50,
   "id": "372f46ee-dd4e-4c71-bcb8-18cf25c39ae9",
   "metadata": {},
   "outputs": [
    {
     "data": {
      "text/plain": [
       "'11'"
      ]
     },
     "execution_count": 50,
     "metadata": {},
     "output_type": "execute_result"
    }
   ],
   "source": [
    "\"1\"+\"1\""
   ]
  },
  {
   "cell_type": "code",
   "execution_count": 51,
   "id": "6ce02f2c-3df4-4502-baeb-052a7ae25215",
   "metadata": {},
   "outputs": [
    {
     "data": {
      "text/plain": [
       "2"
      ]
     },
     "execution_count": 51,
     "metadata": {},
     "output_type": "execute_result"
    }
   ],
   "source": [
    "int(\"1\")+int(\"1\")"
   ]
  },
  {
   "cell_type": "code",
   "execution_count": 52,
   "id": "2cd6d132-d4a1-4a61-bb85-0715176b5323",
   "metadata": {},
   "outputs": [
    {
     "ename": "TypeError",
     "evalue": "can't multiply sequence by non-int of type 'str'",
     "output_type": "error",
     "traceback": [
      "\u001b[0;31m---------------------------------------------------------------------------\u001b[0m",
      "\u001b[0;31mTypeError\u001b[0m                                 Traceback (most recent call last)",
      "Cell \u001b[0;32mIn[52], line 1\u001b[0m\n\u001b[0;32m----> 1\u001b[0m \u001b[38;5;124;43m\"\u001b[39;49m\u001b[38;5;124;43m1\u001b[39;49m\u001b[38;5;124;43m\"\u001b[39;49m\u001b[38;5;241;43m*\u001b[39;49m\u001b[38;5;124;43m\"\u001b[39;49m\u001b[38;5;124;43m1\u001b[39;49m\u001b[38;5;124;43m\"\u001b[39;49m\n",
      "\u001b[0;31mTypeError\u001b[0m: can't multiply sequence by non-int of type 'str'"
     ]
    }
   ],
   "source": [
    "\"1\"*\"1\"\n",
    "\n"
   ]
  },
  {
   "cell_type": "code",
   "execution_count": 53,
   "id": "860d2fed-5737-40ca-aca3-e6f49ace68ca",
   "metadata": {},
   "outputs": [
    {
     "data": {
      "text/plain": [
       "'1111111111111111111111111111111111111111111111111111111111111111111111111111111111111111111111111111'"
      ]
     },
     "execution_count": 53,
     "metadata": {},
     "output_type": "execute_result"
    }
   ],
   "source": [
    "\"1\"*100"
   ]
  },
  {
   "cell_type": "code",
   "execution_count": null,
   "id": "3f91ac71-595e-4d3e-89f1-732ce0a537ef",
   "metadata": {},
   "outputs": [],
   "source": []
  }
 ],
 "metadata": {
  "kernelspec": {
   "display_name": "Python 3 (ipykernel)",
   "language": "python",
   "name": "python3"
  },
  "language_info": {
   "codemirror_mode": {
    "name": "ipython",
    "version": 3
   },
   "file_extension": ".py",
   "mimetype": "text/x-python",
   "name": "python",
   "nbconvert_exporter": "python",
   "pygments_lexer": "ipython3",
   "version": "3.10.8"
  }
 },
 "nbformat": 4,
 "nbformat_minor": 5
}
