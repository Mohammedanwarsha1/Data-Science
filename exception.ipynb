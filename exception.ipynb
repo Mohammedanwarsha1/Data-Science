{
 "cells": [
  {
   "cell_type": "code",
   "execution_count": 1,
   "id": "672ecd9f-f7e5-430c-9338-4c3d2cda85d0",
   "metadata": {},
   "outputs": [],
   "source": [
    "a=10"
   ]
  },
  {
   "cell_type": "code",
   "execution_count": 2,
   "id": "03221750-1061-4266-8999-e2f89040ae3e",
   "metadata": {},
   "outputs": [
    {
     "ename": "ZeroDivisionError",
     "evalue": "division by zero",
     "output_type": "error",
     "traceback": [
      "\u001b[0;31m---------------------------------------------------------------------------\u001b[0m",
      "\u001b[0;31mZeroDivisionError\u001b[0m                         Traceback (most recent call last)",
      "Cell \u001b[0;32mIn[2], line 1\u001b[0m\n\u001b[0;32m----> 1\u001b[0m \u001b[43ma\u001b[49m\u001b[38;5;241;43m/\u001b[39;49m\u001b[38;5;241;43m0\u001b[39;49m\n",
      "\u001b[0;31mZeroDivisionError\u001b[0m: division by zero"
     ]
    }
   ],
   "source": [
    "a/0"
   ]
  },
  {
   "cell_type": "code",
   "execution_count": 4,
   "id": "a6506ef2-8685-4b4b-abc0-277412e68db1",
   "metadata": {},
   "outputs": [
    {
     "ename": "FileNotFoundError",
     "evalue": "[Errno 2] No such file or directory: 'test6.txt'",
     "output_type": "error",
     "traceback": [
      "\u001b[0;31m---------------------------------------------------------------------------\u001b[0m",
      "\u001b[0;31mFileNotFoundError\u001b[0m                         Traceback (most recent call last)",
      "Cell \u001b[0;32mIn[4], line 1\u001b[0m\n\u001b[0;32m----> 1\u001b[0m f\u001b[38;5;241m=\u001b[39m\u001b[38;5;28;43mopen\u001b[39;49m\u001b[43m(\u001b[49m\u001b[38;5;124;43m\"\u001b[39;49m\u001b[38;5;124;43mtest6.txt\u001b[39;49m\u001b[38;5;124;43m\"\u001b[39;49m\u001b[43m,\u001b[49m\u001b[38;5;124;43m\"\u001b[39;49m\u001b[38;5;124;43mr\u001b[39;49m\u001b[38;5;124;43m\"\u001b[39;49m\u001b[43m)\u001b[49m\n\u001b[1;32m      2\u001b[0m \u001b[38;5;28mprint\u001b[39m(\u001b[38;5;124m\"\u001b[39m\u001b[38;5;124mhello world\u001b[39m\u001b[38;5;124m\"\u001b[39m)\n",
      "File \u001b[0;32m/opt/conda/lib/python3.10/site-packages/IPython/core/interactiveshell.py:282\u001b[0m, in \u001b[0;36m_modified_open\u001b[0;34m(file, *args, **kwargs)\u001b[0m\n\u001b[1;32m    275\u001b[0m \u001b[38;5;28;01mif\u001b[39;00m file \u001b[38;5;129;01min\u001b[39;00m {\u001b[38;5;241m0\u001b[39m, \u001b[38;5;241m1\u001b[39m, \u001b[38;5;241m2\u001b[39m}:\n\u001b[1;32m    276\u001b[0m     \u001b[38;5;28;01mraise\u001b[39;00m \u001b[38;5;167;01mValueError\u001b[39;00m(\n\u001b[1;32m    277\u001b[0m         \u001b[38;5;124mf\u001b[39m\u001b[38;5;124m\"\u001b[39m\u001b[38;5;124mIPython won\u001b[39m\u001b[38;5;124m'\u001b[39m\u001b[38;5;124mt let you open fd=\u001b[39m\u001b[38;5;132;01m{\u001b[39;00mfile\u001b[38;5;132;01m}\u001b[39;00m\u001b[38;5;124m by default \u001b[39m\u001b[38;5;124m\"\u001b[39m\n\u001b[1;32m    278\u001b[0m         \u001b[38;5;124m\"\u001b[39m\u001b[38;5;124mas it is likely to crash IPython. If you know what you are doing, \u001b[39m\u001b[38;5;124m\"\u001b[39m\n\u001b[1;32m    279\u001b[0m         \u001b[38;5;124m\"\u001b[39m\u001b[38;5;124myou can use builtins\u001b[39m\u001b[38;5;124m'\u001b[39m\u001b[38;5;124m open.\u001b[39m\u001b[38;5;124m\"\u001b[39m\n\u001b[1;32m    280\u001b[0m     )\n\u001b[0;32m--> 282\u001b[0m \u001b[38;5;28;01mreturn\u001b[39;00m \u001b[43mio_open\u001b[49m\u001b[43m(\u001b[49m\u001b[43mfile\u001b[49m\u001b[43m,\u001b[49m\u001b[43m \u001b[49m\u001b[38;5;241;43m*\u001b[39;49m\u001b[43margs\u001b[49m\u001b[43m,\u001b[49m\u001b[43m \u001b[49m\u001b[38;5;241;43m*\u001b[39;49m\u001b[38;5;241;43m*\u001b[39;49m\u001b[43mkwargs\u001b[49m\u001b[43m)\u001b[49m\n",
      "\u001b[0;31mFileNotFoundError\u001b[0m: [Errno 2] No such file or directory: 'test6.txt'"
     ]
    }
   ],
   "source": [
    "f=open(\"test6.txt\",\"r\")\n",
    "print(\"hello world\")   ## Stops next line of exicution"
   ]
  },
  {
   "cell_type": "markdown",
   "id": "c0a90c31-849f-4407-90ae-797f8177ec53",
   "metadata": {},
   "source": [
    "## Exception Handling"
   ]
  },
  {
   "cell_type": "code",
   "execution_count": 7,
   "id": "42444661-b16b-4d7c-8060-fdae23ae8093",
   "metadata": {},
   "outputs": [
    {
     "name": "stdout",
     "output_type": "stream",
     "text": [
      "there is issue with my code [Errno 2] No such file or directory: 'test6.txt'\n",
      "this is my print\n"
     ]
    },
    {
     "data": {
      "text/plain": [
       "10"
      ]
     },
     "execution_count": 7,
     "metadata": {},
     "output_type": "execute_result"
    }
   ],
   "source": [
    "try:\n",
    "    f=open(\"test6.txt\",\"r\")\n",
    "except Exception as e:\n",
    "    print(\"there is issue with my code\",e)\n",
    "print(\"this is my print\")  ## After exception is handled next line of code can exicute itsself\n",
    "a=10\n",
    "a"
   ]
  },
  {
   "cell_type": "code",
   "execution_count": 8,
   "id": "027dea4b-85a4-4657-8986-fcbf77ef648c",
   "metadata": {},
   "outputs": [
    {
     "name": "stdout",
     "output_type": "stream",
     "text": [
      "this block will exicute itself without any exception\n"
     ]
    }
   ],
   "source": [
    "try:\n",
    "    f=open(\"test6.txt\",\"w\")\n",
    "    f.write(\"this is my file\")\n",
    "except Exception as e:\n",
    "    print(\"there is issue with my code\",e)\n",
    "else:       ## Else block will exicute when there is no exception\n",
    "    f.close()\n",
    "    print(\"this block will exicute itself without any exception\")"
   ]
  },
  {
   "cell_type": "code",
   "execution_count": 9,
   "id": "752c22fa-877b-4c5f-b017-ab3db1df264c",
   "metadata": {},
   "outputs": [
    {
     "name": "stdout",
     "output_type": "stream",
     "text": [
      "there is issue with my code [Errno 2] No such file or directory: 'test7.txt'\n"
     ]
    }
   ],
   "source": [
    "try:\n",
    "    f=open(\"test7.txt\",\"r\")\n",
    "    f.write(\"this is my file\")\n",
    "except Exception as e:\n",
    "    print(\"there is issue with my code\",e)\n",
    "else:\n",
    "    f.close()\n",
    "    print(\"this block will exicute itself without any exception\")"
   ]
  },
  {
   "cell_type": "code",
   "execution_count": 10,
   "id": "6b1db6f7-940b-4853-b4e5-73a643783710",
   "metadata": {},
   "outputs": [
    {
     "name": "stdout",
     "output_type": "stream",
     "text": [
      "this block always exicute\n"
     ]
    },
    {
     "ename": "FileNotFoundError",
     "evalue": "[Errno 2] No such file or directory: 'test7.txt'",
     "output_type": "error",
     "traceback": [
      "\u001b[0;31m---------------------------------------------------------------------------\u001b[0m",
      "\u001b[0;31mFileNotFoundError\u001b[0m                         Traceback (most recent call last)",
      "Cell \u001b[0;32mIn[10], line 2\u001b[0m\n\u001b[1;32m      1\u001b[0m \u001b[38;5;28;01mtry\u001b[39;00m:\n\u001b[0;32m----> 2\u001b[0m     f\u001b[38;5;241m=\u001b[39m\u001b[38;5;28;43mopen\u001b[39;49m\u001b[43m(\u001b[49m\u001b[38;5;124;43m\"\u001b[39;49m\u001b[38;5;124;43mtest7.txt\u001b[39;49m\u001b[38;5;124;43m\"\u001b[39;49m\u001b[43m,\u001b[49m\u001b[38;5;124;43m\"\u001b[39;49m\u001b[38;5;124;43mr\u001b[39;49m\u001b[38;5;124;43m\"\u001b[39;49m\u001b[43m)\u001b[49m\n\u001b[1;32m      3\u001b[0m     f\u001b[38;5;241m.\u001b[39mwrite(\u001b[38;5;124m\"\u001b[39m\u001b[38;5;124mthis is my file\u001b[39m\u001b[38;5;124m\"\u001b[39m)\n\u001b[1;32m      4\u001b[0m \u001b[38;5;28;01mfinally\u001b[39;00m:\n",
      "File \u001b[0;32m/opt/conda/lib/python3.10/site-packages/IPython/core/interactiveshell.py:282\u001b[0m, in \u001b[0;36m_modified_open\u001b[0;34m(file, *args, **kwargs)\u001b[0m\n\u001b[1;32m    275\u001b[0m \u001b[38;5;28;01mif\u001b[39;00m file \u001b[38;5;129;01min\u001b[39;00m {\u001b[38;5;241m0\u001b[39m, \u001b[38;5;241m1\u001b[39m, \u001b[38;5;241m2\u001b[39m}:\n\u001b[1;32m    276\u001b[0m     \u001b[38;5;28;01mraise\u001b[39;00m \u001b[38;5;167;01mValueError\u001b[39;00m(\n\u001b[1;32m    277\u001b[0m         \u001b[38;5;124mf\u001b[39m\u001b[38;5;124m\"\u001b[39m\u001b[38;5;124mIPython won\u001b[39m\u001b[38;5;124m'\u001b[39m\u001b[38;5;124mt let you open fd=\u001b[39m\u001b[38;5;132;01m{\u001b[39;00mfile\u001b[38;5;132;01m}\u001b[39;00m\u001b[38;5;124m by default \u001b[39m\u001b[38;5;124m\"\u001b[39m\n\u001b[1;32m    278\u001b[0m         \u001b[38;5;124m\"\u001b[39m\u001b[38;5;124mas it is likely to crash IPython. If you know what you are doing, \u001b[39m\u001b[38;5;124m\"\u001b[39m\n\u001b[1;32m    279\u001b[0m         \u001b[38;5;124m\"\u001b[39m\u001b[38;5;124myou can use builtins\u001b[39m\u001b[38;5;124m'\u001b[39m\u001b[38;5;124m open.\u001b[39m\u001b[38;5;124m\"\u001b[39m\n\u001b[1;32m    280\u001b[0m     )\n\u001b[0;32m--> 282\u001b[0m \u001b[38;5;28;01mreturn\u001b[39;00m \u001b[43mio_open\u001b[49m\u001b[43m(\u001b[49m\u001b[43mfile\u001b[49m\u001b[43m,\u001b[49m\u001b[43m \u001b[49m\u001b[38;5;241;43m*\u001b[39;49m\u001b[43margs\u001b[49m\u001b[43m,\u001b[49m\u001b[43m \u001b[49m\u001b[38;5;241;43m*\u001b[39;49m\u001b[38;5;241;43m*\u001b[39;49m\u001b[43mkwargs\u001b[49m\u001b[43m)\u001b[49m\n",
      "\u001b[0;31mFileNotFoundError\u001b[0m: [Errno 2] No such file or directory: 'test7.txt'"
     ]
    }
   ],
   "source": [
    "try:\n",
    "    f=open(\"test7.txt\",\"r\")\n",
    "    f.write(\"this is my file\")\n",
    "finally:\n",
    "    print(\"this block always exicute\")"
   ]
  },
  {
   "cell_type": "code",
   "execution_count": 11,
   "id": "ad5d3335-e030-4e36-b061-d21c16f2924e",
   "metadata": {},
   "outputs": [
    {
     "name": "stdout",
     "output_type": "stream",
     "text": [
      "there is issue with my code [Errno 2] No such file or directory: 'test7.txt'\n",
      "i will always exicute\n"
     ]
    }
   ],
   "source": [
    "try:\n",
    "    f=open(\"test7.txt\",\"r\")\n",
    "    f.write(\"this is my file\")\n",
    "except Exception as e:\n",
    "    print(\"there is issue with my code\",e)\n",
    "else:\n",
    "    f.close()\n",
    "    print(\"this block will exicute itself without any exception\")\n",
    "finally:\n",
    "    print(\"i will always exicute\")"
   ]
  },
  {
   "cell_type": "markdown",
   "id": "d13657cd-8a1a-4e2a-ab14-1599e8ef7409",
   "metadata": {},
   "source": [
    "## custum exception"
   ]
  },
  {
   "cell_type": "code",
   "execution_count": 1,
   "id": "2bbd7f06-6197-4d6a-aa3c-ac26f16ebc49",
   "metadata": {},
   "outputs": [
    {
     "name": "stdin",
     "output_type": "stream",
     "text": [
      "enter the age -12\n"
     ]
    }
   ],
   "source": [
    "age=int(input(\"enter the age\"))"
   ]
  },
  {
   "cell_type": "code",
   "execution_count": 2,
   "id": "465ef4a5-5915-4b35-9e68-9c81aeb69aa7",
   "metadata": {},
   "outputs": [],
   "source": [
    "class validate_age(Exception):\n",
    "    def __init__(self,msg):\n",
    "        self.msg=msg"
   ]
  },
  {
   "cell_type": "code",
   "execution_count": 6,
   "id": "e07f49c7-349f-47d1-b3d1-ea885ba0eb70",
   "metadata": {},
   "outputs": [],
   "source": [
    "def validateage(age):\n",
    "    if age<0:\n",
    "        raise validate_age(\"the age cannot be negative\")\n",
    "    elif age>200:\n",
    "        raise validate_age(\"age is too high\")\n",
    "    else:\n",
    "        print(\"age is valid\")\n",
    "        "
   ]
  },
  {
   "cell_type": "code",
   "execution_count": 7,
   "id": "5bd39fe6-d2cc-4143-8466-01d9fed3e96e",
   "metadata": {},
   "outputs": [
    {
     "name": "stdin",
     "output_type": "stream",
     "text": [
      "enter the age 900\n"
     ]
    },
    {
     "name": "stdout",
     "output_type": "stream",
     "text": [
      "age is too high\n"
     ]
    }
   ],
   "source": [
    "try:\n",
    "    age=int(input(\"enter the age\"))\n",
    "    validateage(age)\n",
    "except validate_age as e:\n",
    "    print(e)"
   ]
  },
  {
   "cell_type": "code",
   "execution_count": 8,
   "id": "a21336ee-9335-4d28-9813-583d259c07c7",
   "metadata": {},
   "outputs": [
    {
     "name": "stdout",
     "output_type": "stream",
     "text": [
      "division by zero\n"
     ]
    }
   ],
   "source": [
    "try:\n",
    "    a=10\n",
    "    10/0\n",
    "except ZeroDivisionError as e:\n",
    "    print(e)"
   ]
  },
  {
   "cell_type": "code",
   "execution_count": 11,
   "id": "27ac41eb-7745-42b1-9c38-7ab5ddc8c0be",
   "metadata": {},
   "outputs": [
    {
     "name": "stdout",
     "output_type": "stream",
     "text": [
      "invalid literal for int() with base 10: 'anwar'\n"
     ]
    }
   ],
   "source": [
    "try:\n",
    "    int(\"anwar\")\n",
    "except (ValueError,TypeError)as e:\n",
    "    print(e)"
   ]
  },
  {
   "cell_type": "code",
   "execution_count": 12,
   "id": "066a43e7-45c9-4bf6-8feb-987a0f0950b4",
   "metadata": {},
   "outputs": [
    {
     "name": "stdout",
     "output_type": "stream",
     "text": [
      "No module named 'anwar'\n"
     ]
    }
   ],
   "source": [
    "try:\n",
    "    import anwar\n",
    "except ImportError as e:\n",
    "    print(e)"
   ]
  },
  {
   "cell_type": "code",
   "execution_count": 13,
   "id": "ed8c2141-c04f-4073-aec5-5a932e59678f",
   "metadata": {},
   "outputs": [
    {
     "name": "stdout",
     "output_type": "stream",
     "text": [
      "'key10'\n"
     ]
    }
   ],
   "source": [
    "try:\n",
    "    d={1:[1,2,3],\"key\":\"hello\"}\n",
    "    d[\"key10\"]\n",
    "except KeyError as e:\n",
    "    print(e)"
   ]
  },
  {
   "cell_type": "code",
   "execution_count": 14,
   "id": "a839f23c-8b3e-42de-9925-41f94789673e",
   "metadata": {},
   "outputs": [
    {
     "name": "stdout",
     "output_type": "stream",
     "text": [
      "'str' object has no attribute 'test'\n"
     ]
    }
   ],
   "source": [
    "try:\n",
    "    \"arun\".test()\n",
    "except AttributeError as e:\n",
    "    print(e)"
   ]
  },
  {
   "cell_type": "code",
   "execution_count": 15,
   "id": "5e968b0c-d50c-44cb-9d4a-499448a54efa",
   "metadata": {},
   "outputs": [
    {
     "name": "stdout",
     "output_type": "stream",
     "text": [
      "list index out of range\n"
     ]
    }
   ],
   "source": [
    "try:\n",
    "    l=[1,2,3,45,5]\n",
    "    l[10]\n",
    "except IndexError as e:\n",
    "    print(e)"
   ]
  },
  {
   "cell_type": "code",
   "execution_count": 16,
   "id": "6860ba54-dc34-4d61-8bfc-2eade4210ee1",
   "metadata": {},
   "outputs": [
    {
     "name": "stdout",
     "output_type": "stream",
     "text": [
      "unsupported operand type(s) for +: 'int' and 'str'\n"
     ]
    }
   ],
   "source": [
    "try:\n",
    "    123+\"hi\"\n",
    "except TypeError as e:\n",
    "    print(e)"
   ]
  },
  {
   "cell_type": "code",
   "execution_count": 17,
   "id": "8028ab75-6f56-408c-8b40-18139c076232",
   "metadata": {},
   "outputs": [
    {
     "name": "stdout",
     "output_type": "stream",
     "text": [
      "[Errno 2] No such file or directory: 'test19.txt'\n"
     ]
    }
   ],
   "source": [
    "try:\n",
    "    with open(\"test19.txt\",\"r\")as f:\n",
    "        f.read()\n",
    "except FileNotFoundError as e:\n",
    "    print(e)"
   ]
  },
  {
   "cell_type": "code",
   "execution_count": 18,
   "id": "719e8908-f9ea-4fee-939d-9df2f5d6ea25",
   "metadata": {},
   "outputs": [
    {
     "name": "stdout",
     "output_type": "stream",
     "text": [
      "test [Errno 2] No such file or directory: 'test19.txt'\n"
     ]
    }
   ],
   "source": [
    "try:\n",
    "    with open(\"test19.txt\",\"r\")as f:\n",
    "        f.read()\n",
    "except Exception as e:     ## super class will handle all exception(this is not recommended)\n",
    "    print(\"test\",e)\n",
    "except FileNotFoundError as e:\n",
    "    print(\"this is file not found exception\",e)"
   ]
  },
  {
   "cell_type": "code",
   "execution_count": 20,
   "id": "07caf045-a390-487b-bc7a-ffd625aded10",
   "metadata": {},
   "outputs": [
    {
     "name": "stdout",
     "output_type": "stream",
     "text": [
      "this is zero division error i am handling division by zero\n"
     ]
    }
   ],
   "source": [
    "##use always spacific exception thaT means try to avoid Exception super class\n",
    "try:\n",
    "    a=10\n",
    "    10/0\n",
    "except ZeroDivisionError as e:\n",
    "    print(\"this is zero division error i am handling\",e)"
   ]
  },
  {
   "cell_type": "code",
   "execution_count": null,
   "id": "e38ba084-8167-4c5e-9c8e-d8f1739085bb",
   "metadata": {},
   "outputs": [],
   "source": [
    "##print always a valid message"
   ]
  },
  {
   "cell_type": "code",
   "execution_count": 21,
   "id": "3f35bb20-a681-4bc1-bb6d-44122355282b",
   "metadata": {},
   "outputs": [],
   "source": [
    "## always try to log\n",
    "import logging\n",
    "logging.basicConfig(filename=\"error.log\",level=logging.ERROR)\n",
    "try:\n",
    "    10/0\n",
    "except ZeroDivisionError as e:\n",
    "    logging.error(\"this my division error i am handling{}\".format(e))"
   ]
  },
  {
   "cell_type": "code",
   "execution_count": 22,
   "id": "370298fe-fbdb-4022-b78e-3226f2165fc2",
   "metadata": {},
   "outputs": [],
   "source": [
    "## Always try to avoid multiple Exception handling\n",
    "try:\n",
    "    10/0\n",
    "except FileNotFoundError as e:\n",
    "    logging.error(\"this my fileNotFound error i am handling{}\".format(e))\n",
    "except AttributeError as e:\n",
    "    logging.error(\"this my Attribute error i am handling{}\".format(e))\n",
    "except ZeroDivisionError as e:\n",
    "    logging.error(\"this my division error i am handling{}\".format(e))\n",
    "    "
   ]
  },
  {
   "cell_type": "code",
   "execution_count": null,
   "id": "850a675f-b79c-40e8-86fe-cdc851fed1e9",
   "metadata": {},
   "outputs": [],
   "source": [
    "##Prepare a proper Documentation for each and every thing"
   ]
  },
  {
   "cell_type": "code",
   "execution_count": 23,
   "id": "e0b3fdb6-9130-473e-9afb-67b548e33f9c",
   "metadata": {},
   "outputs": [],
   "source": [
    "##cleanup all the resources\n",
    "try:\n",
    "    with open(\"test7.txt\",\"w\")as f:\n",
    "        f.write(\"this is my msg to my file\")\n",
    "except FileNotFoundError as e:\n",
    "    logging.error(\"this my fileNotFound error i am handling{}\".format(e))\n",
    "finally:\n",
    "    f.close()"
   ]
  },
  {
   "cell_type": "code",
   "execution_count": null,
   "id": "615be14b-08dd-41c9-a15f-49557ec0a9d1",
   "metadata": {},
   "outputs": [],
   "source": []
  },
  {
   "cell_type": "code",
   "execution_count": null,
   "id": "488de3f4-b356-4f8f-b3b3-47a6a0f3f31a",
   "metadata": {},
   "outputs": [],
   "source": []
  }
 ],
 "metadata": {
  "kernelspec": {
   "display_name": "Python 3 (ipykernel)",
   "language": "python",
   "name": "python3"
  },
  "language_info": {
   "codemirror_mode": {
    "name": "ipython",
    "version": 3
   },
   "file_extension": ".py",
   "mimetype": "text/x-python",
   "name": "python",
   "nbconvert_exporter": "python",
   "pygments_lexer": "ipython3",
   "version": "3.10.8"
  }
 },
 "nbformat": 4,
 "nbformat_minor": 5
}
