{
 "cells": [
  {
   "cell_type": "markdown",
   "id": "621f350f-5453-485a-bcd5-3f5fefde5733",
   "metadata": {},
   "source": [
    "## MultiThreading"
   ]
  },
  {
   "cell_type": "code",
   "execution_count": 1,
   "id": "dd7c1a1d-3c09-4deb-8420-484f9f3cafdb",
   "metadata": {},
   "outputs": [],
   "source": [
    "## all program exicute in a single core"
   ]
  },
  {
   "cell_type": "code",
   "execution_count": 3,
   "id": "3a5ceca2-c5a0-4177-969a-734e43d10f9a",
   "metadata": {},
   "outputs": [],
   "source": [
    "import threading"
   ]
  },
  {
   "cell_type": "code",
   "execution_count": 2,
   "id": "17ef35c6-8f17-41fe-9796-95122e79a225",
   "metadata": {},
   "outputs": [],
   "source": [
    "def test(id):\n",
    "    print(\"this is my test id %d\"%id)"
   ]
  },
  {
   "cell_type": "code",
   "execution_count": 4,
   "id": "cad3ab11-b9cc-4227-860d-34597fe9b8c4",
   "metadata": {},
   "outputs": [
    {
     "name": "stdout",
     "output_type": "stream",
     "text": [
      "this is my test id 2\n"
     ]
    }
   ],
   "source": [
    "test(2)"
   ]
  },
  {
   "cell_type": "code",
   "execution_count": 5,
   "id": "90c1522d-f0a6-4d22-9881-a3dd43aaf126",
   "metadata": {},
   "outputs": [
    {
     "name": "stdout",
     "output_type": "stream",
     "text": [
      "this is my test id 4\n"
     ]
    }
   ],
   "source": [
    "test(4)"
   ]
  },
  {
   "cell_type": "code",
   "execution_count": 6,
   "id": "81c2a94b-7f25-44dc-8d91-3cf809350d32",
   "metadata": {},
   "outputs": [
    {
     "name": "stdout",
     "output_type": "stream",
     "text": [
      "this is my test id 3\n"
     ]
    }
   ],
   "source": [
    "test(3)"
   ]
  },
  {
   "cell_type": "code",
   "execution_count": 10,
   "id": "7e0d1261-0a93-4c38-8534-d34d0c0a30a1",
   "metadata": {},
   "outputs": [],
   "source": [
    "thread=[threading.Thread(target=test , args=(i,))for i in [2,4,3]]"
   ]
  },
  {
   "cell_type": "code",
   "execution_count": 11,
   "id": "045c6362-21ac-46b0-84cd-f8a89c434aad",
   "metadata": {},
   "outputs": [
    {
     "data": {
      "text/plain": [
       "[<Thread(Thread-5 (test), initial)>,\n",
       " <Thread(Thread-6 (test), initial)>,\n",
       " <Thread(Thread-7 (test), initial)>]"
      ]
     },
     "execution_count": 11,
     "metadata": {},
     "output_type": "execute_result"
    }
   ],
   "source": [
    "thread"
   ]
  },
  {
   "cell_type": "code",
   "execution_count": 12,
   "id": "a5887032-e76b-4290-9817-5b55d3fd1f13",
   "metadata": {},
   "outputs": [
    {
     "name": "stdout",
     "output_type": "stream",
     "text": [
      "this is my test id 2\n",
      "this is my test id 4\n",
      "this is my test id 3\n"
     ]
    }
   ],
   "source": [
    "for t in thread:\n",
    "    t.start()"
   ]
  },
  {
   "cell_type": "code",
   "execution_count": 13,
   "id": "84a49252-0162-49cb-8fb0-b5e5b4097f81",
   "metadata": {},
   "outputs": [],
   "source": [
    "import urllib.request   ## from url request for all data\n",
    "def file_download(url,file_name):\n",
    "    urllib.request.urlretrieve(url,file_name)"
   ]
  },
  {
   "cell_type": "code",
   "execution_count": 14,
   "id": "61bb5880-1a7a-4ee4-b122-7c371610b595",
   "metadata": {},
   "outputs": [],
   "source": [
    "##Download data from url and store in test8.txt\n",
    "file_download('https://raw.githubusercontent.com/itsfoss/text-files/master/agatha.txt' ,'test8.txt')\n",
    "## we want to fetch data from three diffrent url and store the data we need to write same code twice\n",
    "## in order to avoid this we use threading concept"
   ]
  },
  {
   "cell_type": "code",
   "execution_count": 15,
   "id": "ae46b9d4-c4fd-45bb-b901-3efadce8151d",
   "metadata": {},
   "outputs": [],
   "source": [
    "url_list=['https://raw.githubusercontent.com/itsfoss/text-files/master/agatha.txt' , 'https://raw.githubusercontent.com/itsfoss/text-files/master/sherlock.txt','https://raw.githubusercontent.com/itsfoss/text-files/master/sample_log_file.txt']"
   ]
  },
  {
   "cell_type": "code",
   "execution_count": 16,
   "id": "9ffde17c-4b2d-4932-b54b-00958d184d8e",
   "metadata": {},
   "outputs": [
    {
     "data": {
      "text/plain": [
       "['https://raw.githubusercontent.com/itsfoss/text-files/master/agatha.txt',\n",
       " 'https://raw.githubusercontent.com/itsfoss/text-files/master/sherlock.txt',\n",
       " 'https://raw.githubusercontent.com/itsfoss/text-files/master/sample_log_file.txt']"
      ]
     },
     "execution_count": 16,
     "metadata": {},
     "output_type": "execute_result"
    }
   ],
   "source": [
    "url_list"
   ]
  },
  {
   "cell_type": "code",
   "execution_count": 17,
   "id": "501891d0-294a-4350-a010-249bef27e39c",
   "metadata": {},
   "outputs": [],
   "source": [
    "data_file_list=['data1.txt','data2,txt','data3.txt']"
   ]
  },
  {
   "cell_type": "code",
   "execution_count": 18,
   "id": "2d035cce-2124-443e-bc8a-97f5825057b6",
   "metadata": {},
   "outputs": [
    {
     "data": {
      "text/plain": [
       "['data1.txt', 'data2,txt', 'data3.txt']"
      ]
     },
     "execution_count": 18,
     "metadata": {},
     "output_type": "execute_result"
    }
   ],
   "source": [
    "data_file_list"
   ]
  },
  {
   "cell_type": "code",
   "execution_count": 23,
   "id": "0e6a2870-feda-456b-b01f-c72fb192c170",
   "metadata": {},
   "outputs": [],
   "source": [
    "thread1=[threading.Thread(target=file_download , args=(url_list[i],data_file_list[i]))for i in range(len(url_list))]"
   ]
  },
  {
   "cell_type": "code",
   "execution_count": 25,
   "id": "0690f445-5059-41e6-8ae5-f85802c18b0f",
   "metadata": {},
   "outputs": [],
   "source": [
    "for t in thread1:    ## no need call function three times\n",
    "    t.start()\n",
    "    "
   ]
  },
  {
   "cell_type": "code",
   "execution_count": 26,
   "id": "15a77899-0445-4ff8-97c8-86e83e51b110",
   "metadata": {},
   "outputs": [
    {
     "data": {
      "text/plain": [
       "[<Thread(Thread-11 (file_download), stopped 139957641389632)>,\n",
       " <Thread(Thread-12 (file_download), stopped 139957079373376)>,\n",
       " <Thread(Thread-13 (file_download), stopped 139957070980672)>]"
      ]
     },
     "execution_count": 26,
     "metadata": {},
     "output_type": "execute_result"
    }
   ],
   "source": [
    "thread1"
   ]
  },
  {
   "cell_type": "code",
   "execution_count": 27,
   "id": "37cb13b9-e631-4d2b-988d-0ca72c8800e8",
   "metadata": {},
   "outputs": [],
   "source": [
    "import time"
   ]
  },
  {
   "cell_type": "code",
   "execution_count": 35,
   "id": "077c3739-1e52-4bf5-9977-cb05ac1d7374",
   "metadata": {},
   "outputs": [],
   "source": [
    "def test2(x):\n",
    "    for i in range(10):\n",
    "        print(\"test1 print the value of x %d and print the value of i %d\"%(x,i))\n",
    "        time.sleep(1)"
   ]
  },
  {
   "cell_type": "code",
   "execution_count": 37,
   "id": "ba95b37a-cdb4-405f-87ab-777ebf459d14",
   "metadata": {},
   "outputs": [],
   "source": [
    "thread2=[threading.Thread(target=test2,args=(i,))for i in [100,23,4]]"
   ]
  },
  {
   "cell_type": "code",
   "execution_count": 38,
   "id": "6703ff18-2df7-448d-9d4d-fbe6f4321f90",
   "metadata": {},
   "outputs": [
    {
     "name": "stdout",
     "output_type": "stream",
     "text": [
      "test1 print the value of x 100 and print the value of i 0\n",
      "test1 print the value of x 23 and print the value of i 0\n",
      "test1 print the value of x 4 and print the value of i 0\n",
      "test1 print the value of x 100 and print the value of i 1test1 print the value of x 4 and print the value of i 1\n",
      "\n",
      "test1 print the value of x 23 and print the value of i 1\n",
      "test1 print the value of x 4 and print the value of i 2test1 print the value of x 100 and print the value of i 2\n",
      "test1 print the value of x 23 and print the value of i 2\n",
      "\n",
      "test1 print the value of x 100 and print the value of i 3\n",
      "test1 print the value of x 23 and print the value of i 3\n",
      "test1 print the value of x 4 and print the value of i 3\n",
      "test1 print the value of x 100 and print the value of i 4\n",
      "test1 print the value of x 23 and print the value of i 4\n",
      "test1 print the value of x 4 and print the value of i 4\n",
      "test1 print the value of x 100 and print the value of i 5test1 print the value of x 4 and print the value of i 5\n",
      "\n",
      "test1 print the value of x 23 and print the value of i 5\n",
      "test1 print the value of x 4 and print the value of i 6test1 print the value of x 100 and print the value of i 6\n",
      "test1 print the value of x 23 and print the value of i 6\n",
      "\n",
      "test1 print the value of x 100 and print the value of i 7\n",
      "test1 print the value of x 4 and print the value of i 7\n",
      "test1 print the value of x 23 and print the value of i 7\n",
      "test1 print the value of x 100 and print the value of i 8\n",
      "test1 print the value of x 4 and print the value of i 8\n",
      "test1 print the value of x 23 and print the value of i 8\n",
      "test1 print the value of x 23 and print the value of i 9\n",
      "test1 print the value of x 100 and print the value of i 9\n",
      "test1 print the value of x 4 and print the value of i 9\n"
     ]
    }
   ],
   "source": [
    "for t in thread2:\n",
    "    t.start()       ##it is not trying complete one program\n",
    "                    ## first take 100 from list after that it goes to sleep ,so that others get oppertunity\n",
    "                    ## on sleeping it will call another thread"
   ]
  },
  {
   "cell_type": "code",
   "execution_count": 36,
   "id": "833fe983-68a2-4e04-bdfd-4325ff88c52a",
   "metadata": {},
   "outputs": [
    {
     "name": "stdout",
     "output_type": "stream",
     "text": [
      "test1 print the value of x 10 and print the value of i 0\n",
      "test1 print the value of x 10 and print the value of i 1\n",
      "test1 print the value of x 10 and print the value of i 2\n",
      "test1 print the value of x 10 and print the value of i 3\n",
      "test1 print the value of x 10 and print the value of i 4\n",
      "test1 print the value of x 10 and print the value of i 5\n",
      "test1 print the value of x 10 and print the value of i 6\n",
      "test1 print the value of x 10 and print the value of i 7\n",
      "test1 print the value of x 10 and print the value of i 8\n",
      "test1 print the value of x 10 and print the value of i 9\n"
     ]
    }
   ],
   "source": [
    "test2(10)\n"
   ]
  },
  {
   "cell_type": "code",
   "execution_count": 6,
   "id": "0f887581-3799-49f2-a538-f316efd31787",
   "metadata": {},
   "outputs": [],
   "source": [
    "def test2(x):\n",
    "    for i in range(10):\n",
    "        print(\"test1 print the value of x %d and print the value of i %d\"%(x,i))"
   ]
  },
  {
   "cell_type": "code",
   "execution_count": 7,
   "id": "6c2ee57b-309a-442a-a43c-5566b6768eae",
   "metadata": {},
   "outputs": [],
   "source": [
    "thread3=[threading.Thread(target=test2,args=(i,))for i in [10,55,4]]"
   ]
  },
  {
   "cell_type": "code",
   "execution_count": 8,
   "id": "64817c71-51d2-4682-bbdd-b6256e31fa48",
   "metadata": {},
   "outputs": [
    {
     "name": "stdout",
     "output_type": "stream",
     "text": [
      "test1 print the value of x 10 and print the value of i 0\n",
      "test1 print the value of x 10 and print the value of i 1\n",
      "test1 print the value of x 10 and print the value of i 2\n",
      "test1 print the value of x 10 and print the value of i 3\n",
      "test1 print the value of x 10 and print the value of i 4\n",
      "test1 print the value of x 10 and print the value of i 5\n",
      "test1 print the value of x 10 and print the value of i 6\n",
      "test1 print the value of x 10 and print the value of i 7\n",
      "test1 print the value of x 10 and print the value of i 8\n",
      "test1 print the value of x 10 and print the value of i 9\n",
      "test1 print the value of x 55 and print the value of i 0\n",
      "test1 print the value of x 55 and print the value of i 1\n",
      "test1 print the value of x 55 and print the value of i 2\n",
      "test1 print the value of x 55 and print the value of i 3\n",
      "test1 print the value of x 55 and print the value of i 4\n",
      "test1 print the value of x 55 and print the value of i 5\n",
      "test1 print the value of x 55 and print the value of i 6\n",
      "test1 print the value of x 55 and print the value of i 7\n",
      "test1 print the value of x 55 and print the value of i 8\n",
      "test1 print the value of x 55 and print the value of i 9\n",
      "test1 print the value of x 4 and print the value of i 0\n",
      "test1 print the value of x 4 and print the value of i 1\n",
      "test1 print the value of x 4 and print the value of i 2\n",
      "test1 print the value of x 4 and print the value of i 3\n",
      "test1 print the value of x 4 and print the value of i 4\n",
      "test1 print the value of x 4 and print the value of i 5\n",
      "test1 print the value of x 4 and print the value of i 6\n",
      "test1 print the value of x 4 and print the value of i 7\n",
      "test1 print the value of x 4 and print the value of i 8\n",
      "test1 print the value of x 4 and print the value of i 9\n"
     ]
    }
   ],
   "source": [
    "for t in thread3:\n",
    "    t.start()"
   ]
  },
  {
   "cell_type": "code",
   "execution_count": 9,
   "id": "f390257a-c463-470e-943c-02d15af8de80",
   "metadata": {},
   "outputs": [
    {
     "name": "stdout",
     "output_type": "stream",
     "text": [
      "hello\n"
     ]
    }
   ],
   "source": [
    "print(\"hello\")"
   ]
  },
  {
   "cell_type": "code",
   "execution_count": null,
   "id": "11fc08cd-f8e5-4dae-8d3b-1df63109c6d2",
   "metadata": {},
   "outputs": [],
   "source": []
  },
  {
   "cell_type": "code",
   "execution_count": null,
   "id": "cdafbf13-694a-428c-b134-ca532c1454ee",
   "metadata": {},
   "outputs": [],
   "source": []
  },
  {
   "cell_type": "code",
   "execution_count": null,
   "id": "c62951d8-1386-4dfe-8745-1e5353a33fb3",
   "metadata": {},
   "outputs": [],
   "source": []
  },
  {
   "cell_type": "code",
   "execution_count": null,
   "id": "79586d6d-f4f4-4cb4-b82f-ecc74703e36a",
   "metadata": {},
   "outputs": [],
   "source": []
  },
  {
   "cell_type": "code",
   "execution_count": null,
   "id": "9548ae15-6aa9-4627-bad0-f6a5612dcb9b",
   "metadata": {},
   "outputs": [],
   "source": []
  }
 ],
 "metadata": {
  "kernelspec": {
   "display_name": "Python 3 (ipykernel)",
   "language": "python",
   "name": "python3"
  },
  "language_info": {
   "codemirror_mode": {
    "name": "ipython",
    "version": 3
   },
   "file_extension": ".py",
   "mimetype": "text/x-python",
   "name": "python",
   "nbconvert_exporter": "python",
   "pygments_lexer": "ipython3",
   "version": "3.10.8"
  }
 },
 "nbformat": 4,
 "nbformat_minor": 5
}
