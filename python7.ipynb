{
 "cells": [
  {
   "cell_type": "code",
   "execution_count": 1,
   "id": "ece0b567-40a2-4baf-85f8-8ab6cd08ba1a",
   "metadata": {},
   "outputs": [],
   "source": [
    "l=[1,2,3,4]"
   ]
  },
  {
   "cell_type": "code",
   "execution_count": 2,
   "id": "2c4c2f17-4907-4844-9b9f-b55e0e18f5d1",
   "metadata": {},
   "outputs": [
    {
     "data": {
      "text/plain": [
       "list"
      ]
     },
     "execution_count": 2,
     "metadata": {},
     "output_type": "execute_result"
    }
   ],
   "source": [
    "type(l)"
   ]
  },
  {
   "cell_type": "code",
   "execution_count": 3,
   "id": "4e2899ab-e463-402d-b8db-0c1df315352e",
   "metadata": {},
   "outputs": [],
   "source": [
    "def test():    ## function decleration\n",
    "    pass"
   ]
  },
  {
   "cell_type": "code",
   "execution_count": 4,
   "id": "35548caf-f5a1-4664-bb21-9fc06ccfdca5",
   "metadata": {},
   "outputs": [],
   "source": [
    "def test1():\n",
    "    print(\"this my first function\")   ##body of function"
   ]
  },
  {
   "cell_type": "code",
   "execution_count": 5,
   "id": "36135a6a-b2e6-433f-a7de-e66e02c7b0d8",
   "metadata": {},
   "outputs": [
    {
     "name": "stdout",
     "output_type": "stream",
     "text": [
      "this my first function\n"
     ]
    }
   ],
   "source": [
    "test1()"
   ]
  },
  {
   "cell_type": "code",
   "execution_count": 6,
   "id": "c8e6f766-5caa-4b5e-a2a5-3b422ac55ce4",
   "metadata": {},
   "outputs": [
    {
     "name": "stdout",
     "output_type": "stream",
     "text": [
      "this my first function\n"
     ]
    },
    {
     "ename": "TypeError",
     "evalue": "unsupported operand type(s) for +: 'NoneType' and 'str'",
     "output_type": "error",
     "traceback": [
      "\u001b[0;31m---------------------------------------------------------------------------\u001b[0m",
      "\u001b[0;31mTypeError\u001b[0m                                 Traceback (most recent call last)",
      "Cell \u001b[0;32mIn[6], line 1\u001b[0m\n\u001b[0;32m----> 1\u001b[0m \u001b[43mtest1\u001b[49m\u001b[43m(\u001b[49m\u001b[43m)\u001b[49m\u001b[43m \u001b[49m\u001b[38;5;241;43m+\u001b[39;49m\u001b[43m \u001b[49m\u001b[38;5;124;43m\"\u001b[39;49m\u001b[38;5;124;43manu\u001b[39;49m\u001b[38;5;124;43m\"\u001b[39;49m\n",
      "\u001b[0;31mTypeError\u001b[0m: unsupported operand type(s) for +: 'NoneType' and 'str'"
     ]
    }
   ],
   "source": [
    "test1() + \"anu\"   ## print return non type by default"
   ]
  },
  {
   "cell_type": "code",
   "execution_count": 7,
   "id": "ade0a4ce-8ec5-4e99-a082-4a637584b403",
   "metadata": {},
   "outputs": [],
   "source": [
    "def test2():\n",
    "    return \"hello world\""
   ]
  },
  {
   "cell_type": "code",
   "execution_count": 8,
   "id": "49ae46e2-739f-4e43-86a5-350fdffbfb5d",
   "metadata": {},
   "outputs": [
    {
     "data": {
      "text/plain": [
       "'hello world'"
      ]
     },
     "execution_count": 8,
     "metadata": {},
     "output_type": "execute_result"
    }
   ],
   "source": [
    "test2()"
   ]
  },
  {
   "cell_type": "code",
   "execution_count": 10,
   "id": "a17fdedb-1327-4afc-a818-62a51ee0113f",
   "metadata": {},
   "outputs": [
    {
     "data": {
      "text/plain": [
       "'hello world  hi'"
      ]
     },
     "execution_count": 10,
     "metadata": {},
     "output_type": "execute_result"
    }
   ],
   "source": [
    "test2()+\"  hi\""
   ]
  },
  {
   "cell_type": "code",
   "execution_count": 11,
   "id": "ae4b4df2-300c-435f-a5f9-db7c6c247fb5",
   "metadata": {},
   "outputs": [],
   "source": [
    "def test3():\n",
    "    return 1,2,\"anu\",45.9      ###return in the form of tupples"
   ]
  },
  {
   "cell_type": "code",
   "execution_count": 12,
   "id": "09c1d2d5-0799-4694-9d7f-3420d45a7388",
   "metadata": {},
   "outputs": [
    {
     "data": {
      "text/plain": [
       "(1, 2, 'anu', 45.9)"
      ]
     },
     "execution_count": 12,
     "metadata": {},
     "output_type": "execute_result"
    }
   ],
   "source": [
    "test3()"
   ]
  },
  {
   "cell_type": "code",
   "execution_count": 14,
   "id": "f4d6aa98-7ad4-4382-bf4d-c5f9d9b8b6a7",
   "metadata": {},
   "outputs": [],
   "source": [
    "a=1,2,3,34.4"
   ]
  },
  {
   "cell_type": "code",
   "execution_count": 15,
   "id": "ab2f6ae0-65bb-4fc9-902a-3508639cdc2d",
   "metadata": {},
   "outputs": [
    {
     "data": {
      "text/plain": [
       "(1, 2, 3, 34.4)"
      ]
     },
     "execution_count": 15,
     "metadata": {},
     "output_type": "execute_result"
    }
   ],
   "source": [
    "a"
   ]
  },
  {
   "cell_type": "code",
   "execution_count": 16,
   "id": "e6af456f-8707-4099-b34e-1f3dc10f26c6",
   "metadata": {},
   "outputs": [],
   "source": [
    "a,b,c,d=1,2,3,4"
   ]
  },
  {
   "cell_type": "code",
   "execution_count": 17,
   "id": "5999a132-e0e5-4d57-af26-9076fe00e63a",
   "metadata": {},
   "outputs": [
    {
     "data": {
      "text/plain": [
       "1"
      ]
     },
     "execution_count": 17,
     "metadata": {},
     "output_type": "execute_result"
    }
   ],
   "source": [
    "a"
   ]
  },
  {
   "cell_type": "code",
   "execution_count": 18,
   "id": "effef2bd-e9ec-4f73-84e2-6cae9c4d9ab3",
   "metadata": {},
   "outputs": [
    {
     "data": {
      "text/plain": [
       "2"
      ]
     },
     "execution_count": 18,
     "metadata": {},
     "output_type": "execute_result"
    }
   ],
   "source": [
    "b\n"
   ]
  },
  {
   "cell_type": "code",
   "execution_count": 19,
   "id": "9f7876a8-6c23-4131-94e0-02415b1146ac",
   "metadata": {},
   "outputs": [
    {
     "data": {
      "text/plain": [
       "'anu'"
      ]
     },
     "execution_count": 19,
     "metadata": {},
     "output_type": "execute_result"
    }
   ],
   "source": [
    "test3()[2]    # accessing data from tupple"
   ]
  },
  {
   "cell_type": "code",
   "execution_count": 20,
   "id": "ca876873-7554-4891-80ec-c01fa4d8e594",
   "metadata": {},
   "outputs": [],
   "source": [
    "a,b,c,d=test3()\n"
   ]
  },
  {
   "cell_type": "code",
   "execution_count": 21,
   "id": "f26457e1-460d-4a31-b731-13ca1a4e1c18",
   "metadata": {},
   "outputs": [
    {
     "data": {
      "text/plain": [
       "1"
      ]
     },
     "execution_count": 21,
     "metadata": {},
     "output_type": "execute_result"
    }
   ],
   "source": [
    "a\n",
    "\n"
   ]
  },
  {
   "cell_type": "code",
   "execution_count": 22,
   "id": "72faa559-69df-411a-ac17-4b69818203c6",
   "metadata": {},
   "outputs": [
    {
     "data": {
      "text/plain": [
       "2"
      ]
     },
     "execution_count": 22,
     "metadata": {},
     "output_type": "execute_result"
    }
   ],
   "source": [
    "b"
   ]
  },
  {
   "cell_type": "code",
   "execution_count": 23,
   "id": "43e1fa5b-f8e4-4adb-b974-fc1cbed15c9a",
   "metadata": {},
   "outputs": [
    {
     "data": {
      "text/plain": [
       "'anu'"
      ]
     },
     "execution_count": 23,
     "metadata": {},
     "output_type": "execute_result"
    }
   ],
   "source": [
    "c"
   ]
  },
  {
   "cell_type": "code",
   "execution_count": 24,
   "id": "8ba07d73-5d1c-43f2-afaf-73d1a5032121",
   "metadata": {},
   "outputs": [],
   "source": [
    "def test4():\n",
    "    a=2*3+9\n",
    "    return a"
   ]
  },
  {
   "cell_type": "code",
   "execution_count": 25,
   "id": "8d2e66b7-cf6e-4aa8-aede-ec94987a4fa9",
   "metadata": {},
   "outputs": [
    {
     "data": {
      "text/plain": [
       "15"
      ]
     },
     "execution_count": 25,
     "metadata": {},
     "output_type": "execute_result"
    }
   ],
   "source": [
    "test4()"
   ]
  },
  {
   "cell_type": "code",
   "execution_count": 26,
   "id": "cc79c940-131d-4107-a88d-eb0cccddb5e8",
   "metadata": {},
   "outputs": [
    {
     "data": {
      "text/plain": [
       "int"
      ]
     },
     "execution_count": 26,
     "metadata": {},
     "output_type": "execute_result"
    }
   ],
   "source": [
    "type(test4())"
   ]
  },
  {
   "cell_type": "code",
   "execution_count": 27,
   "id": "ef6ffdb7-d680-47a7-9ccb-037c3af1519e",
   "metadata": {},
   "outputs": [],
   "source": [
    "def test5(a,b):     ##function with parameter\n",
    "    c=a+b\n",
    "    return c"
   ]
  },
  {
   "cell_type": "code",
   "execution_count": 29,
   "id": "446c2fcd-7706-4737-9724-0c132d8974d8",
   "metadata": {},
   "outputs": [
    {
     "data": {
      "text/plain": [
       "'goodmorning'"
      ]
     },
     "execution_count": 29,
     "metadata": {},
     "output_type": "execute_result"
    }
   ],
   "source": [
    "test5(3,9)\n",
    "test5(\"good\",\"morning\")"
   ]
  },
  {
   "cell_type": "code",
   "execution_count": 30,
   "id": "1acb95fc-d0ff-422f-b25e-c39a33e23a02",
   "metadata": {},
   "outputs": [
    {
     "data": {
      "text/plain": [
       "[1, 2, 3, 4, 4, 6, 7, 8, 9]"
      ]
     },
     "execution_count": 30,
     "metadata": {},
     "output_type": "execute_result"
    }
   ],
   "source": [
    "test5([1,2,3,4],[4,6,7,8,9])"
   ]
  },
  {
   "cell_type": "code",
   "execution_count": 32,
   "id": "37ec076f-7c5c-4c02-9314-53fc757c095a",
   "metadata": {},
   "outputs": [
    {
     "data": {
      "text/plain": [
       "'sonyxperia'"
      ]
     },
     "execution_count": 32,
     "metadata": {},
     "output_type": "execute_result"
    }
   ],
   "source": [
    "test5(b=\"xperia\",a=\"sony\")     ##names parameter "
   ]
  },
  {
   "cell_type": "code",
   "execution_count": 33,
   "id": "4440883b-01f2-4b49-9dfd-b50229c4d90e",
   "metadata": {},
   "outputs": [],
   "source": [
    "l=[1,2,3,4,5,\"hello\",\"world\",[11,2,3,3,44,55,8]]"
   ]
  },
  {
   "cell_type": "code",
   "execution_count": null,
   "id": "c543f1c8-ed21-47e8-abf6-4b07e093ed8e",
   "metadata": {},
   "outputs": [],
   "source": [
    "## create a function which take list as input and give a final list with all numeric values"
   ]
  },
  {
   "cell_type": "code",
   "execution_count": 35,
   "id": "dfcd6e9f-bdda-4b74-ba2b-0e2783df8ffd",
   "metadata": {},
   "outputs": [],
   "source": [
    "def test6(l):\n",
    "    n=[]\n",
    "    for i in l:\n",
    "        if type(i)==int or type(i)==float:\n",
    "            n.append(i)\n",
    "    return n"
   ]
  },
  {
   "cell_type": "code",
   "execution_count": 36,
   "id": "dc39c590-18b0-409f-8e56-78a409363018",
   "metadata": {},
   "outputs": [
    {
     "data": {
      "text/plain": [
       "[1, 2, 3, 4, 5]"
      ]
     },
     "execution_count": 36,
     "metadata": {},
     "output_type": "execute_result"
    }
   ],
   "source": [
    "test6(l)"
   ]
  },
  {
   "cell_type": "code",
   "execution_count": 37,
   "id": "e53b9e6a-df98-414d-85a6-d42f41d47076",
   "metadata": {},
   "outputs": [
    {
     "data": {
      "text/plain": [
       "[1, 2, 3, 4, 5, 'hello', 'world', [11, 2, 3, 3, 44, 55, 8]]"
      ]
     },
     "execution_count": 37,
     "metadata": {},
     "output_type": "execute_result"
    }
   ],
   "source": [
    "l"
   ]
  },
  {
   "cell_type": "code",
   "execution_count": 40,
   "id": "aa28f0e7-97c6-4c32-8aa7-c41ac52efa09",
   "metadata": {},
   "outputs": [],
   "source": [
    "def test7(a):\n",
    "    n=[]\n",
    "    for i in a:\n",
    "        if type(i)==list:\n",
    "            for j in i:\n",
    "                if type(j)==int or type(j)==float:\n",
    "                    n.append(j)\n",
    "        else:\n",
    "            if type(i)==int or type(i)==float:\n",
    "                n.append(i)\n",
    "    return n"
   ]
  },
  {
   "cell_type": "code",
   "execution_count": 41,
   "id": "d4502db2-ea47-4048-a925-967a3a8094df",
   "metadata": {},
   "outputs": [
    {
     "data": {
      "text/plain": [
       "[1, 2, 3, 4, 5, 11, 2, 3, 3, 44, 55, 8]"
      ]
     },
     "execution_count": 41,
     "metadata": {},
     "output_type": "execute_result"
    }
   ],
   "source": [
    "test7(l)"
   ]
  },
  {
   "cell_type": "code",
   "execution_count": null,
   "id": "df1472c1-aa47-45eb-bf65-5fd66030694d",
   "metadata": {},
   "outputs": [],
   "source": []
  },
  {
   "cell_type": "code",
   "execution_count": null,
   "id": "650ebe8b-89ec-4abc-9a98-5b87fba8ba98",
   "metadata": {},
   "outputs": [],
   "source": []
  },
  {
   "cell_type": "code",
   "execution_count": null,
   "id": "c59e03bd-1867-4795-bbc8-dc1141c8dca9",
   "metadata": {},
   "outputs": [],
   "source": []
  },
  {
   "cell_type": "code",
   "execution_count": null,
   "id": "2b50022e-758c-45dd-9cef-8f7fda6bdec4",
   "metadata": {},
   "outputs": [],
   "source": []
  }
 ],
 "metadata": {
  "kernelspec": {
   "display_name": "Python 3 (ipykernel)",
   "language": "python",
   "name": "python3"
  },
  "language_info": {
   "codemirror_mode": {
    "name": "ipython",
    "version": 3
   },
   "file_extension": ".py",
   "mimetype": "text/x-python",
   "name": "python",
   "nbconvert_exporter": "python",
   "pygments_lexer": "ipython3",
   "version": "3.10.8"
  }
 },
 "nbformat": 4,
 "nbformat_minor": 5
}
