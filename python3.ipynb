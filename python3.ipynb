{
 "cells": [
  {
   "cell_type": "markdown",
   "id": "fb7e9247-bfe6-4300-af40-550e449d1b01",
   "metadata": {},
   "source": [
    "## logical operators\n",
    "1. and \n",
    "2.or\n",
    "3.not"
   ]
  },
  {
   "cell_type": "code",
   "execution_count": 1,
   "id": "bf09e9ca-c501-4f39-b1df-7a7e6d60596e",
   "metadata": {},
   "outputs": [
    {
     "data": {
      "text/plain": [
       "True"
      ]
     },
     "execution_count": 1,
     "metadata": {},
     "output_type": "execute_result"
    }
   ],
   "source": [
    "bool(1)\n"
   ]
  },
  {
   "cell_type": "code",
   "execution_count": 2,
   "id": "af074424-daeb-4c84-afa9-6e6d6a9bf1cf",
   "metadata": {},
   "outputs": [
    {
     "data": {
      "text/plain": [
       "1"
      ]
     },
     "execution_count": 2,
     "metadata": {},
     "output_type": "execute_result"
    }
   ],
   "source": [
    "int(bool(1))"
   ]
  },
  {
   "cell_type": "code",
   "execution_count": 3,
   "id": "34ee5288-20a6-474f-bcc0-759f463fbfa7",
   "metadata": {},
   "outputs": [
    {
     "data": {
      "text/plain": [
       "False"
      ]
     },
     "execution_count": 3,
     "metadata": {},
     "output_type": "execute_result"
    }
   ],
   "source": [
    "not int(bool(1))"
   ]
  },
  {
   "cell_type": "code",
   "execution_count": 4,
   "id": "61fbb3f3-8a4c-450c-b519-f08917ce1002",
   "metadata": {},
   "outputs": [
    {
     "data": {
      "text/plain": [
       "True"
      ]
     },
     "execution_count": 4,
     "metadata": {},
     "output_type": "execute_result"
    }
   ],
   "source": [
    "not 0"
   ]
  },
  {
   "cell_type": "code",
   "execution_count": 5,
   "id": "5ceb2ed3-c588-49f0-864b-50763e2a794a",
   "metadata": {},
   "outputs": [
    {
     "data": {
      "text/plain": [
       "1"
      ]
     },
     "execution_count": 5,
     "metadata": {},
     "output_type": "execute_result"
    }
   ],
   "source": [
    "int(not(0))"
   ]
  },
  {
   "cell_type": "code",
   "execution_count": 6,
   "id": "080b6cf1-3801-4bc4-9d9c-6925319e1a31",
   "metadata": {},
   "outputs": [
    {
     "data": {
      "text/plain": [
       "False"
      ]
     },
     "execution_count": 6,
     "metadata": {},
     "output_type": "execute_result"
    }
   ],
   "source": [
    "not 2"
   ]
  },
  {
   "cell_type": "code",
   "execution_count": 7,
   "id": "ac36cb63-4f4f-4f66-9f32-e8c084b75c7b",
   "metadata": {},
   "outputs": [
    {
     "data": {
      "text/plain": [
       "True"
      ]
     },
     "execution_count": 7,
     "metadata": {},
     "output_type": "execute_result"
    }
   ],
   "source": [
    "not 0"
   ]
  },
  {
   "cell_type": "code",
   "execution_count": 10,
   "id": "93951de1-9e35-40af-b780-37a2d818bb18",
   "metadata": {},
   "outputs": [
    {
     "name": "stdout",
     "output_type": "stream",
     "text": [
      "boolean value of no.0isFalse\n",
      "boolen value of no.1isTrue\n",
      "negation of 0isTrueand negation of1isFalse\n",
      "\n",
      "#----------------#\n",
      "\n"
     ]
    }
   ],
   "source": [
    "zero=0\n",
    "one=1\n",
    "print(f\"boolean value of no.{zero}is{bool(zero)}\")\n",
    "print(f\"boolen value of no.{one}is{bool(one)}\")\n",
    "print(f\"negation of {zero}is{not zero}and negation of{one}is{not one}\")\n",
    "print(\"\\n#----------------#\\n\")"
   ]
  },
  {
   "cell_type": "code",
   "execution_count": 16,
   "id": "968d07a8-b4e3-451f-a3a1-985fb281d822",
   "metadata": {},
   "outputs": [
    {
     "data": {
      "text/plain": [
       "True"
      ]
     },
     "execution_count": 16,
     "metadata": {},
     "output_type": "execute_result"
    }
   ],
   "source": [
    "not False*False   ## multipication has first precidence"
   ]
  },
  {
   "cell_type": "code",
   "execution_count": 17,
   "id": "fb00a68d-00e3-4137-a935-34b096c7b850",
   "metadata": {},
   "outputs": [
    {
     "data": {
      "text/plain": [
       "0"
      ]
     },
     "execution_count": 17,
     "metadata": {},
     "output_type": "execute_result"
    }
   ],
   "source": [
    "(not(False))*False  ##bracket has first precidence"
   ]
  },
  {
   "cell_type": "code",
   "execution_count": 20,
   "id": "9c00eb43-68e1-4905-985c-d89defed1b2e",
   "metadata": {},
   "outputs": [
    {
     "name": "stdout",
     "output_type": "stream",
     "text": [
      "140303231210368\n",
      "140303231428352\n"
     ]
    },
    {
     "data": {
      "text/plain": [
       "False"
      ]
     },
     "execution_count": 20,
     "metadata": {},
     "output_type": "execute_result"
    }
   ],
   "source": [
    "lst_a=[1,2,3,4,5]\n",
    "lst_b=[1,2,3,4,5]\n",
    "print(id(lst_a))\n",
    "print(id(lst_b))\n",
    "lst_a is lst_b   ###Diffrent memmory address is created"
   ]
  },
  {
   "cell_type": "code",
   "execution_count": 22,
   "id": "52960f9e-29c9-4df2-80e5-0cd0d81a74bb",
   "metadata": {},
   "outputs": [
    {
     "name": "stdout",
     "output_type": "stream",
     "text": [
      "140303231531200\n",
      "140303231531200\n"
     ]
    },
    {
     "data": {
      "text/plain": [
       "True"
      ]
     },
     "execution_count": 22,
     "metadata": {},
     "output_type": "execute_result"
    }
   ],
   "source": [
    "lst_a=[1,2,3,4,5]\n",
    "lst_b=lst_a   ##both variables are pointing to same memmory address\n",
    "print(id(lst_a))\n",
    "print(id(lst_b))\n",
    "lst_a is lst_b"
   ]
  },
  {
   "cell_type": "code",
   "execution_count": 24,
   "id": "45a55083-90d3-4968-b36e-ba79a4395795",
   "metadata": {},
   "outputs": [
    {
     "data": {
      "text/plain": [
       "True"
      ]
     },
     "execution_count": 24,
     "metadata": {},
     "output_type": "execute_result"
    }
   ],
   "source": [
    "lst_a=[1,2,3,4,5]\n",
    "lst_b=[1,2,3,4,5]\n",
    "lst_a is not lst_b   "
   ]
  },
  {
   "cell_type": "code",
   "execution_count": 25,
   "id": "0836f234-4b82-44e9-b7a9-d33bd993694e",
   "metadata": {},
   "outputs": [
    {
     "data": {
      "text/plain": [
       "True"
      ]
     },
     "execution_count": 25,
     "metadata": {},
     "output_type": "execute_result"
    }
   ],
   "source": [
    "lst_a==lst_b  ##checks the content"
   ]
  },
  {
   "cell_type": "code",
   "execution_count": 26,
   "id": "0ec644ce-1e58-43ce-ae24-a402061e1d76",
   "metadata": {},
   "outputs": [
    {
     "data": {
      "text/plain": [
       "[1, 2, 3, 4, 5]"
      ]
     },
     "execution_count": 26,
     "metadata": {},
     "output_type": "execute_result"
    }
   ],
   "source": [
    "lst_a\n"
   ]
  },
  {
   "cell_type": "code",
   "execution_count": 27,
   "id": "413ecd65-6939-48ac-83fe-f1a3510e2a5b",
   "metadata": {},
   "outputs": [
    {
     "data": {
      "text/plain": [
       "2"
      ]
     },
     "execution_count": 27,
     "metadata": {},
     "output_type": "execute_result"
    }
   ],
   "source": [
    "lst_a[1]"
   ]
  },
  {
   "cell_type": "code",
   "execution_count": 28,
   "id": "a02eba2f-0f84-4fcf-ae95-7fc9fad046a5",
   "metadata": {},
   "outputs": [],
   "source": [
    "lst_a[1]=8 ##list are mutable"
   ]
  },
  {
   "cell_type": "code",
   "execution_count": 29,
   "id": "eb2313eb-d094-4620-bcff-bfa213c5e962",
   "metadata": {},
   "outputs": [
    {
     "data": {
      "text/plain": [
       "[1, 8, 3, 4, 5]"
      ]
     },
     "execution_count": 29,
     "metadata": {},
     "output_type": "execute_result"
    }
   ],
   "source": [
    "lst_a\n"
   ]
  },
  {
   "cell_type": "code",
   "execution_count": 30,
   "id": "696f6a65-8cac-4466-aac5-76416a55ca10",
   "metadata": {},
   "outputs": [],
   "source": [
    "str=\"anwar\""
   ]
  },
  {
   "cell_type": "code",
   "execution_count": 31,
   "id": "0905ada9-8ed2-4cc2-b731-c9c882834e43",
   "metadata": {},
   "outputs": [
    {
     "data": {
      "text/plain": [
       "'anwar'"
      ]
     },
     "execution_count": 31,
     "metadata": {},
     "output_type": "execute_result"
    }
   ],
   "source": [
    "str"
   ]
  },
  {
   "cell_type": "code",
   "execution_count": 32,
   "id": "15c66c32-9174-4cff-9770-c6653cc701f9",
   "metadata": {},
   "outputs": [
    {
     "data": {
      "text/plain": [
       "'w'"
      ]
     },
     "execution_count": 32,
     "metadata": {},
     "output_type": "execute_result"
    }
   ],
   "source": [
    "str[2]"
   ]
  },
  {
   "cell_type": "code",
   "execution_count": 33,
   "id": "76e50359-98ba-4208-b6ec-83900decf7e8",
   "metadata": {},
   "outputs": [
    {
     "ename": "TypeError",
     "evalue": "'str' object does not support item assignment",
     "output_type": "error",
     "traceback": [
      "\u001b[0;31m---------------------------------------------------------------------------\u001b[0m",
      "\u001b[0;31mTypeError\u001b[0m                                 Traceback (most recent call last)",
      "Cell \u001b[0;32mIn[33], line 1\u001b[0m\n\u001b[0;32m----> 1\u001b[0m \u001b[38;5;28;43mstr\u001b[39;49m\u001b[43m[\u001b[49m\u001b[38;5;241;43m2\u001b[39;49m\u001b[43m]\u001b[49m\u001b[38;5;241m=\u001b[39m\u001b[38;5;124m\"\u001b[39m\u001b[38;5;124mb\u001b[39m\u001b[38;5;124m\"\u001b[39m\n",
      "\u001b[0;31mTypeError\u001b[0m: 'str' object does not support item assignment"
     ]
    }
   ],
   "source": [
    "str[2]=\"b\"   ###this is not possible because strings are immutable"
   ]
  },
  {
   "cell_type": "markdown",
   "id": "3614c5b4-1d51-471b-8c0b-06a02802a5d8",
   "metadata": {},
   "source": [
    "##operations"
   ]
  },
  {
   "cell_type": "markdown",
   "id": "46374c75-116a-43cb-b270-ea3b1d632985",
   "metadata": {},
   "source": [
    "bitwise operator"
   ]
  },
  {
   "cell_type": "code",
   "execution_count": null,
   "id": "da7db067-b003-4bea-b266-349aa7ee0096",
   "metadata": {},
   "outputs": [],
   "source": [
    "## ~ bitwise compliment ,& bitwise and,| bitwise or,^ bitwise excusive-or,<< shift bit left,>> shift bit right"
   ]
  },
  {
   "cell_type": "code",
   "execution_count": 34,
   "id": "790ca2cb-ec4d-4439-b82d-3a874aadcfd6",
   "metadata": {},
   "outputs": [
    {
     "data": {
      "text/plain": [
       "'0b1010'"
      ]
     },
     "execution_count": 34,
     "metadata": {},
     "output_type": "execute_result"
    }
   ],
   "source": [
    "var=10\n",
    "bin(var)"
   ]
  },
  {
   "cell_type": "code",
   "execution_count": 35,
   "id": "10f60d22-c1d8-49c9-aa17-a425d6725b80",
   "metadata": {},
   "outputs": [
    {
     "data": {
      "text/plain": [
       "-11"
      ]
     },
     "execution_count": 35,
     "metadata": {},
     "output_type": "execute_result"
    }
   ],
   "source": [
    "~var"
   ]
  },
  {
   "cell_type": "markdown",
   "id": "37180e09-a551-4b44-8cab-43beba84abab",
   "metadata": {},
   "source": [
    "string"
   ]
  },
  {
   "cell_type": "code",
   "execution_count": 36,
   "id": "3d26dda2-314b-45b0-8f88-66d5cd7ccae4",
   "metadata": {},
   "outputs": [
    {
     "data": {
      "text/plain": [
       "'a'"
      ]
     },
     "execution_count": 36,
     "metadata": {},
     "output_type": "execute_result"
    }
   ],
   "source": [
    "str1=\"anwar\"\n",
    "str[0]"
   ]
  },
  {
   "cell_type": "code",
   "execution_count": 37,
   "id": "a13197a5-294f-4dbe-acdd-38c5cefd6254",
   "metadata": {},
   "outputs": [],
   "source": [
    "str1=\"hello\""
   ]
  },
  {
   "cell_type": "code",
   "execution_count": null,
   "id": "cac666f7-3bbf-4c0f-86c2-3f0115645371",
   "metadata": {},
   "outputs": [],
   "source": [
    "##  :  slice operator"
   ]
  },
  {
   "cell_type": "code",
   "execution_count": 41,
   "id": "4509ee7a-c805-44c3-ada8-4c067478b8cf",
   "metadata": {},
   "outputs": [
    {
     "data": {
      "text/plain": [
       "'llo'"
      ]
     },
     "execution_count": 41,
     "metadata": {},
     "output_type": "execute_result"
    }
   ],
   "source": [
    "str1[2:5]"
   ]
  },
  {
   "cell_type": "code",
   "execution_count": 42,
   "id": "3e2e52cf-57a7-4b40-8604-4ce2e10cd825",
   "metadata": {},
   "outputs": [
    {
     "data": {
      "text/plain": [
       "'o'"
      ]
     },
     "execution_count": 42,
     "metadata": {},
     "output_type": "execute_result"
    }
   ],
   "source": [
    "str1[-1]"
   ]
  },
  {
   "cell_type": "code",
   "execution_count": 43,
   "id": "8462d07a-fbdb-4bc6-8272-ecfbfdb3246e",
   "metadata": {},
   "outputs": [
    {
     "data": {
      "text/plain": [
       "'o'"
      ]
     },
     "execution_count": 43,
     "metadata": {},
     "output_type": "execute_result"
    }
   ],
   "source": [
    "str1[-1]"
   ]
  },
  {
   "cell_type": "code",
   "execution_count": 46,
   "id": "ef843a2e-1433-4a2f-affa-b3b14551fdf9",
   "metadata": {},
   "outputs": [
    {
     "data": {
      "text/plain": [
       "'el'"
      ]
     },
     "execution_count": 46,
     "metadata": {},
     "output_type": "execute_result"
    }
   ],
   "source": [
    "str1[-4:-2]"
   ]
  },
  {
   "cell_type": "code",
   "execution_count": 47,
   "id": "cc288da4-9e7c-471f-9e68-ec8e4835d89a",
   "metadata": {},
   "outputs": [
    {
     "data": {
      "text/plain": [
       "'hell'"
      ]
     },
     "execution_count": 47,
     "metadata": {},
     "output_type": "execute_result"
    }
   ],
   "source": [
    "str1[:-1] ## read all except lastb charecter"
   ]
  },
  {
   "cell_type": "code",
   "execution_count": 49,
   "id": "ca41de3f-255e-45b7-9e48-5333ff37bfb5",
   "metadata": {},
   "outputs": [
    {
     "data": {
      "text/plain": [
       "'hello'"
      ]
     },
     "execution_count": 49,
     "metadata": {},
     "output_type": "execute_result"
    }
   ],
   "source": [
    "str1[:]"
   ]
  },
  {
   "cell_type": "code",
   "execution_count": 50,
   "id": "1adf57a7-c52c-49b5-99df-c2bee04a1166",
   "metadata": {},
   "outputs": [
    {
     "data": {
      "text/plain": [
       "'lA'"
      ]
     },
     "execution_count": 50,
     "metadata": {},
     "output_type": "execute_result"
    }
   ],
   "source": [
    "name=\"darulAman\"\n",
    "name[-5:6]"
   ]
  },
  {
   "cell_type": "code",
   "execution_count": 51,
   "id": "e73f46c4-8b32-43b7-ae28-1cad57b7785a",
   "metadata": {},
   "outputs": [
    {
     "data": {
      "text/plain": [
       "'namAlurad'"
      ]
     },
     "execution_count": 51,
     "metadata": {},
     "output_type": "execute_result"
    }
   ],
   "source": [
    "name[::-1]"
   ]
  },
  {
   "cell_type": "code",
   "execution_count": 52,
   "id": "18cefef9-3071-4974-8717-759f03c41881",
   "metadata": {},
   "outputs": [
    {
     "data": {
      "text/plain": [
       "'nmlrd'"
      ]
     },
     "execution_count": 52,
     "metadata": {},
     "output_type": "execute_result"
    }
   ],
   "source": [
    "name[::-2]"
   ]
  },
  {
   "cell_type": "code",
   "execution_count": 55,
   "id": "64919586-7ffc-4513-8fa8-4bf5e8fab669",
   "metadata": {},
   "outputs": [
    {
     "data": {
      "text/plain": [
       "'namAlurad'"
      ]
     },
     "execution_count": 55,
     "metadata": {},
     "output_type": "execute_result"
    }
   ],
   "source": [
    "name[::-1]"
   ]
  },
  {
   "cell_type": "code",
   "execution_count": 63,
   "id": "62cec160-0d30-4827-863c-58bf3af622de",
   "metadata": {},
   "outputs": [
    {
     "data": {
      "text/plain": [
       "'ecneicS'"
      ]
     },
     "execution_count": 63,
     "metadata": {},
     "output_type": "execute_result"
    }
   ],
   "source": [
    "Cname=\"Data Science Masters\"\n",
    "Cname[11:4:-1]"
   ]
  },
  {
   "cell_type": "code",
   "execution_count": 64,
   "id": "d28e38f4-d07c-450b-9ec1-50c5b764babb",
   "metadata": {},
   "outputs": [
    {
     "data": {
      "text/plain": [
       "'Scienc'"
      ]
     },
     "execution_count": 64,
     "metadata": {},
     "output_type": "execute_result"
    }
   ],
   "source": [
    "Cname=\"Data Science Masters\"\n",
    "Cname[5:11]"
   ]
  },
  {
   "cell_type": "code",
   "execution_count": 65,
   "id": "642fff4e-38c4-4043-a743-d186e61a057c",
   "metadata": {},
   "outputs": [
    {
     "data": {
      "text/plain": [
       "'Data Science Mastershello'"
      ]
     },
     "execution_count": 65,
     "metadata": {},
     "output_type": "execute_result"
    }
   ],
   "source": [
    "Cname + \"hello\"   ##concatination"
   ]
  },
  {
   "cell_type": "code",
   "execution_count": 66,
   "id": "710a8a13-a642-464a-9c5a-2dc4bdbc293e",
   "metadata": {},
   "outputs": [
    {
     "data": {
      "text/plain": [
       "'Data Science MastersData Science MastersData Science Masters'"
      ]
     },
     "execution_count": 66,
     "metadata": {},
     "output_type": "execute_result"
    }
   ],
   "source": [
    "Cname*3"
   ]
  },
  {
   "cell_type": "code",
   "execution_count": 68,
   "id": "8debb77a-28b7-443c-b9da-8e2e5900f0f3",
   "metadata": {},
   "outputs": [
    {
     "data": {
      "text/plain": [
       "20"
      ]
     },
     "execution_count": 68,
     "metadata": {},
     "output_type": "execute_result"
    }
   ],
   "source": [
    "len(Cname) ##length of string"
   ]
  },
  {
   "cell_type": "code",
   "execution_count": 69,
   "id": "1b7c5827-2bca-4ed1-b6f0-e8a5538009e1",
   "metadata": {},
   "outputs": [
    {
     "data": {
      "text/plain": [
       "9"
      ]
     },
     "execution_count": 69,
     "metadata": {},
     "output_type": "execute_result"
    }
   ],
   "source": [
    "Cname.find(\"n\")"
   ]
  },
  {
   "cell_type": "code",
   "execution_count": 70,
   "id": "d599643f-a075-4ece-9d25-6bd8111a1d9a",
   "metadata": {},
   "outputs": [
    {
     "data": {
      "text/plain": [
       "1"
      ]
     },
     "execution_count": 70,
     "metadata": {},
     "output_type": "execute_result"
    }
   ],
   "source": [
    "Cname.find(\"a\")   ##returns the index of first a"
   ]
  },
  {
   "cell_type": "code",
   "execution_count": 71,
   "id": "c7250488-e545-45c2-9799-21596edd7e1b",
   "metadata": {},
   "outputs": [
    {
     "data": {
      "text/plain": [
       "3"
      ]
     },
     "execution_count": 71,
     "metadata": {},
     "output_type": "execute_result"
    }
   ],
   "source": [
    "Cname.find(\"a\",2,4)  ##find \"a\" from 2nd index to 4th index"
   ]
  },
  {
   "cell_type": "code",
   "execution_count": 72,
   "id": "b7baf68e-4454-460d-a7ab-fce79145414c",
   "metadata": {},
   "outputs": [
    {
     "data": {
      "text/plain": [
       "3"
      ]
     },
     "execution_count": 72,
     "metadata": {},
     "output_type": "execute_result"
    }
   ],
   "source": [
    "##count()\n",
    "Cname.count(\"a\")"
   ]
  },
  {
   "cell_type": "code",
   "execution_count": 73,
   "id": "ea95ed47-025f-4f78-ac41-9136e59c00e7",
   "metadata": {},
   "outputs": [
    {
     "data": {
      "text/plain": [
       "'Data Science Masters'"
      ]
     },
     "execution_count": 73,
     "metadata": {},
     "output_type": "execute_result"
    }
   ],
   "source": [
    "Cname"
   ]
  },
  {
   "cell_type": "code",
   "execution_count": 75,
   "id": "c1397b7c-4195-430d-9a14-534f26bc60f2",
   "metadata": {},
   "outputs": [
    {
     "data": {
      "text/plain": [
       "2"
      ]
     },
     "execution_count": 75,
     "metadata": {},
     "output_type": "execute_result"
    }
   ],
   "source": [
    "Cname.count(\" \")"
   ]
  },
  {
   "cell_type": "code",
   "execution_count": 79,
   "id": "329afa55-3a83-4ecb-a93b-a2b36f0a71d4",
   "metadata": {},
   "outputs": [
    {
     "data": {
      "text/plain": [
       "['Data ', 'cience Masters']"
      ]
     },
     "execution_count": 79,
     "metadata": {},
     "output_type": "execute_result"
    }
   ],
   "source": [
    "##string split fuction\n",
    "Cname.split(\"S\")"
   ]
  },
  {
   "cell_type": "code",
   "execution_count": 80,
   "id": "087302cc-993d-41e3-b2cd-ece24827ca9f",
   "metadata": {},
   "outputs": [
    {
     "data": {
      "text/plain": [
       "('Data Science Ma', 's', 'ters')"
      ]
     },
     "execution_count": 80,
     "metadata": {},
     "output_type": "execute_result"
    }
   ],
   "source": [
    "Cname.partition(\"s\") ##ONLY FOR FIRST \"s\""
   ]
  },
  {
   "cell_type": "code",
   "execution_count": 81,
   "id": "36efc53a-9428-4c67-933a-811c49367c66",
   "metadata": {},
   "outputs": [
    {
     "data": {
      "text/plain": [
       "'DATA SCIENCE MASTERS'"
      ]
     },
     "execution_count": 81,
     "metadata": {},
     "output_type": "execute_result"
    }
   ],
   "source": [
    "##String upper and lower case\n",
    "Cname.upper()"
   ]
  },
  {
   "cell_type": "code",
   "execution_count": 82,
   "id": "fb49f6b3-fdda-4f16-9ff5-0d00f5b07623",
   "metadata": {},
   "outputs": [
    {
     "data": {
      "text/plain": [
       "'data science masters'"
      ]
     },
     "execution_count": 82,
     "metadata": {},
     "output_type": "execute_result"
    }
   ],
   "source": [
    "Cname.lower()"
   ]
  },
  {
   "cell_type": "code",
   "execution_count": 83,
   "id": "2171c8f9-fa5e-4fd8-b78c-9653238cfe03",
   "metadata": {},
   "outputs": [
    {
     "data": {
      "text/plain": [
       "'dATA sCIENCE mASTERS'"
      ]
     },
     "execution_count": 83,
     "metadata": {},
     "output_type": "execute_result"
    }
   ],
   "source": [
    "Cname.swapcase()"
   ]
  },
  {
   "cell_type": "code",
   "execution_count": 84,
   "id": "357a1348-dabb-42ca-8af1-5000f8e65b21",
   "metadata": {},
   "outputs": [
    {
     "data": {
      "text/plain": [
       "'Data Science Masters'"
      ]
     },
     "execution_count": 84,
     "metadata": {},
     "output_type": "execute_result"
    }
   ],
   "source": [
    "Cname\n"
   ]
  },
  {
   "cell_type": "code",
   "execution_count": 85,
   "id": "149d846f-656f-45dc-8751-f8d07a397aa8",
   "metadata": {},
   "outputs": [],
   "source": [
    "Cname=\"data science masters\"\n"
   ]
  },
  {
   "cell_type": "code",
   "execution_count": 86,
   "id": "fc487ca1-ba08-4ffe-8c4d-12636a3595cf",
   "metadata": {},
   "outputs": [
    {
     "data": {
      "text/plain": [
       "'data science masters'"
      ]
     },
     "execution_count": 86,
     "metadata": {},
     "output_type": "execute_result"
    }
   ],
   "source": [
    "Cname"
   ]
  },
  {
   "cell_type": "code",
   "execution_count": 87,
   "id": "937747a6-b5a0-493a-abd9-e3d8d1e39393",
   "metadata": {},
   "outputs": [
    {
     "data": {
      "text/plain": [
       "'Data Science Masters'"
      ]
     },
     "execution_count": 87,
     "metadata": {},
     "output_type": "execute_result"
    }
   ],
   "source": [
    "Cname.title()"
   ]
  },
  {
   "cell_type": "code",
   "execution_count": null,
   "id": "086a8780-350c-4161-9e0f-8c5566b34158",
   "metadata": {},
   "outputs": [],
   "source": []
  }
 ],
 "metadata": {
  "kernelspec": {
   "display_name": "Python 3 (ipykernel)",
   "language": "python",
   "name": "python3"
  },
  "language_info": {
   "codemirror_mode": {
    "name": "ipython",
    "version": 3
   },
   "file_extension": ".py",
   "mimetype": "text/x-python",
   "name": "python",
   "nbconvert_exporter": "python",
   "pygments_lexer": "ipython3",
   "version": "3.10.8"
  }
 },
 "nbformat": 4,
 "nbformat_minor": 5
}
