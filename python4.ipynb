{
 "cells": [
  {
   "cell_type": "code",
   "execution_count": 2,
   "id": "429e740b-5390-4f63-802d-a7f3f1e42b9b",
   "metadata": {},
   "outputs": [
    {
     "data": {
      "text/plain": [
       "'Hello world'"
      ]
     },
     "execution_count": 2,
     "metadata": {},
     "output_type": "execute_result"
    }
   ],
   "source": [
    "str=\"hello world\"  ##First letter is capital and remaing are smaller\n",
    "str.capitalize()"
   ]
  },
  {
   "cell_type": "markdown",
   "id": "26494609-2075-4c2f-962d-8e4202d24b08",
   "metadata": {},
   "source": [
    "## reversing a string"
   ]
  },
  {
   "cell_type": "code",
   "execution_count": 3,
   "id": "89d59565-709f-4f2e-8642-9567f0de1eac",
   "metadata": {},
   "outputs": [
    {
     "data": {
      "text/plain": [
       "'dlrow olleh'"
      ]
     },
     "execution_count": 3,
     "metadata": {},
     "output_type": "execute_result"
    }
   ],
   "source": [
    "str[::-1]"
   ]
  },
  {
   "cell_type": "code",
   "execution_count": 4,
   "id": "1648d1a9-33a0-4e7f-b50f-ef387e4cfbef",
   "metadata": {},
   "outputs": [
    {
     "data": {
      "text/plain": [
       "<reversed at 0x7f8a1027b460>"
      ]
     },
     "execution_count": 4,
     "metadata": {},
     "output_type": "execute_result"
    }
   ],
   "source": [
    "reversed(str)"
   ]
  },
  {
   "cell_type": "code",
   "execution_count": 6,
   "id": "824085bf-4ee6-46c1-8fc2-761ac1b11849",
   "metadata": {},
   "outputs": [
    {
     "data": {
      "text/plain": [
       "'d l r o w   o l l e h'"
      ]
     },
     "execution_count": 6,
     "metadata": {},
     "output_type": "execute_result"
    }
   ],
   "source": [
    "' '.join(reversed(str))"
   ]
  },
  {
   "cell_type": "code",
   "execution_count": 10,
   "id": "c72936ab-a5f3-4feb-b54c-d4a97127e028",
   "metadata": {},
   "outputs": [
    {
     "data": {
      "text/plain": [
       "'a n u'"
      ]
     },
     "execution_count": 10,
     "metadata": {},
     "output_type": "execute_result"
    }
   ],
   "source": [
    "' '.join(\"anu\")  ##first \"a\" is added then space is added second \"n\" is added then space is added"
   ]
  },
  {
   "cell_type": "code",
   "execution_count": 11,
   "id": "a4191cf4-3017-41a4-977a-5d6387e77c86",
   "metadata": {},
   "outputs": [
    {
     "data": {
      "text/plain": [
       "'r a w n a'"
      ]
     },
     "execution_count": 11,
     "metadata": {},
     "output_type": "execute_result"
    }
   ],
   "source": [
    "' '.join(reversed(\"anwar\"))  ##firest reverse the string and join"
   ]
  },
  {
   "cell_type": "code",
   "execution_count": 12,
   "id": "dbcd0b83-720d-4a74-a2b7-96d4a79224b9",
   "metadata": {},
   "outputs": [
    {
     "data": {
      "text/plain": [
       "'u pw skillsn pw skillsa'"
      ]
     },
     "execution_count": 12,
     "metadata": {},
     "output_type": "execute_result"
    }
   ],
   "source": [
    "' pw skills'.join(reversed(\"anu\"))"
   ]
  },
  {
   "cell_type": "code",
   "execution_count": 14,
   "id": "e2d0b6a0-e930-4d8d-aa18-e7548cc9eedc",
   "metadata": {},
   "outputs": [
    {
     "data": {
      "text/plain": [
       "['t', 'n', 'a']"
      ]
     },
     "execution_count": 14,
     "metadata": {},
     "output_type": "execute_result"
    }
   ],
   "source": [
    "list(reversed(\"ant\"))  ##type casting"
   ]
  },
  {
   "cell_type": "code",
   "execution_count": 4,
   "id": "2765ada7-210a-457f-b2cd-db4270056e84",
   "metadata": {},
   "outputs": [
    {
     "data": {
      "text/plain": [
       "'good morning'"
      ]
     },
     "execution_count": 4,
     "metadata": {},
     "output_type": "execute_result"
    }
   ],
   "source": [
    "##removing charecter from end of string\n",
    "str1=\"  good morning   \"\n",
    "str1.strip(\" \")"
   ]
  },
  {
   "cell_type": "code",
   "execution_count": 18,
   "id": "a53fee58-450c-4d87-bc30-9f37154134ef",
   "metadata": {},
   "outputs": [
    {
     "data": {
      "text/plain": [
       "'good morning   '"
      ]
     },
     "execution_count": 18,
     "metadata": {},
     "output_type": "execute_result"
    }
   ],
   "source": [
    "str1.lstrip(\" \")"
   ]
  },
  {
   "cell_type": "code",
   "execution_count": 19,
   "id": "6e1e4f17-ba1d-47b6-9208-0d1b4fa26d8e",
   "metadata": {},
   "outputs": [
    {
     "data": {
      "text/plain": [
       "'  good morning'"
      ]
     },
     "execution_count": 19,
     "metadata": {},
     "output_type": "execute_result"
    }
   ],
   "source": [
    "str1.rstrip(\" \")"
   ]
  },
  {
   "cell_type": "code",
   "execution_count": 5,
   "id": "09d87611-0a21-4a2f-8e75-308c79ccde00",
   "metadata": {},
   "outputs": [
    {
     "data": {
      "text/plain": [
       "'  good evening   '"
      ]
     },
     "execution_count": 5,
     "metadata": {},
     "output_type": "execute_result"
    }
   ],
   "source": [
    "str1.replace(\"morning\",\"evening\")"
   ]
  },
  {
   "cell_type": "code",
   "execution_count": 7,
   "id": "ee533bcb-6777-45b1-8211-55ca09e61ce9",
   "metadata": {},
   "outputs": [],
   "source": [
    "var1=str1.replace(\"m\",\"k\")"
   ]
  },
  {
   "cell_type": "code",
   "execution_count": 9,
   "id": "419a08cf-a979-476e-9ba2-471da1ee3848",
   "metadata": {},
   "outputs": [
    {
     "name": "stdout",
     "output_type": "stream",
     "text": [
      "139688783280320\n",
      "139688780652720\n"
     ]
    }
   ],
   "source": [
    "print(id(var1))   ## both have different id's because new copy is created\n",
    "print(id(str1))"
   ]
  },
  {
   "cell_type": "code",
   "execution_count": 10,
   "id": "6473bc1b-a665-449d-9df7-c71e92cde998",
   "metadata": {},
   "outputs": [
    {
     "data": {
      "text/plain": [
       "'hello    world'"
      ]
     },
     "execution_count": 10,
     "metadata": {},
     "output_type": "execute_result"
    }
   ],
   "source": [
    "\"hello \\t world\".expandtabs()"
   ]
  },
  {
   "cell_type": "code",
   "execution_count": 14,
   "id": "c3a3df49-d19e-41a1-8a4d-7e0c8078906b",
   "metadata": {},
   "outputs": [
    {
     "data": {
      "text/plain": [
       "'Welcome to pw skills.data science masters'"
      ]
     },
     "execution_count": 14,
     "metadata": {},
     "output_type": "execute_result"
    }
   ],
   "source": [
    "## replace dat to data and cience to science\n",
    "str2=\"Welcome to pw skills.dat cience masters\"\n",
    "str2.replace(\"dat\",\"data\").replace(\"cience\",\"science\")"
   ]
  },
  {
   "cell_type": "code",
   "execution_count": 15,
   "id": "51858975-be06-4b31-b3bb-336417ad5440",
   "metadata": {},
   "outputs": [
    {
     "data": {
      "text/plain": [
       "False"
      ]
     },
     "execution_count": 15,
     "metadata": {},
     "output_type": "execute_result"
    }
   ],
   "source": [
    "str1.isupper()"
   ]
  },
  {
   "cell_type": "code",
   "execution_count": 20,
   "id": "0dad06b3-4475-4d7a-a709-b6325947f978",
   "metadata": {},
   "outputs": [
    {
     "data": {
      "text/plain": [
       "False"
      ]
     },
     "execution_count": 20,
     "metadata": {},
     "output_type": "execute_result"
    }
   ],
   "source": [
    "str3=\"ANWAR ij\"\n",
    "str3.isupper()"
   ]
  },
  {
   "cell_type": "code",
   "execution_count": 21,
   "id": "3f1d43f5-4445-46b4-9aef-8df9dea28325",
   "metadata": {},
   "outputs": [
    {
     "data": {
      "text/plain": [
       "False"
      ]
     },
     "execution_count": 21,
     "metadata": {},
     "output_type": "execute_result"
    }
   ],
   "source": [
    "str3.isspace()"
   ]
  },
  {
   "cell_type": "code",
   "execution_count": 22,
   "id": "206d2cf9-bf9f-40fa-b654-20acfaf9d63f",
   "metadata": {},
   "outputs": [
    {
     "data": {
      "text/plain": [
       "True"
      ]
     },
     "execution_count": 22,
     "metadata": {},
     "output_type": "execute_result"
    }
   ],
   "source": [
    "\" \".isspace()"
   ]
  },
  {
   "cell_type": "code",
   "execution_count": 24,
   "id": "d8c39cca-313b-48dd-bc94-bae268c4de39",
   "metadata": {},
   "outputs": [
    {
     "data": {
      "text/plain": [
       "True"
      ]
     },
     "execution_count": 24,
     "metadata": {},
     "output_type": "execute_result"
    }
   ],
   "source": [
    "str3.endswith(\"j\")"
   ]
  },
  {
   "cell_type": "code",
   "execution_count": 25,
   "id": "ea1cd639-a037-4bf8-9409-c3a5df557da8",
   "metadata": {},
   "outputs": [
    {
     "data": {
      "text/plain": [
       "True"
      ]
     },
     "execution_count": 25,
     "metadata": {},
     "output_type": "execute_result"
    }
   ],
   "source": [
    "str3.startswith(\"A\")"
   ]
  },
  {
   "cell_type": "markdown",
   "id": "f249e470-dddd-46a1-b519-5082044ad546",
   "metadata": {},
   "source": [
    "## checks all string are alpha numeric or not"
   ]
  },
  {
   "cell_type": "code",
   "execution_count": 28,
   "id": "a63bf207-22f6-4c76-bd86-8225332b7a14",
   "metadata": {},
   "outputs": [
    {
     "data": {
      "text/plain": [
       "True"
      ]
     },
     "execution_count": 28,
     "metadata": {},
     "output_type": "execute_result"
    }
   ],
   "source": [
    "str4=\"abcd1233\"\n",
    "str4.isalnum()"
   ]
  },
  {
   "cell_type": "markdown",
   "id": "520c3e9d-c17d-41a3-a127-c69e5cc92f08",
   "metadata": {},
   "source": [
    "#### count the number of charecter in a string"
   ]
  },
  {
   "cell_type": "code",
   "execution_count": 30,
   "id": "c7882819-1d97-4f81-90a1-8f978b431500",
   "metadata": {},
   "outputs": [
    {
     "name": "stdout",
     "output_type": "stream",
     "text": [
      "8\n"
     ]
    }
   ],
   "source": [
    "count=0\n",
    "for i in str3:\n",
    "    count=count+1\n",
    "print(count) "
   ]
  },
  {
   "cell_type": "code",
   "execution_count": 31,
   "id": "9577e5fa-b72b-4996-8ec7-9c3d192d12e7",
   "metadata": {},
   "outputs": [
    {
     "name": "stdout",
     "output_type": "stream",
     "text": [
      "0 = A\n",
      "1 = N\n",
      "2 = W\n",
      "3 = A\n",
      "4 = R\n",
      "5 =  \n",
      "6 = i\n",
      "7 = j\n"
     ]
    }
   ],
   "source": [
    "for i in range(len(str3)):\n",
    "    print(i,\"=\",str3[i])"
   ]
  },
  {
   "cell_type": "code",
   "execution_count": null,
   "id": "3afcf3af-e306-414e-9f9f-92cf4d392c81",
   "metadata": {},
   "outputs": [],
   "source": []
  },
  {
   "cell_type": "code",
   "execution_count": null,
   "id": "d714550c-c04d-4794-9ee2-829e9f753a18",
   "metadata": {},
   "outputs": [],
   "source": []
  },
  {
   "cell_type": "code",
   "execution_count": null,
   "id": "3bc2d079-6488-46eb-9b75-e3f57a3cccd2",
   "metadata": {},
   "outputs": [],
   "source": []
  }
 ],
 "metadata": {
  "kernelspec": {
   "display_name": "Python 3 (ipykernel)",
   "language": "python",
   "name": "python3"
  },
  "language_info": {
   "codemirror_mode": {
    "name": "ipython",
    "version": 3
   },
   "file_extension": ".py",
   "mimetype": "text/x-python",
   "name": "python",
   "nbconvert_exporter": "python",
   "pygments_lexer": "ipython3",
   "version": "3.10.8"
  }
 },
 "nbformat": 4,
 "nbformat_minor": 5
}
