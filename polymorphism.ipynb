{
 "cells": [
  {
   "cell_type": "markdown",
   "id": "e4ddf42d-a26f-4c80-b6cf-582dc55856e2",
   "metadata": {},
   "source": [
    "## polymorphism"
   ]
  },
  {
   "cell_type": "code",
   "execution_count": 1,
   "id": "ff42735c-cbca-4451-912d-7a03d764fafd",
   "metadata": {},
   "outputs": [],
   "source": [
    "def test(a,b):\n",
    "    return a+b"
   ]
  },
  {
   "cell_type": "code",
   "execution_count": 2,
   "id": "a863c45b-c28f-4857-8abd-f15f2644ae0c",
   "metadata": {},
   "outputs": [
    {
     "data": {
      "text/plain": [
       "3"
      ]
     },
     "execution_count": 2,
     "metadata": {},
     "output_type": "execute_result"
    }
   ],
   "source": [
    "test(1,2)"
   ]
  },
  {
   "cell_type": "code",
   "execution_count": 3,
   "id": "01d9a0e2-8123-4a94-af53-9cb089dc332f",
   "metadata": {},
   "outputs": [
    {
     "data": {
      "text/plain": [
       "'anwarshah'"
      ]
     },
     "execution_count": 3,
     "metadata": {},
     "output_type": "execute_result"
    }
   ],
   "source": [
    "test(\"anwar\",\"shah\")"
   ]
  },
  {
   "cell_type": "code",
   "execution_count": 5,
   "id": "6029e53f-01b5-46de-b677-ac50fb6ab105",
   "metadata": {},
   "outputs": [
    {
     "data": {
      "text/plain": [
       "[1, 2, 3, 4, 5, 6, 7, 89, 0]"
      ]
     },
     "execution_count": 5,
     "metadata": {},
     "output_type": "execute_result"
    }
   ],
   "source": [
    "test([1,2,3,4],[5,6,7,89,0])"
   ]
  },
  {
   "cell_type": "code",
   "execution_count": 6,
   "id": "88ccc154-d311-4005-a088-fa1e5a69a721",
   "metadata": {},
   "outputs": [],
   "source": [
    "class data_science:\n",
    "    def syllabus(self):\n",
    "        print(\"this is my syllabus for data science\")"
   ]
  },
  {
   "cell_type": "code",
   "execution_count": 7,
   "id": "6f9a297d-61b6-4f49-a838-6e8a1fc3ed24",
   "metadata": {},
   "outputs": [],
   "source": [
    "class web_dev:\n",
    "    def syllabus(self):\n",
    "        print(\"this is my methord for web dev\")"
   ]
  },
  {
   "cell_type": "code",
   "execution_count": 8,
   "id": "9860c65b-c089-48f1-9779-327df4f7c7f1",
   "metadata": {},
   "outputs": [],
   "source": [
    "def class_parcer(class_object):\n",
    "    for i in class_object:\n",
    "        i.syllabus()"
   ]
  },
  {
   "cell_type": "code",
   "execution_count": 10,
   "id": "ed78d659-5a16-46c9-9c68-68951e9912af",
   "metadata": {},
   "outputs": [],
   "source": [
    "obj_data_science=data_science()"
   ]
  },
  {
   "cell_type": "code",
   "execution_count": 11,
   "id": "bb4a1f10-1c41-42d0-9738-7024409f9c87",
   "metadata": {},
   "outputs": [],
   "source": [
    "obj_web_dev=web_dev()"
   ]
  },
  {
   "cell_type": "code",
   "execution_count": 12,
   "id": "57a2e85a-05be-4380-85b7-a5438c9cdfc2",
   "metadata": {},
   "outputs": [],
   "source": [
    "class_obj=[obj_data_science,obj_web_dev]"
   ]
  },
  {
   "cell_type": "code",
   "execution_count": 13,
   "id": "432cbb64-f94d-4a59-8543-5d52735daa2d",
   "metadata": {},
   "outputs": [
    {
     "name": "stdout",
     "output_type": "stream",
     "text": [
      "this is my syllabus for data science\n",
      "this is my methord for web dev\n"
     ]
    }
   ],
   "source": [
    "class_parcer(class_obj)"
   ]
  },
  {
   "cell_type": "markdown",
   "id": "19c5513f-ece8-4c58-9c23-51471df24984",
   "metadata": {},
   "source": [
    "## Encapsulation"
   ]
  },
  {
   "cell_type": "code",
   "execution_count": 14,
   "id": "716a0215-0e1f-41b4-a607-d2427fac4c41",
   "metadata": {},
   "outputs": [],
   "source": [
    "class test:\n",
    "    def __init__(self,a,b):\n",
    "        self.a=a\n",
    "        self.b=b"
   ]
  },
  {
   "cell_type": "code",
   "execution_count": 15,
   "id": "9c598ae5-6d65-48ae-9361-847738bac485",
   "metadata": {},
   "outputs": [],
   "source": [
    "t=test(2,3)"
   ]
  },
  {
   "cell_type": "code",
   "execution_count": 16,
   "id": "79989edb-c6fe-4c7a-8e12-847414935c52",
   "metadata": {},
   "outputs": [
    {
     "data": {
      "text/plain": [
       "2"
      ]
     },
     "execution_count": 16,
     "metadata": {},
     "output_type": "execute_result"
    }
   ],
   "source": [
    "t.a"
   ]
  },
  {
   "cell_type": "code",
   "execution_count": 17,
   "id": "0a6c3122-231f-497d-b53e-c851dbbc7df4",
   "metadata": {},
   "outputs": [
    {
     "data": {
      "text/plain": [
       "3"
      ]
     },
     "execution_count": 17,
     "metadata": {},
     "output_type": "execute_result"
    }
   ],
   "source": [
    "t.b"
   ]
  },
  {
   "cell_type": "code",
   "execution_count": 18,
   "id": "9b0abc6b-4125-4437-8cac-99763e9af428",
   "metadata": {},
   "outputs": [],
   "source": [
    "t.a=67"
   ]
  },
  {
   "cell_type": "code",
   "execution_count": 19,
   "id": "7952281a-580d-46d0-9dd7-adddd2ef4af9",
   "metadata": {},
   "outputs": [
    {
     "data": {
      "text/plain": [
       "67"
      ]
     },
     "execution_count": 19,
     "metadata": {},
     "output_type": "execute_result"
    }
   ],
   "source": [
    "t.a"
   ]
  },
  {
   "cell_type": "code",
   "execution_count": null,
   "id": "23ab0949-2b69-4352-b3bf-00e7a55343ad",
   "metadata": {},
   "outputs": [],
   "source": [
    "### prevent user to modification of data\n",
    "### encapsutation- hiding my variables from user,not allowing user to access the variable"
   ]
  },
  {
   "cell_type": "code",
   "execution_count": 30,
   "id": "9fd99324-c605-4909-8aeb-de3ba06ba542",
   "metadata": {},
   "outputs": [],
   "source": [
    "class car:\n",
    "    \n",
    "    def __init__(self,year,make,model,speed):\n",
    "        self.__year=year     ## __ is used to make variable private,so that user can't access\n",
    "        self.__make=make\n",
    "        self.__model=model\n",
    "        self.__speed=speed\n",
    "        \n",
    "    def setSpeed(self,speed):\n",
    "        self.__speed=0 if speed<0 else speed\n",
    "    \n",
    "    def getSpeed(self):\n",
    "        return self.__speed"
   ]
  },
  {
   "cell_type": "code",
   "execution_count": 21,
   "id": "b0f4b17d-951b-4f8d-b71d-9efe6340b0e6",
   "metadata": {},
   "outputs": [],
   "source": [
    "c=car(2011,\"toyota\",\"innova\",98)"
   ]
  },
  {
   "cell_type": "code",
   "execution_count": 22,
   "id": "0b067bcd-d18b-4b2c-a019-7299e26ff63c",
   "metadata": {},
   "outputs": [
    {
     "ename": "AttributeError",
     "evalue": "'car' object has no attribute 'year'",
     "output_type": "error",
     "traceback": [
      "\u001b[0;31m---------------------------------------------------------------------------\u001b[0m",
      "\u001b[0;31mAttributeError\u001b[0m                            Traceback (most recent call last)",
      "Cell \u001b[0;32mIn[22], line 1\u001b[0m\n\u001b[0;32m----> 1\u001b[0m \u001b[43mc\u001b[49m\u001b[38;5;241;43m.\u001b[39;49m\u001b[43myear\u001b[49m\n",
      "\u001b[0;31mAttributeError\u001b[0m: 'car' object has no attribute 'year'"
     ]
    }
   ],
   "source": [
    "c.year"
   ]
  },
  {
   "cell_type": "code",
   "execution_count": 23,
   "id": "3b38411b-cf44-426b-9830-9751b77c3f34",
   "metadata": {},
   "outputs": [],
   "source": [
    "## As a progammer we can asscess the variables by classname followed by variable_name"
   ]
  },
  {
   "cell_type": "code",
   "execution_count": 24,
   "id": "b050eae7-3f5f-4ef9-a54f-c41a418b5ffd",
   "metadata": {},
   "outputs": [
    {
     "data": {
      "text/plain": [
       "2011"
      ]
     },
     "execution_count": 24,
     "metadata": {},
     "output_type": "execute_result"
    }
   ],
   "source": [
    "c._car__year"
   ]
  },
  {
   "cell_type": "code",
   "execution_count": 26,
   "id": "ef13b826-7bf3-4b37-8c1b-feef036004f3",
   "metadata": {},
   "outputs": [],
   "source": [
    "c.setSpeed(4343)"
   ]
  },
  {
   "cell_type": "code",
   "execution_count": null,
   "id": "e3d300b5-86ad-43da-88c0-7091a67d4561",
   "metadata": {},
   "outputs": [],
   "source": []
  },
  {
   "cell_type": "code",
   "execution_count": 28,
   "id": "c1529b64-c61b-46b2-aaf8-4ba1f3515fd5",
   "metadata": {},
   "outputs": [
    {
     "data": {
      "text/plain": [
       "4343"
      ]
     },
     "execution_count": 28,
     "metadata": {},
     "output_type": "execute_result"
    }
   ],
   "source": [
    "c._car__speed"
   ]
  },
  {
   "cell_type": "code",
   "execution_count": 35,
   "id": "d3f329b3-494b-4449-a7fd-581d37d74e50",
   "metadata": {},
   "outputs": [],
   "source": [
    "c=car(2011,\"toyota\",\"innova\",98)"
   ]
  },
  {
   "cell_type": "code",
   "execution_count": 36,
   "id": "6a9f8032-33e4-494b-bc7c-89ffbb3f5b7d",
   "metadata": {},
   "outputs": [
    {
     "data": {
      "text/plain": [
       "98"
      ]
     },
     "execution_count": 36,
     "metadata": {},
     "output_type": "execute_result"
    }
   ],
   "source": [
    "c.getSpeed()"
   ]
  },
  {
   "cell_type": "code",
   "execution_count": 51,
   "id": "3c9a8101-335c-4ed3-a7b6-0342fe9866e3",
   "metadata": {},
   "outputs": [],
   "source": [
    "class bank_Account:\n",
    "    \n",
    "    def __init__(self,balance):\n",
    "        self.__balance=balance\n",
    "    def deposite(self,amount):\n",
    "        self.__balance=self.__balance+amount\n",
    "    def withdraw(self,amount):\n",
    "        if self.__balance>=amount:\n",
    "            self.__balance=self.__balance-amount\n",
    "            return True\n",
    "        else:\n",
    "            return False\n",
    "    def get_balance(self):\n",
    "        return self.__balance\n",
    "            \n",
    "                             "
   ]
  },
  {
   "cell_type": "code",
   "execution_count": 43,
   "id": "9aa80961-95bc-4536-85e4-e2e664c77c62",
   "metadata": {},
   "outputs": [],
   "source": [
    "obj_Acoount=bank_Account(1000)"
   ]
  },
  {
   "cell_type": "code",
   "execution_count": 44,
   "id": "25f84daf-4127-42c6-b4e6-3c8c40122923",
   "metadata": {},
   "outputs": [
    {
     "data": {
      "text/plain": [
       "1000"
      ]
     },
     "execution_count": 44,
     "metadata": {},
     "output_type": "execute_result"
    }
   ],
   "source": [
    "obj_Acoount.get_balance()"
   ]
  },
  {
   "cell_type": "code",
   "execution_count": 45,
   "id": "0e9974d2-b995-4ba8-a286-7fd27432d7da",
   "metadata": {},
   "outputs": [],
   "source": [
    "obj_Acoount.deposite(1000)"
   ]
  },
  {
   "cell_type": "code",
   "execution_count": 46,
   "id": "46a90582-6815-45ce-b0f6-c68c73e181a0",
   "metadata": {},
   "outputs": [
    {
     "data": {
      "text/plain": [
       "2000"
      ]
     },
     "execution_count": 46,
     "metadata": {},
     "output_type": "execute_result"
    }
   ],
   "source": [
    "obj_Acoount.get_balance()"
   ]
  },
  {
   "cell_type": "code",
   "execution_count": null,
   "id": "09743b8c-f646-477a-a0ab-d01207edd93e",
   "metadata": {},
   "outputs": [],
   "source": [
    "obj_Acoount.deposite(10000)"
   ]
  },
  {
   "cell_type": "code",
   "execution_count": 49,
   "id": "9f8f36ca-6f54-46a3-adbc-d71611647447",
   "metadata": {},
   "outputs": [],
   "source": [
    "obj_Acoount=bank_Account(1000)"
   ]
  },
  {
   "cell_type": "code",
   "execution_count": 52,
   "id": "97fd2699-f19f-4568-8f4d-6e42ab58b646",
   "metadata": {},
   "outputs": [],
   "source": [
    "obj=bank_Account(2000)"
   ]
  },
  {
   "cell_type": "code",
   "execution_count": 53,
   "id": "14249985-b43a-4188-afc2-3cc4498a22e4",
   "metadata": {},
   "outputs": [
    {
     "data": {
      "text/plain": [
       "False"
      ]
     },
     "execution_count": 53,
     "metadata": {},
     "output_type": "execute_result"
    }
   ],
   "source": [
    "obj.withdraw(10000)"
   ]
  },
  {
   "cell_type": "code",
   "execution_count": 54,
   "id": "a700ca46-d94c-45c4-8459-b4f12d408bee",
   "metadata": {},
   "outputs": [
    {
     "data": {
      "text/plain": [
       "True"
      ]
     },
     "execution_count": 54,
     "metadata": {},
     "output_type": "execute_result"
    }
   ],
   "source": [
    "obj.withdraw(100)"
   ]
  },
  {
   "cell_type": "code",
   "execution_count": 55,
   "id": "415a889b-72eb-4dcb-bacd-8156b48469f0",
   "metadata": {},
   "outputs": [
    {
     "data": {
      "text/plain": [
       "1900"
      ]
     },
     "execution_count": 55,
     "metadata": {},
     "output_type": "execute_result"
    }
   ],
   "source": [
    "obj.get_balance()"
   ]
  },
  {
   "cell_type": "markdown",
   "id": "d723ba0f-e733-4891-aca4-93f87e6d162b",
   "metadata": {},
   "source": [
    "## inheritance"
   ]
  },
  {
   "cell_type": "code",
   "execution_count": 56,
   "id": "64431106-80cb-4a68-a69b-3b858d65c67c",
   "metadata": {},
   "outputs": [],
   "source": [
    "class parent:\n",
    "    def test_parent(self):\n",
    "        print(\"this is my parent class\")"
   ]
  },
  {
   "cell_type": "code",
   "execution_count": 57,
   "id": "28a50c8e-4273-4e33-ab50-866943c37cbe",
   "metadata": {},
   "outputs": [],
   "source": [
    "class child(parent):\n",
    "    pass"
   ]
  },
  {
   "cell_type": "code",
   "execution_count": 58,
   "id": "2ec30197-45aa-4630-b09f-65304e2a87d8",
   "metadata": {},
   "outputs": [],
   "source": [
    "obj_child=child()"
   ]
  },
  {
   "cell_type": "code",
   "execution_count": 59,
   "id": "13168059-bc08-417c-9d35-ad8c12850320",
   "metadata": {},
   "outputs": [
    {
     "name": "stdout",
     "output_type": "stream",
     "text": [
      "this is my parent class\n"
     ]
    }
   ],
   "source": [
    "obj_child.test_parent()   ### with the help of child object we can access parent class methord"
   ]
  },
  {
   "cell_type": "markdown",
   "id": "f5aca6bd-9532-4bca-af55-4f3e5db89e34",
   "metadata": {},
   "source": [
    "#### multi level inheritance"
   ]
  },
  {
   "cell_type": "code",
   "execution_count": 60,
   "id": "ff37d3a0-3b5e-42e3-aabd-6a918f77833a",
   "metadata": {},
   "outputs": [],
   "source": [
    "class class1:\n",
    "    def test_class1(self):\n",
    "        print(\"this is my class1\")"
   ]
  },
  {
   "cell_type": "code",
   "execution_count": 65,
   "id": "9e691971-2813-4de3-bf4d-909373d38d05",
   "metadata": {},
   "outputs": [],
   "source": [
    "class class2(class1):\n",
    "    def test_class2(self):\n",
    "        print(\"this is my class2\")"
   ]
  },
  {
   "cell_type": "code",
   "execution_count": 79,
   "id": "85c82974-134a-4321-8391-94f621560dfe",
   "metadata": {},
   "outputs": [],
   "source": [
    "class class3(class2):\n",
    "    def test_class3(self):\n",
    "        print(\"this is my class3\")"
   ]
  },
  {
   "cell_type": "code",
   "execution_count": 80,
   "id": "a3f03f30-a4ce-4276-abe7-b809bb75f778",
   "metadata": {},
   "outputs": [],
   "source": [
    "obj_class3=class3()"
   ]
  },
  {
   "cell_type": "code",
   "execution_count": 78,
   "id": "94438059-8342-42ff-9c83-902f45a34939",
   "metadata": {},
   "outputs": [
    {
     "name": "stdout",
     "output_type": "stream",
     "text": [
      "this is my class1\n"
     ]
    }
   ],
   "source": [
    "obj_class3.test_class1()"
   ]
  },
  {
   "cell_type": "code",
   "execution_count": 82,
   "id": "fbfbd551-8668-4f52-84f9-72fbfc563f53",
   "metadata": {},
   "outputs": [
    {
     "name": "stdout",
     "output_type": "stream",
     "text": [
      "this is my class2\n"
     ]
    }
   ],
   "source": [
    "obj_class3.test_class2()\n"
   ]
  },
  {
   "cell_type": "markdown",
   "id": "54028e27-eeed-4e4b-a4bb-e3b0f2bc9c6a",
   "metadata": {},
   "source": [
    "### multiple inheritance"
   ]
  },
  {
   "cell_type": "code",
   "execution_count": 83,
   "id": "a0d7baaa-01a5-482c-9414-0d6431b4d1ff",
   "metadata": {},
   "outputs": [],
   "source": [
    "class class1:\n",
    "    def test_class1(self):\n",
    "        print(\"this is my class1\")"
   ]
  },
  {
   "cell_type": "code",
   "execution_count": 84,
   "id": "85b5b4f3-d93f-4ad1-8765-225b10f451c5",
   "metadata": {},
   "outputs": [],
   "source": [
    "class class2:\n",
    "    def test_class2(self):\n",
    "        print(\"this is my class2\")"
   ]
  },
  {
   "cell_type": "code",
   "execution_count": 85,
   "id": "2f49679f-3842-42f4-87e4-039dedec706a",
   "metadata": {},
   "outputs": [],
   "source": [
    "class class3(class1,class2):\n",
    "    pass"
   ]
  },
  {
   "cell_type": "code",
   "execution_count": 86,
   "id": "59140020-efc2-4f7f-b795-1d2f2421c67f",
   "metadata": {},
   "outputs": [],
   "source": [
    "obj_class3=class3()"
   ]
  },
  {
   "cell_type": "code",
   "execution_count": 87,
   "id": "dfba499b-44da-401e-be3b-81f2486102f5",
   "metadata": {},
   "outputs": [
    {
     "name": "stdout",
     "output_type": "stream",
     "text": [
      "this is my class1\n"
     ]
    }
   ],
   "source": [
    "obj_class3.test_class1()"
   ]
  },
  {
   "cell_type": "code",
   "execution_count": 88,
   "id": "e13caa44-43ad-410a-8b69-b3938f13dbc1",
   "metadata": {},
   "outputs": [
    {
     "name": "stdout",
     "output_type": "stream",
     "text": [
      "this is my class2\n"
     ]
    }
   ],
   "source": [
    "obj_class3.test_class2()"
   ]
  },
  {
   "cell_type": "markdown",
   "id": "48af65fa-03a3-4b6e-9e49-51c9f87277c0",
   "metadata": {},
   "source": [
    "### Abstract"
   ]
  },
  {
   "cell_type": "code",
   "execution_count": 1,
   "id": "15530f1d-e0db-4d81-b2cd-01c4ebb0f1e1",
   "metadata": {},
   "outputs": [],
   "source": [
    "import abc\n",
    "\n",
    "class pwskills:\n",
    "    @abc.abstractmethod\n",
    "    def student_details(self):\n",
    "        pass\n",
    "    @abc.abstractmethod\n",
    "    def student_assignment(self):\n",
    "        pass\n",
    "    @abc.abstractmethod\n",
    "    def student_mark(self):\n",
    "        pass"
   ]
  },
  {
   "cell_type": "code",
   "execution_count": 2,
   "id": "18d52ea8-a343-49b8-b50a-f5f0f61e3a35",
   "metadata": {},
   "outputs": [],
   "source": [
    "class dataScince(pwskills):\n",
    "    def student_details(self):\n",
    "        return \"it will try to return datascience masters\"\n",
    "    def student_assignment(self):\n",
    "        return \"it will try to return assignement of datascience masters\""
   ]
  },
  {
   "cell_type": "code",
   "execution_count": 3,
   "id": "2d958096-a99d-4a76-a119-bee89730bfcd",
   "metadata": {},
   "outputs": [],
   "source": [
    "class web_dev(pwskills):\n",
    "    def student_details(self):\n",
    "        return \"it will try to return wed dev\"\n",
    "    def student_assignment(self):\n",
    "        return \"t will try to return assignement of web dev\""
   ]
  },
  {
   "cell_type": "code",
   "execution_count": 4,
   "id": "81f05663-f90c-4e80-bc4e-46900c89bdc3",
   "metadata": {},
   "outputs": [],
   "source": [
    "d=dataScince()"
   ]
  },
  {
   "cell_type": "code",
   "execution_count": 5,
   "id": "5371524c-6297-4160-adb8-a75b040fc847",
   "metadata": {},
   "outputs": [
    {
     "data": {
      "text/plain": [
       "'it will try to return assignement of datascience masters'"
      ]
     },
     "execution_count": 5,
     "metadata": {},
     "output_type": "execute_result"
    }
   ],
   "source": [
    "d.student_assignment()"
   ]
  },
  {
   "cell_type": "code",
   "execution_count": null,
   "id": "d2cd6c58-2f16-44a2-8972-0edc991e880a",
   "metadata": {},
   "outputs": [],
   "source": []
  }
 ],
 "metadata": {
  "kernelspec": {
   "display_name": "Python 3 (ipykernel)",
   "language": "python",
   "name": "python3"
  },
  "language_info": {
   "codemirror_mode": {
    "name": "ipython",
    "version": 3
   },
   "file_extension": ".py",
   "mimetype": "text/x-python",
   "name": "python",
   "nbconvert_exporter": "python",
   "pygments_lexer": "ipython3",
   "version": "3.10.8"
  }
 },
 "nbformat": 4,
 "nbformat_minor": 5
}
