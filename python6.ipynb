{
 "cells": [
  {
   "cell_type": "code",
   "execution_count": 1,
   "id": "c13ed327-c9f3-4777-b950-36e0c843738c",
   "metadata": {},
   "outputs": [
    {
     "data": {
      "text/plain": [
       "dict"
      ]
     },
     "execution_count": 1,
     "metadata": {},
     "output_type": "execute_result"
    }
   ],
   "source": [
    "s={}\n",
    "type(s)"
   ]
  },
  {
   "cell_type": "code",
   "execution_count": 2,
   "id": "698f4019-cc52-429a-ac53-01e33f0503ea",
   "metadata": {},
   "outputs": [
    {
     "data": {
      "text/plain": [
       "set"
      ]
     },
     "execution_count": 2,
     "metadata": {},
     "output_type": "execute_result"
    }
   ],
   "source": [
    "s={1,2,3,4,5,6}\n",
    "type(s)"
   ]
  },
  {
   "cell_type": "code",
   "execution_count": 3,
   "id": "1d0b11b8-cc51-4dc1-b90f-34b9f12a5af6",
   "metadata": {},
   "outputs": [
    {
     "data": {
      "text/plain": [
       "{1, 2, 3, 4, 5, 6, 7}"
      ]
     },
     "execution_count": 3,
     "metadata": {},
     "output_type": "execute_result"
    }
   ],
   "source": [
    "s={1,1,2,2,3,4,5,5,6,6,7,7}  ##set removes the duplicate elements\n",
    "s"
   ]
  },
  {
   "cell_type": "markdown",
   "id": "30f3b640-9c11-4fa2-b51c-1009210180d8",
   "metadata": {},
   "source": [
    "### convertion of set in list"
   ]
  },
  {
   "cell_type": "code",
   "execution_count": 10,
   "id": "43abcbc5-8b66-40f3-8166-79ca23fd7aa6",
   "metadata": {},
   "outputs": [
    {
     "data": {
      "text/plain": [
       "[1, 2, 3, 4, 5, 6, 7]"
      ]
     },
     "execution_count": 10,
     "metadata": {},
     "output_type": "execute_result"
    }
   ],
   "source": [
    "l=list(s)\n",
    "l"
   ]
  },
  {
   "cell_type": "markdown",
   "id": "c82c46ca-518f-4885-9750-e5f23e068f27",
   "metadata": {},
   "source": [
    "### convertion of set int tupples"
   ]
  },
  {
   "cell_type": "code",
   "execution_count": 6,
   "id": "0dd17dbf-052a-4ad0-9023-10485749d96e",
   "metadata": {},
   "outputs": [
    {
     "data": {
      "text/plain": [
       "(1, 2, 3, 4, 5, 6, 7)"
      ]
     },
     "execution_count": 6,
     "metadata": {},
     "output_type": "execute_result"
    }
   ],
   "source": [
    "tuple(s)"
   ]
  },
  {
   "cell_type": "code",
   "execution_count": 11,
   "id": "eb67d0f3-23ce-450f-9873-7d2984e37e11",
   "metadata": {},
   "outputs": [
    {
     "data": {
      "text/plain": [
       "{1, 2, 3, 4, 5, 6, 7}"
      ]
     },
     "execution_count": 11,
     "metadata": {},
     "output_type": "execute_result"
    }
   ],
   "source": [
    "set(l)"
   ]
  },
  {
   "cell_type": "code",
   "execution_count": 12,
   "id": "fe153a25-cc00-46d3-8092-1ad1797035a5",
   "metadata": {},
   "outputs": [
    {
     "ename": "TypeError",
     "evalue": "unhashable type: 'list'",
     "output_type": "error",
     "traceback": [
      "\u001b[0;31m---------------------------------------------------------------------------\u001b[0m",
      "\u001b[0;31mTypeError\u001b[0m                                 Traceback (most recent call last)",
      "Cell \u001b[0;32mIn[12], line 1\u001b[0m\n\u001b[0;32m----> 1\u001b[0m s1\u001b[38;5;241m=\u001b[39m{\u001b[38;5;241m1\u001b[39m,\u001b[38;5;241m2\u001b[39m,\u001b[38;5;241m3\u001b[39m,\u001b[38;5;241m4\u001b[39m,[\u001b[38;5;241m1\u001b[39m,\u001b[38;5;241m2\u001b[39m,\u001b[38;5;241m3\u001b[39m,\u001b[38;5;241m4\u001b[39m,\u001b[38;5;241m5\u001b[39m]}\n",
      "\u001b[0;31mTypeError\u001b[0m: unhashable type: 'list'"
     ]
    }
   ],
   "source": [
    "s1={1,2,3,4,[1,2,3,4,5]}  ###beacuse set is immutable and list is mutable"
   ]
  },
  {
   "cell_type": "code",
   "execution_count": 13,
   "id": "33b530c3-78cc-47e7-a2b4-f10f4e4e56b8",
   "metadata": {},
   "outputs": [],
   "source": [
    "s2={1,2,3,4,(1,2,3,4)}"
   ]
  },
  {
   "cell_type": "code",
   "execution_count": 14,
   "id": "13ebc233-79d1-4ce0-bcbd-b3549d2038a2",
   "metadata": {},
   "outputs": [
    {
     "data": {
      "text/plain": [
       "{(1, 2, 3, 4), 1, 2, 3, 4}"
      ]
     },
     "execution_count": 14,
     "metadata": {},
     "output_type": "execute_result"
    }
   ],
   "source": [
    "s2\n"
   ]
  },
  {
   "cell_type": "code",
   "execution_count": 15,
   "id": "b7f3dd32-e662-4f6c-90ad-0c182cd7aeae",
   "metadata": {},
   "outputs": [
    {
     "data": {
      "text/plain": [
       "{1, 2, 3, 4, 'Anwar', 'anwar'}"
      ]
     },
     "execution_count": 15,
     "metadata": {},
     "output_type": "execute_result"
    }
   ],
   "source": [
    "s3={\"anwar\",\"Anwar\",1,2,3,4}   ##beacuse python is case sensitive\n",
    "s3"
   ]
  },
  {
   "cell_type": "code",
   "execution_count": 16,
   "id": "86dedee0-27cf-4852-a0b9-be97f0195e6a",
   "metadata": {},
   "outputs": [
    {
     "data": {
      "text/plain": [
       "{1, 2, 3, 4, 'anwar'}"
      ]
     },
     "execution_count": 16,
     "metadata": {},
     "output_type": "execute_result"
    }
   ],
   "source": [
    "s4={\"anwar\",\"anwar\",1,2,3,4}\n",
    "s4"
   ]
  },
  {
   "cell_type": "code",
   "execution_count": 17,
   "id": "12240ea0-12ad-4191-a8e7-17f2b034b85a",
   "metadata": {},
   "outputs": [
    {
     "ename": "TypeError",
     "evalue": "'set' object is not subscriptable",
     "output_type": "error",
     "traceback": [
      "\u001b[0;31m---------------------------------------------------------------------------\u001b[0m",
      "\u001b[0;31mTypeError\u001b[0m                                 Traceback (most recent call last)",
      "Cell \u001b[0;32mIn[17], line 1\u001b[0m\n\u001b[0;32m----> 1\u001b[0m \u001b[43ms4\u001b[49m\u001b[43m[\u001b[49m\u001b[38;5;241;43m0\u001b[39;49m\u001b[43m]\u001b[49m\n",
      "\u001b[0;31mTypeError\u001b[0m: 'set' object is not subscriptable"
     ]
    }
   ],
   "source": [
    "s4[0]   ## beacuse it internally create Hashable index"
   ]
  },
  {
   "cell_type": "code",
   "execution_count": 18,
   "id": "1234985a-fb83-430a-8253-94557429b2d8",
   "metadata": {},
   "outputs": [
    {
     "ename": "TypeError",
     "evalue": "'set' object is not subscriptable",
     "output_type": "error",
     "traceback": [
      "\u001b[0;31m---------------------------------------------------------------------------\u001b[0m",
      "\u001b[0;31mTypeError\u001b[0m                                 Traceback (most recent call last)",
      "Cell \u001b[0;32mIn[18], line 1\u001b[0m\n\u001b[0;32m----> 1\u001b[0m \u001b[43ms4\u001b[49m\u001b[43m[\u001b[49m\u001b[43m:\u001b[49m\u001b[43m:\u001b[49m\u001b[38;5;241;43m-\u001b[39;49m\u001b[38;5;241;43m1\u001b[39;49m\u001b[43m]\u001b[49m\n",
      "\u001b[0;31mTypeError\u001b[0m: 'set' object is not subscriptable"
     ]
    }
   ],
   "source": [
    "s4[::-1]"
   ]
  },
  {
   "cell_type": "code",
   "execution_count": 21,
   "id": "34b899c6-d9f5-4866-8f6c-87201e44c034",
   "metadata": {},
   "outputs": [
    {
     "name": "stdout",
     "output_type": "stream",
     "text": [
      "1 2 3 4 anwar "
     ]
    }
   ],
   "source": [
    "for i in s4:\n",
    "    print(i,end=\" \")"
   ]
  },
  {
   "cell_type": "code",
   "execution_count": 23,
   "id": "f3cba029-e530-4e98-b9ec-1686f544d001",
   "metadata": {},
   "outputs": [
    {
     "data": {
      "text/plain": [
       "{1, 2, 3, 4, 66, 'anwar'}"
      ]
     },
     "execution_count": 23,
     "metadata": {},
     "output_type": "execute_result"
    }
   ],
   "source": [
    "s4.add(66)\n",
    "s4"
   ]
  },
  {
   "cell_type": "code",
   "execution_count": 25,
   "id": "e2624cc2-e69f-4816-9728-b8d20c8a1030",
   "metadata": {},
   "outputs": [
    {
     "data": {
      "text/plain": [
       "{1, 2, 3, 4, 66, 'anwar'}"
      ]
     },
     "execution_count": 25,
     "metadata": {},
     "output_type": "execute_result"
    }
   ],
   "source": [
    "s4.add(1)\n",
    "s4"
   ]
  },
  {
   "cell_type": "code",
   "execution_count": 26,
   "id": "1910380b-9e8f-45f5-90fd-a80a733d2a94",
   "metadata": {},
   "outputs": [
    {
     "data": {
      "text/plain": [
       "6"
      ]
     },
     "execution_count": 26,
     "metadata": {},
     "output_type": "execute_result"
    }
   ],
   "source": [
    "len(s4)"
   ]
  },
  {
   "cell_type": "code",
   "execution_count": 27,
   "id": "a38e4823-a613-4c41-a52d-78d5ca64ecfb",
   "metadata": {},
   "outputs": [
    {
     "data": {
      "text/plain": [
       "1"
      ]
     },
     "execution_count": 27,
     "metadata": {},
     "output_type": "execute_result"
    }
   ],
   "source": [
    "s4.pop()"
   ]
  },
  {
   "cell_type": "code",
   "execution_count": 29,
   "id": "f94c5fe2-dd8f-476b-b3bf-04009ccf88eb",
   "metadata": {},
   "outputs": [
    {
     "data": {
      "text/plain": [
       "2"
      ]
     },
     "execution_count": 29,
     "metadata": {},
     "output_type": "execute_result"
    }
   ],
   "source": [
    "s4.pop()"
   ]
  },
  {
   "cell_type": "code",
   "execution_count": 30,
   "id": "bd842714-877d-47b4-a3bf-fecfa21ae252",
   "metadata": {},
   "outputs": [
    {
     "data": {
      "text/plain": [
       "{3, 4, 66, 'anwar'}"
      ]
     },
     "execution_count": 30,
     "metadata": {},
     "output_type": "execute_result"
    }
   ],
   "source": [
    "s4"
   ]
  },
  {
   "cell_type": "code",
   "execution_count": 32,
   "id": "4d1dec9b-ef7f-4acc-a733-766ddca1e02b",
   "metadata": {},
   "outputs": [],
   "source": [
    "s4.add(1)"
   ]
  },
  {
   "cell_type": "code",
   "execution_count": 33,
   "id": "39e50399-85bd-4da8-9bab-ff27643d8f8d",
   "metadata": {},
   "outputs": [],
   "source": [
    "s4.add(2)"
   ]
  },
  {
   "cell_type": "code",
   "execution_count": 34,
   "id": "0653103c-7e88-4853-b08a-02ebaa499e8c",
   "metadata": {},
   "outputs": [
    {
     "data": {
      "text/plain": [
       "{1, 2, 3, 4, 66, 'anwar'}"
      ]
     },
     "execution_count": 34,
     "metadata": {},
     "output_type": "execute_result"
    }
   ],
   "source": [
    "s4"
   ]
  },
  {
   "cell_type": "code",
   "execution_count": 36,
   "id": "99f88bae-1459-4a36-bfbb-0ec847a13307",
   "metadata": {},
   "outputs": [
    {
     "data": {
      "text/plain": [
       "{4}"
      ]
     },
     "execution_count": 36,
     "metadata": {},
     "output_type": "execute_result"
    }
   ],
   "source": [
    "s5={1,2,3,4}\n",
    "s6={1,2,3,5}\n",
    "s5.difference(s6)"
   ]
  },
  {
   "cell_type": "code",
   "execution_count": 37,
   "id": "f6cde42e-0bfc-4fd4-b778-6be744f4ddd5",
   "metadata": {},
   "outputs": [
    {
     "data": {
      "text/plain": [
       "{5}"
      ]
     },
     "execution_count": 37,
     "metadata": {},
     "output_type": "execute_result"
    }
   ],
   "source": [
    "s6.difference(s5)"
   ]
  },
  {
   "cell_type": "markdown",
   "id": "fedd4088-9ebd-4fbb-9255-a3486f9dfdec",
   "metadata": {},
   "source": [
    "## Dictionary"
   ]
  },
  {
   "cell_type": "code",
   "execution_count": 38,
   "id": "7bc67da9-10dd-41c7-989a-92cec9ca9bdb",
   "metadata": {},
   "outputs": [],
   "source": [
    "d={}"
   ]
  },
  {
   "cell_type": "code",
   "execution_count": 39,
   "id": "da0bcdd2-fa86-4dd8-885d-554fb721887c",
   "metadata": {},
   "outputs": [
    {
     "data": {
      "text/plain": [
       "dict"
      ]
     },
     "execution_count": 39,
     "metadata": {},
     "output_type": "execute_result"
    }
   ],
   "source": [
    "type(d)"
   ]
  },
  {
   "cell_type": "code",
   "execution_count": 41,
   "id": "4daadf82-8f68-4912-b2a9-6a614ba5c7d7",
   "metadata": {},
   "outputs": [
    {
     "data": {
      "text/plain": [
       "{'name': 'anwar', 'email_id': 'anshn@hmail.com', 'number': 12344}"
      ]
     },
     "execution_count": 41,
     "metadata": {},
     "output_type": "execute_result"
    }
   ],
   "source": [
    "d1={\"name\":\"anwar\",\"email_id\":\"anshn@hmail.com\",\"number\":12344}\n",
    "d1\n"
   ]
  },
  {
   "cell_type": "code",
   "execution_count": 42,
   "id": "71191637-5a66-4b04-bc2f-8b5f17ee47a9",
   "metadata": {},
   "outputs": [
    {
     "data": {
      "text/plain": [
       "dict"
      ]
     },
     "execution_count": 42,
     "metadata": {},
     "output_type": "execute_result"
    }
   ],
   "source": [
    "type(d1)"
   ]
  },
  {
   "cell_type": "code",
   "execution_count": 43,
   "id": "647baf5d-33a6-4e0c-98a4-14663a958824",
   "metadata": {},
   "outputs": [],
   "source": [
    "d2={\"name\":\"anwar\",\"name\":\"anu\"}"
   ]
  },
  {
   "cell_type": "code",
   "execution_count": 44,
   "id": "bf490a83-07df-413c-98c1-54f9feffc1ac",
   "metadata": {},
   "outputs": [
    {
     "data": {
      "text/plain": [
       "{'name': 'anu'}"
      ]
     },
     "execution_count": 44,
     "metadata": {},
     "output_type": "execute_result"
    }
   ],
   "source": [
    "d2"
   ]
  },
  {
   "cell_type": "code",
   "execution_count": 46,
   "id": "317c2ce7-c3a9-4496-a0e6-c0bd3ce02869",
   "metadata": {},
   "outputs": [
    {
     "data": {
      "text/plain": [
       "{123: 'aks'}"
      ]
     },
     "execution_count": 46,
     "metadata": {},
     "output_type": "execute_result"
    }
   ],
   "source": [
    "d3={123:\"aks\"}\n",
    "d3"
   ]
  },
  {
   "cell_type": "code",
   "execution_count": 48,
   "id": "d8d111d7-9c18-4af6-99b9-8c2e58f140df",
   "metadata": {},
   "outputs": [
    {
     "data": {
      "text/plain": [
       "{True: 'hsdb'}"
      ]
     },
     "execution_count": 48,
     "metadata": {},
     "output_type": "execute_result"
    }
   ],
   "source": [
    "d4={True:\"hsdb\"}\n",
    "d4"
   ]
  },
  {
   "cell_type": "code",
   "execution_count": 50,
   "id": "910568ad-e2d4-4ac6-a1f4-4e1cdcb21c76",
   "metadata": {},
   "outputs": [
    {
     "data": {
      "text/plain": [
       "{23.9: 'hsbh'}"
      ]
     },
     "execution_count": 50,
     "metadata": {},
     "output_type": "execute_result"
    }
   ],
   "source": [
    "d5={23.9:\"hsbh\"}\n",
    "d5"
   ]
  },
  {
   "cell_type": "code",
   "execution_count": 51,
   "id": "f486f967-160a-4248-9a14-b9b8b40f67c4",
   "metadata": {},
   "outputs": [
    {
     "ename": "SyntaxError",
     "evalue": "incomplete input (3202918708.py, line 1)",
     "output_type": "error",
     "traceback": [
      "\u001b[0;36m  Cell \u001b[0;32mIn[51], line 1\u001b[0;36m\u001b[0m\n\u001b[0;31m    d6={#:\"sjkjd\"}\u001b[0m\n\u001b[0m                  ^\u001b[0m\n\u001b[0;31mSyntaxError\u001b[0m\u001b[0;31m:\u001b[0m incomplete input\n"
     ]
    }
   ],
   "source": [
    "d6={#:\"sjkjd\"}   ##spacial case charecter are not allowed as key"
   ]
  },
  {
   "cell_type": "code",
   "execution_count": 52,
   "id": "a54a1ecc-c7ba-41c7-a0ed-f3d2ea4a7ac2",
   "metadata": {},
   "outputs": [
    {
     "ename": "TypeError",
     "evalue": "unhashable type: 'list'",
     "output_type": "error",
     "traceback": [
      "\u001b[0;31m---------------------------------------------------------------------------\u001b[0m",
      "\u001b[0;31mTypeError\u001b[0m                                 Traceback (most recent call last)",
      "Cell \u001b[0;32mIn[52], line 1\u001b[0m\n\u001b[0;32m----> 1\u001b[0m d7\u001b[38;5;241m=\u001b[39m{[\u001b[38;5;241m1\u001b[39m,\u001b[38;5;241m2\u001b[39m,\u001b[38;5;241m3\u001b[39m,]:\u001b[38;5;124m\"\u001b[39m\u001b[38;5;124mjedbnejh\u001b[39m\u001b[38;5;124m\"\u001b[39m}\n",
      "\u001b[0;31mTypeError\u001b[0m: unhashable type: 'list'"
     ]
    }
   ],
   "source": [
    "d7={[1,2,3,]:\"jedbnejh\"}"
   ]
  },
  {
   "cell_type": "code",
   "execution_count": 54,
   "id": "ac3c7c82-76b9-4298-915e-55e5546361f7",
   "metadata": {},
   "outputs": [
    {
     "data": {
      "text/plain": [
       "{(1, 2, 3): 'abd'}"
      ]
     },
     "execution_count": 54,
     "metadata": {},
     "output_type": "execute_result"
    }
   ],
   "source": [
    "d8={(1,2,3,):\"abd\"}\n",
    "d8"
   ]
  },
  {
   "cell_type": "code",
   "execution_count": 56,
   "id": "770049b1-14a9-49c3-b838-c48a675f1e49",
   "metadata": {},
   "outputs": [
    {
     "ename": "TypeError",
     "evalue": "unhashable type: 'set'",
     "output_type": "error",
     "traceback": [
      "\u001b[0;31m---------------------------------------------------------------------------\u001b[0m",
      "\u001b[0;31mTypeError\u001b[0m                                 Traceback (most recent call last)",
      "Cell \u001b[0;32mIn[56], line 1\u001b[0m\n\u001b[0;32m----> 1\u001b[0m d8\u001b[38;5;241m=\u001b[39m{{\u001b[38;5;241m1\u001b[39m,\u001b[38;5;241m2\u001b[39m,\u001b[38;5;241m3\u001b[39m,\u001b[38;5;241m4\u001b[39m}:\u001b[38;5;124m\"\u001b[39m\u001b[38;5;124mabc\u001b[39m\u001b[38;5;124m\"\u001b[39m}\n",
      "\u001b[0;31mTypeError\u001b[0m: unhashable type: 'set'"
     ]
    }
   ],
   "source": [
    "d8={{1,2,3,4}:\"abc\"}"
   ]
  },
  {
   "cell_type": "code",
   "execution_count": 57,
   "id": "e1b43ca5-bdb9-4232-b672-23e5a0c7f09b",
   "metadata": {},
   "outputs": [
    {
     "ename": "TypeError",
     "evalue": "unhashable type: 'dict'",
     "output_type": "error",
     "traceback": [
      "\u001b[0;31m---------------------------------------------------------------------------\u001b[0m",
      "\u001b[0;31mTypeError\u001b[0m                                 Traceback (most recent call last)",
      "Cell \u001b[0;32mIn[57], line 1\u001b[0m\n\u001b[0;32m----> 1\u001b[0m d9\u001b[38;5;241m=\u001b[39m{{\u001b[38;5;124m\"\u001b[39m\u001b[38;5;124manu\u001b[39m\u001b[38;5;124m\"\u001b[39m:\u001b[38;5;241m123\u001b[39m}:\u001b[38;5;124m\"\u001b[39m\u001b[38;5;124mabc\u001b[39m\u001b[38;5;124m\"\u001b[39m}\n",
      "\u001b[0;31mTypeError\u001b[0m: unhashable type: 'dict'"
     ]
    }
   ],
   "source": [
    "d9={{\"anu\":123}:\"abc\"}"
   ]
  },
  {
   "cell_type": "code",
   "execution_count": 3,
   "id": "72abab34-21d1-41a6-92b0-a0fd71e944ab",
   "metadata": {},
   "outputs": [],
   "source": [
    "d10={\"course_name\":[\"maths\",\"physics\",\"chemistry\"]}"
   ]
  },
  {
   "cell_type": "code",
   "execution_count": 4,
   "id": "fc056f06-1d7e-4af9-804b-4f7ebf07b405",
   "metadata": {},
   "outputs": [
    {
     "data": {
      "text/plain": [
       "{'course_name': ['maths', 'physics', 'chemistry']}"
      ]
     },
     "execution_count": 4,
     "metadata": {},
     "output_type": "execute_result"
    }
   ],
   "source": [
    "d10"
   ]
  },
  {
   "cell_type": "code",
   "execution_count": 6,
   "id": "5818bde8-10bd-4800-9056-b36551224d8c",
   "metadata": {},
   "outputs": [
    {
     "data": {
      "text/plain": [
       "{'key': (1, 2, 3, 4)}"
      ]
     },
     "execution_count": 6,
     "metadata": {},
     "output_type": "execute_result"
    }
   ],
   "source": [
    "d11={\"key\":(1,2,3,4)}\n",
    "d11"
   ]
  },
  {
   "cell_type": "code",
   "execution_count": 8,
   "id": "7dd9a190-7d45-4d1d-b48e-216c822275ae",
   "metadata": {},
   "outputs": [
    {
     "data": {
      "text/plain": [
       "{'key': {1, 2, 3, 4}}"
      ]
     },
     "execution_count": 8,
     "metadata": {},
     "output_type": "execute_result"
    }
   ],
   "source": [
    "d12={\"key\":{1,2,3,3,4,}}\n",
    "d12"
   ]
  },
  {
   "cell_type": "code",
   "execution_count": 26,
   "id": "22042263-8a67-4f1f-a4ed-01ec2f92bdd3",
   "metadata": {},
   "outputs": [
    {
     "data": {
      "text/plain": [
       "{'key': {'name': 'anwar', 'course_name': 'pw'}}"
      ]
     },
     "execution_count": 26,
     "metadata": {},
     "output_type": "execute_result"
    }
   ],
   "source": [
    "d13={\"key\":{\"name\":\"anwar\",\"course_name\":\"pw\"}}   ##nested dictionary\n",
    "d13"
   ]
  },
  {
   "cell_type": "code",
   "execution_count": 14,
   "id": "5fa2cfc8-687b-4495-b312-b46d04e99ef3",
   "metadata": {},
   "outputs": [
    {
     "data": {
      "text/plain": [
       "{'course_name': ['data science masters', 'web development', 'JDS'],\n",
       " 'starting_data': (12, 23, 24),\n",
       " 'mentor_name': {'anurag', 'krish naik', 'navin'}}"
      ]
     },
     "execution_count": 14,
     "metadata": {},
     "output_type": "execute_result"
    }
   ],
   "source": [
    "d14={\"course_name\":[\"data science masters\",\"web development\",\"JDS\"],\"starting_data\":(12,23,24),\"mentor_name\":{\"krish naik\",\"navin\",\"anurag\"}}\n",
    "d14"
   ]
  },
  {
   "cell_type": "code",
   "execution_count": 16,
   "id": "a5c48507-1636-4402-8b10-c2315738d66f",
   "metadata": {},
   "outputs": [
    {
     "data": {
      "text/plain": [
       "{'course_name': ['data science masters', 'web development', 'JDS'],\n",
       " 'starting_data': (12, 23, 24),\n",
       " 'mentor_name': {'anurag', 'krish naik', 'navin'},\n",
       " 'timming': (6, 7, 8)}"
      ]
     },
     "execution_count": 16,
     "metadata": {},
     "output_type": "execute_result"
    }
   ],
   "source": [
    "d14[\"timming\"]=(6,7,8)\n",
    "d14"
   ]
  },
  {
   "cell_type": "code",
   "execution_count": 17,
   "id": "e1b5c1d4-b788-4c44-b81c-aba4872e1381",
   "metadata": {},
   "outputs": [
    {
     "data": {
      "text/plain": [
       "['data science masters', 'web development', 'JDS']"
      ]
     },
     "execution_count": 17,
     "metadata": {},
     "output_type": "execute_result"
    }
   ],
   "source": [
    "d14[\"course_name\"]    ##key act as a irator"
   ]
  },
  {
   "cell_type": "code",
   "execution_count": 19,
   "id": "5ab76af4-cd75-471b-91dc-5d8c9de60332",
   "metadata": {},
   "outputs": [
    {
     "data": {
      "text/plain": [
       "set"
      ]
     },
     "execution_count": 19,
     "metadata": {},
     "output_type": "execute_result"
    }
   ],
   "source": [
    "type(d14[\"mentor_name\"])"
   ]
  },
  {
   "cell_type": "code",
   "execution_count": 21,
   "id": "f69d7ef9-2a28-4d22-a3e0-643056a80c76",
   "metadata": {},
   "outputs": [
    {
     "data": {
      "text/plain": [
       "{'course_name': ['data science masters', 'web development', 'JDS'],\n",
       " 'starting_data': (12, 23, 24),\n",
       " 'mentor_name': {'anurag', 'krish naik', 'navin'},\n",
       " 'timming': (6, 7, 8),\n",
       " 'name': 'anu'}"
      ]
     },
     "execution_count": 21,
     "metadata": {},
     "output_type": "execute_result"
    }
   ],
   "source": [
    "d14[\"name\"]=\"anu\"\n",
    "d14"
   ]
  },
  {
   "cell_type": "code",
   "execution_count": 22,
   "id": "69f23823-5748-424b-83e4-331a7f13438f",
   "metadata": {},
   "outputs": [
    {
     "data": {
      "text/plain": [
       "'ANU'"
      ]
     },
     "execution_count": 22,
     "metadata": {},
     "output_type": "execute_result"
    }
   ],
   "source": [
    "d14[\"name\"].upper()"
   ]
  },
  {
   "cell_type": "code",
   "execution_count": 27,
   "id": "21ad9d9b-5a48-4432-8ff3-f967779be746",
   "metadata": {},
   "outputs": [
    {
     "data": {
      "text/plain": [
       "{'key': {'name': 'anwar', 'course_name': 'pw'}}"
      ]
     },
     "execution_count": 27,
     "metadata": {},
     "output_type": "execute_result"
    }
   ],
   "source": [
    "d13"
   ]
  },
  {
   "cell_type": "code",
   "execution_count": 28,
   "id": "331b1c49-ccda-4aab-b461-7e9df225a4a1",
   "metadata": {},
   "outputs": [
    {
     "data": {
      "text/plain": [
       "'pw'"
      ]
     },
     "execution_count": 28,
     "metadata": {},
     "output_type": "execute_result"
    }
   ],
   "source": [
    "d13[\"key\"][\"course_name\"]"
   ]
  },
  {
   "cell_type": "code",
   "execution_count": 29,
   "id": "72a83296-d8e9-4f33-8e50-10fb787047e1",
   "metadata": {},
   "outputs": [],
   "source": [
    "d13[\"key1\"]={\"ages\":12}"
   ]
  },
  {
   "cell_type": "code",
   "execution_count": 30,
   "id": "d35335cb-bcd0-4607-bd27-789a5fa69816",
   "metadata": {},
   "outputs": [
    {
     "data": {
      "text/plain": [
       "{'key': {'name': 'anwar', 'course_name': 'pw'}, 'key1': {'ages': 12}}"
      ]
     },
     "execution_count": 30,
     "metadata": {},
     "output_type": "execute_result"
    }
   ],
   "source": [
    "d13"
   ]
  },
  {
   "cell_type": "code",
   "execution_count": 31,
   "id": "f6989a9b-d02e-40d3-8167-d7dddc422d8f",
   "metadata": {},
   "outputs": [],
   "source": [
    "del d13[\"key1\"]"
   ]
  },
  {
   "cell_type": "code",
   "execution_count": 32,
   "id": "d319ba14-61c5-402b-854e-6db08bce5f36",
   "metadata": {},
   "outputs": [
    {
     "data": {
      "text/plain": [
       "{'key': {'name': 'anwar', 'course_name': 'pw'}}"
      ]
     },
     "execution_count": 32,
     "metadata": {},
     "output_type": "execute_result"
    }
   ],
   "source": [
    "d13"
   ]
  },
  {
   "cell_type": "code",
   "execution_count": 36,
   "id": "8f1fe3e9-985f-4d54-b61d-107c263a577d",
   "metadata": {},
   "outputs": [
    {
     "data": {
      "text/plain": [
       "dict_keys(['key'])"
      ]
     },
     "execution_count": 36,
     "metadata": {},
     "output_type": "execute_result"
    }
   ],
   "source": [
    "d13.keys()"
   ]
  },
  {
   "cell_type": "code",
   "execution_count": 38,
   "id": "bad2823f-4d4b-46c4-870b-fdd959fd3b93",
   "metadata": {},
   "outputs": [
    {
     "data": {
      "text/plain": [
       "dict_values([['data science masters', 'web development', 'JDS'], (12, 23, 24), {'anurag', 'navin', 'krish naik'}, (6, 7, 8), 'anu'])"
      ]
     },
     "execution_count": 38,
     "metadata": {},
     "output_type": "execute_result"
    }
   ],
   "source": [
    "d14.values()"
   ]
  },
  {
   "cell_type": "code",
   "execution_count": 40,
   "id": "58bf00e9-486e-428e-b9af-2ead670101b7",
   "metadata": {},
   "outputs": [
    {
     "data": {
      "text/plain": [
       "[['data science masters', 'web development', 'JDS'],\n",
       " (12, 23, 24),\n",
       " {'anurag', 'krish naik', 'navin'},\n",
       " (6, 7, 8),\n",
       " 'anu']"
      ]
     },
     "execution_count": 40,
     "metadata": {},
     "output_type": "execute_result"
    }
   ],
   "source": [
    "list(d14.values())  ##type convertion"
   ]
  },
  {
   "cell_type": "code",
   "execution_count": 42,
   "id": "f2c5f9ae-13c8-41e1-aee4-684e50a3dc75",
   "metadata": {},
   "outputs": [
    {
     "data": {
      "text/plain": [
       "[('course_name', ['data science masters', 'web development', 'JDS']),\n",
       " ('starting_data', (12, 23, 24)),\n",
       " ('mentor_name', {'anurag', 'krish naik', 'navin'}),\n",
       " ('timming', (6, 7, 8)),\n",
       " ('name', 'anu')]"
      ]
     },
     "execution_count": 42,
     "metadata": {},
     "output_type": "execute_result"
    }
   ],
   "source": [
    "list(d14.items())"
   ]
  },
  {
   "cell_type": "code",
   "execution_count": 43,
   "id": "6c1f8ac5-aca8-4eb8-892b-9c22b076603a",
   "metadata": {},
   "outputs": [],
   "source": [
    "d15=d14.copy()   ## new memmory is allocated for d15 ie,any change in d14 would not affect d15"
   ]
  },
  {
   "cell_type": "code",
   "execution_count": 44,
   "id": "8a831b61-d023-45c1-a7aa-bfd5859fb165",
   "metadata": {},
   "outputs": [
    {
     "data": {
      "text/plain": [
       "{'course_name': ['data science masters', 'web development', 'JDS'],\n",
       " 'starting_data': (12, 23, 24),\n",
       " 'mentor_name': {'anurag', 'krish naik', 'navin'},\n",
       " 'timming': (6, 7, 8),\n",
       " 'name': 'anu'}"
      ]
     },
     "execution_count": 44,
     "metadata": {},
     "output_type": "execute_result"
    }
   ],
   "source": [
    "d15"
   ]
  },
  {
   "cell_type": "code",
   "execution_count": 48,
   "id": "8fa6f981-1afc-4818-8d9f-d1d89a96f769",
   "metadata": {},
   "outputs": [],
   "source": [
    "del d14[\"course_name\"]"
   ]
  },
  {
   "cell_type": "code",
   "execution_count": 49,
   "id": "4b617baf-caf4-4e46-b4e5-9557dc9bc77d",
   "metadata": {},
   "outputs": [
    {
     "data": {
      "text/plain": [
       "{'starting_data': (12, 23, 24),\n",
       " 'mentor_name': {'anurag', 'krish naik', 'navin'},\n",
       " 'timming': (6, 7, 8)}"
      ]
     },
     "execution_count": 49,
     "metadata": {},
     "output_type": "execute_result"
    }
   ],
   "source": [
    "d14"
   ]
  },
  {
   "cell_type": "code",
   "execution_count": 50,
   "id": "3c1739e8-98c6-40f5-b653-036d0021050f",
   "metadata": {},
   "outputs": [
    {
     "data": {
      "text/plain": [
       "{'course_name': ['data science masters', 'web development', 'JDS'],\n",
       " 'starting_data': (12, 23, 24),\n",
       " 'mentor_name': {'anurag', 'krish naik', 'navin'},\n",
       " 'timming': (6, 7, 8),\n",
       " 'name': 'anu'}"
      ]
     },
     "execution_count": 50,
     "metadata": {},
     "output_type": "execute_result"
    }
   ],
   "source": [
    "d15"
   ]
  },
  {
   "cell_type": "code",
   "execution_count": 51,
   "id": "d566edc9-3a8e-4752-8327-fe1bb8312852",
   "metadata": {},
   "outputs": [],
   "source": [
    "d15=d14   ##refernce of d14 is given to d15 ie, any change in d14 will affect d15"
   ]
  },
  {
   "cell_type": "code",
   "execution_count": 52,
   "id": "1afc5871-4bb3-4f5c-89f0-ed467299ef56",
   "metadata": {},
   "outputs": [
    {
     "data": {
      "text/plain": [
       "{'starting_data': (12, 23, 24),\n",
       " 'mentor_name': {'anurag', 'krish naik', 'navin'},\n",
       " 'timming': (6, 7, 8)}"
      ]
     },
     "execution_count": 52,
     "metadata": {},
     "output_type": "execute_result"
    }
   ],
   "source": [
    "d15"
   ]
  },
  {
   "cell_type": "code",
   "execution_count": 53,
   "id": "20cc8781-071d-44ee-ac41-413005c70a6b",
   "metadata": {},
   "outputs": [
    {
     "data": {
      "text/plain": [
       "(6, 7, 8)"
      ]
     },
     "execution_count": 53,
     "metadata": {},
     "output_type": "execute_result"
    }
   ],
   "source": [
    "d15.pop(\"timming\")"
   ]
  },
  {
   "cell_type": "code",
   "execution_count": 54,
   "id": "3668ca9e-b5c8-4cb9-a5c6-160535b173e6",
   "metadata": {},
   "outputs": [
    {
     "data": {
      "text/plain": [
       "{'starting_data': (12, 23, 24),\n",
       " 'mentor_name': {'anurag', 'krish naik', 'navin'}}"
      ]
     },
     "execution_count": 54,
     "metadata": {},
     "output_type": "execute_result"
    }
   ],
   "source": [
    "d15"
   ]
  },
  {
   "cell_type": "code",
   "execution_count": 57,
   "id": "2d869fd6-4ff9-4281-9849-8e2fde45cd60",
   "metadata": {},
   "outputs": [
    {
     "data": {
      "text/plain": [
       "{1: (4, 5, 6), 2: (4, 5, 6), 3: (4, 5, 6)}"
      ]
     },
     "execution_count": 57,
     "metadata": {},
     "output_type": "execute_result"
    }
   ],
   "source": [
    "d11.fromkeys((1,2,3),(4,5,6))"
   ]
  },
  {
   "cell_type": "code",
   "execution_count": 59,
   "id": "9d7769aa-a566-48b7-977b-54403ea5af4c",
   "metadata": {},
   "outputs": [
    {
     "data": {
      "text/plain": [
       "({'key1': 'value1', 'key2': 'value2'}, {'key3': 'value3', 'key4': 'value4'})"
      ]
     },
     "execution_count": 59,
     "metadata": {},
     "output_type": "execute_result"
    }
   ],
   "source": [
    "d16={\"key1\":\"value1\",\"key2\":\"value2\"}\n",
    "d17={\"key3\":\"value3\",\"key4\":\"value4\"}\n",
    "(d16,d17)"
   ]
  },
  {
   "cell_type": "code",
   "execution_count": 61,
   "id": "46c676af-ff93-4567-9183-3359713b8041",
   "metadata": {},
   "outputs": [],
   "source": [
    "d16.update(d15)"
   ]
  },
  {
   "cell_type": "code",
   "execution_count": 62,
   "id": "2d143dc8-bd41-4819-9677-104e35b61372",
   "metadata": {},
   "outputs": [
    {
     "data": {
      "text/plain": [
       "{'key1': 'value1',\n",
       " 'key2': 'value2',\n",
       " 'starting_data': (12, 23, 24),\n",
       " 'mentor_name': {'anurag', 'krish naik', 'navin'}}"
      ]
     },
     "execution_count": 62,
     "metadata": {},
     "output_type": "execute_result"
    }
   ],
   "source": [
    "d16"
   ]
  },
  {
   "cell_type": "code",
   "execution_count": 67,
   "id": "87dfa6ce-b893-456b-b9de-ba1a1a761f6d",
   "metadata": {},
   "outputs": [],
   "source": [
    "d16.update(d17)"
   ]
  },
  {
   "cell_type": "code",
   "execution_count": 68,
   "id": "eef5ab61-de0f-4307-99c3-dfd24c0bfa55",
   "metadata": {},
   "outputs": [
    {
     "data": {
      "text/plain": [
       "{'key1': 'value1', 'key2': 'value2', 'key3': 'value3', 'key4': 'value4'}"
      ]
     },
     "execution_count": 68,
     "metadata": {},
     "output_type": "execute_result"
    }
   ],
   "source": [
    "d16"
   ]
  },
  {
   "cell_type": "code",
   "execution_count": 69,
   "id": "dff604bc-37dd-4c84-b70d-55fb96feb478",
   "metadata": {},
   "outputs": [
    {
     "data": {
      "text/plain": [
       "'value1'"
      ]
     },
     "execution_count": 69,
     "metadata": {},
     "output_type": "execute_result"
    }
   ],
   "source": [
    "d16.get(\"key1\")"
   ]
  },
  {
   "cell_type": "code",
   "execution_count": 71,
   "id": "0f154336-a54f-4afa-a4c2-ddd534b366d2",
   "metadata": {},
   "outputs": [],
   "source": [
    "d16.get(\"key\")  ## it does not return any error if key is not present"
   ]
  },
  {
   "cell_type": "code",
   "execution_count": 72,
   "id": "a6681354-a1f5-4fe2-8d9c-cda64f062a2f",
   "metadata": {},
   "outputs": [
    {
     "ename": "KeyError",
     "evalue": "'key'",
     "output_type": "error",
     "traceback": [
      "\u001b[0;31m---------------------------------------------------------------------------\u001b[0m",
      "\u001b[0;31mKeyError\u001b[0m                                  Traceback (most recent call last)",
      "Cell \u001b[0;32mIn[72], line 1\u001b[0m\n\u001b[0;32m----> 1\u001b[0m \u001b[43md16\u001b[49m\u001b[43m[\u001b[49m\u001b[38;5;124;43m\"\u001b[39;49m\u001b[38;5;124;43mkey\u001b[39;49m\u001b[38;5;124;43m\"\u001b[39;49m\u001b[43m]\u001b[49m\n",
      "\u001b[0;31mKeyError\u001b[0m: 'key'"
     ]
    }
   ],
   "source": [
    "d16[\"key\"]"
   ]
  },
  {
   "cell_type": "markdown",
   "id": "ef1d780a-565f-4948-a712-ac1cab0bd376",
   "metadata": {},
   "source": [
    "## Dictionary comprihensions"
   ]
  },
  {
   "cell_type": "code",
   "execution_count": 73,
   "id": "abb180b0-a0df-440e-a224-1235311c3d58",
   "metadata": {},
   "outputs": [
    {
     "data": {
      "text/plain": [
       "{1: 1, 2: 4, 3: 9, 4: 16, 5: 25, 6: 36, 7: 49, 8: 64, 9: 81, 10: 100}"
      ]
     },
     "execution_count": 73,
     "metadata": {},
     "output_type": "execute_result"
    }
   ],
   "source": [
    "## keys are one to 10 and values are the squres of them\n",
    "\n",
    "{i : i**2 for i in range(1,11)}"
   ]
  },
  {
   "cell_type": "code",
   "execution_count": 77,
   "id": "88dadede-8c9c-4a50-a20c-1ac3f0554205",
   "metadata": {},
   "outputs": [
    {
     "data": {
      "text/plain": [
       "{1: 0.0,\n",
       " 2: 0.3010299956639812,\n",
       " 3: 0.47712125471966244,\n",
       " 4: 0.6020599913279624,\n",
       " 5: 0.6989700043360189,\n",
       " 6: 0.7781512503836436,\n",
       " 7: 0.8450980400142568,\n",
       " 8: 0.9030899869919435,\n",
       " 9: 0.9542425094393249,\n",
       " 10: 1.0}"
      ]
     },
     "execution_count": 77,
     "metadata": {},
     "output_type": "execute_result"
    }
   ],
   "source": [
    "import math\n",
    "d17={i : math.log10(i) for i in range(1,11)}\n",
    "d17"
   ]
  },
  {
   "cell_type": "code",
   "execution_count": 75,
   "id": "bbfaee3f-1c73-449d-ac6a-1017d76fdf7a",
   "metadata": {},
   "outputs": [
    {
     "data": {
      "text/plain": [
       "True"
      ]
     },
     "execution_count": 75,
     "metadata": {},
     "output_type": "execute_result"
    }
   ],
   "source": [
    "\"key1\" in d16"
   ]
  },
  {
   "cell_type": "code",
   "execution_count": 78,
   "id": "76d7a40d-ec4a-4e0e-93d6-7148f76af415",
   "metadata": {},
   "outputs": [
    {
     "name": "stdout",
     "output_type": "stream",
     "text": [
      "0.3010299956639812\n",
      "0.6020599913279624\n",
      "0.7781512503836436\n",
      "0.9030899869919435\n",
      "1.0\n"
     ]
    }
   ],
   "source": [
    "## print all values whoes keys are even number\n",
    "for i in d17.keys():\n",
    "    if i%2==0:\n",
    "        print(d17[i])\n",
    "        "
   ]
  },
  {
   "cell_type": "code",
   "execution_count": null,
   "id": "27b9f650-d025-417f-add8-24c35110c30f",
   "metadata": {},
   "outputs": [],
   "source": []
  }
 ],
 "metadata": {
  "kernelspec": {
   "display_name": "Python 3 (ipykernel)",
   "language": "python",
   "name": "python3"
  },
  "language_info": {
   "codemirror_mode": {
    "name": "ipython",
    "version": 3
   },
   "file_extension": ".py",
   "mimetype": "text/x-python",
   "name": "python",
   "nbconvert_exporter": "python",
   "pygments_lexer": "ipython3",
   "version": "3.10.8"
  }
 },
 "nbformat": 4,
 "nbformat_minor": 5
}
