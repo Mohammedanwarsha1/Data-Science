{
 "cells": [
  {
   "cell_type": "code",
   "execution_count": 2,
   "id": "8eaac6da-8df7-4ca2-bddc-ca44a8ca1c76",
   "metadata": {},
   "outputs": [
    {
     "name": "stdin",
     "output_type": "stream",
     "text": [
      "enter the price 1000\n"
     ]
    },
    {
     "name": "stdout",
     "output_type": "stream",
     "text": [
      "after discount700.0\n"
     ]
    }
   ],
   "source": [
    "price=int(input(\"enter the price\"))\n",
    "if price>1000:\n",
    "    print(\"after dicount{}\".format(price*0.8))\n",
    "else:\n",
    "    print(\"after discount{}\".format(price*0.7))"
   ]
  },
  {
   "cell_type": "code",
   "execution_count": 4,
   "id": "50977e1e-3dec-467a-b1fe-c1d60d494c9a",
   "metadata": {},
   "outputs": [
    {
     "name": "stdin",
     "output_type": "stream",
     "text": [
      "enter the price 5000\n"
     ]
    },
    {
     "name": "stdout",
     "output_type": "stream",
     "text": [
      "the product price is4000.0\n"
     ]
    }
   ],
   "source": [
    "price=int(input(\"enter the price\"))\n",
    "if price>3000:\n",
    "    print(\"the product price is{}\".format(price*0.8))\n",
    "elif price>=2000 and price<=3000:\n",
    "    print(\"the product price is {}\".format(price*0.7))\n",
    "else:\n",
    "    print(\"the product price is {}\".format(price*0.6))"
   ]
  },
  {
   "cell_type": "code",
   "execution_count": null,
   "id": "1cbc2174-2ac5-4b0a-856f-ecfa0cb2bfee",
   "metadata": {},
   "outputs": [],
   "source": [
    "##loops\n",
    "## 1.while loop\n",
    "## 2.for loop\n",
    "## 3.nested loop\n",
    "## 4.loop control(break,continu,pass)"
   ]
  },
  {
   "cell_type": "code",
   "execution_count": 3,
   "id": "fc7b0b0d-2759-44b0-a923-e4c64b44f2c9",
   "metadata": {},
   "outputs": [
    {
     "name": "stdout",
     "output_type": "stream",
     "text": [
      "22\n",
      "23\n",
      "24\n",
      "25\n",
      "26\n",
      "27\n",
      "28\n",
      "29\n",
      "30\n",
      "31\n",
      "32\n",
      "33\n",
      "34\n",
      "35\n",
      "36\n",
      "37\n",
      "38\n",
      "39\n",
      "40\n",
      "41\n",
      "42\n",
      "43\n",
      "44\n",
      "45\n",
      "46\n",
      "47\n",
      "48\n",
      "49\n",
      "50\n",
      "51\n",
      "52\n",
      "53\n",
      "54\n",
      "55\n",
      "56\n",
      "57\n",
      "58\n",
      "59\n",
      "60\n",
      "its time for retairment\n"
     ]
    }
   ],
   "source": [
    "## while loop and else block\n",
    "joining_age=22\n",
    "while joining_age<=60:\n",
    "    print(joining_age)\n",
    "    joining_age=joining_age+1\n",
    "else:\n",
    "    print(\"its time for retairment\")"
   ]
  },
  {
   "cell_type": "code",
   "execution_count": 7,
   "id": "b76153c2-d12e-4597-8b81-9e2c0ed5e44a",
   "metadata": {},
   "outputs": [
    {
     "name": "stdout",
     "output_type": "stream",
     "text": [
      "1000\n",
      "900\n",
      "800\n",
      "700\n",
      "600\n",
      "500\n",
      "400\n",
      "300\n",
      "200\n",
      "100\n",
      "put more money!!\n"
     ]
    }
   ],
   "source": [
    "##consider atm machine with 1000rs \n",
    "total_amount=1000\n",
    "while total_amount!=0:\n",
    "    print(total_amount)\n",
    "    total_amount=total_amount-100\n",
    "else:\n",
    "     print(\"put more money!!\")"
   ]
  },
  {
   "cell_type": "markdown",
   "id": "1ba3fec9-4820-4602-989c-1288c00a5c1a",
   "metadata": {},
   "source": [
    "##for loops\n"
   ]
  },
  {
   "cell_type": "code",
   "execution_count": 8,
   "id": "f77c3257-e32b-4d5e-8c8f-703a75368844",
   "metadata": {},
   "outputs": [],
   "source": [
    "lst=[\"anu\",1,2,3,\"aswin\"]"
   ]
  },
  {
   "cell_type": "code",
   "execution_count": 9,
   "id": "fa3a9a4e-4471-4397-879d-568b1da126c3",
   "metadata": {},
   "outputs": [
    {
     "data": {
      "text/plain": [
       "list"
      ]
     },
     "execution_count": 9,
     "metadata": {},
     "output_type": "execute_result"
    }
   ],
   "source": [
    "type(lst)"
   ]
  },
  {
   "cell_type": "code",
   "execution_count": 10,
   "id": "7e89863d-3058-4d39-b47e-b9bee54b9fe8",
   "metadata": {},
   "outputs": [
    {
     "data": {
      "text/plain": [
       "'anu'"
      ]
     },
     "execution_count": 10,
     "metadata": {},
     "output_type": "execute_result"
    }
   ],
   "source": [
    "lst[0]"
   ]
  },
  {
   "cell_type": "code",
   "execution_count": 11,
   "id": "eb7233bd-c5de-4659-8242-1d6f7127099f",
   "metadata": {},
   "outputs": [
    {
     "data": {
      "text/plain": [
       "'aswin'"
      ]
     },
     "execution_count": 11,
     "metadata": {},
     "output_type": "execute_result"
    }
   ],
   "source": [
    "lst[4]"
   ]
  },
  {
   "cell_type": "code",
   "execution_count": 13,
   "id": "8d211ba1-69ab-442c-8224-6eaa2c703e35",
   "metadata": {},
   "outputs": [
    {
     "name": "stdout",
     "output_type": "stream",
     "text": [
      "anu\n",
      "1\n",
      "2\n",
      "3\n",
      "aswin\n"
     ]
    }
   ],
   "source": [
    "for x in lst:                     ###itrate , x is irating through list\n",
    "\n",
    "    print(x)"
   ]
  },
  {
   "cell_type": "code",
   "execution_count": 17,
   "id": "d7ad9b5e-93db-4fe9-addb-196d8f572153",
   "metadata": {},
   "outputs": [
    {
     "name": "stdout",
     "output_type": "stream",
     "text": [
      "apple\n",
      "mango\n",
      "banana\n",
      "cherry\n",
      "fruit is cherry\n"
     ]
    }
   ],
   "source": [
    "fruit_list=[\"apple\",\"mango\",\"banana\",\"cherry\"]\n",
    "for a in fruit_list:\n",
    "    print(a)\n",
    "    if a==\"cherry\":\n",
    "        print(\"fruit is cherry\")"
   ]
  },
  {
   "cell_type": "code",
   "execution_count": 22,
   "id": "7b7587b6-4922-437a-b40c-d313a2d2d470",
   "metadata": {},
   "outputs": [
    {
     "name": "stdout",
     "output_type": "stream",
     "text": [
      "m\n",
      "a\n",
      "n\n",
      "g\n",
      "o\n"
     ]
    }
   ],
   "source": [
    "fruit=\"mango\"\n",
    "for a in fruit:\n",
    "    print(a)"
   ]
  },
  {
   "cell_type": "code",
   "execution_count": 19,
   "id": "5e596627-594e-4417-9f76-93b7076fba4a",
   "metadata": {},
   "outputs": [
    {
     "data": {
      "text/plain": [
       "'m'"
      ]
     },
     "execution_count": 19,
     "metadata": {},
     "output_type": "execute_result"
    }
   ],
   "source": [
    "fruit[0]"
   ]
  },
  {
   "cell_type": "code",
   "execution_count": 23,
   "id": "6d00f54a-a3bc-413d-9b28-f9c28b8f7de3",
   "metadata": {},
   "outputs": [
    {
     "name": "stdout",
     "output_type": "stream",
     "text": [
      "mango"
     ]
    }
   ],
   "source": [
    "fruit=\"mango\"\n",
    "for a in fruit:\n",
    "    print(a,end=\"\")"
   ]
  },
  {
   "cell_type": "code",
   "execution_count": null,
   "id": "19432e01-f0d6-47e8-a8ab-6727d58bc354",
   "metadata": {},
   "outputs": [],
   "source": [
    "### nested loops"
   ]
  },
  {
   "cell_type": "code",
   "execution_count": null,
   "id": "817a532f-70fb-4254-8136-380ccef770cf",
   "metadata": {},
   "outputs": [],
   "source": [
    "n=7"
   ]
  },
  {
   "cell_type": "code",
   "execution_count": 25,
   "id": "9b8bf3e6-dc35-4830-a723-2d833449be42",
   "metadata": {},
   "outputs": [
    {
     "name": "stdout",
     "output_type": "stream",
     "text": [
      "1\n",
      "2\n",
      "3\n",
      "4\n",
      "5\n",
      "6\n",
      "7\n"
     ]
    }
   ],
   "source": [
    "for i in range(1,8):   ##excude last element\n",
    "    print(i)"
   ]
  },
  {
   "cell_type": "code",
   "execution_count": 29,
   "id": "0664e543-5fe2-4450-84fc-d4d78b787e34",
   "metadata": {},
   "outputs": [
    {
     "name": "stdout",
     "output_type": "stream",
     "text": [
      "1\n",
      "3\n",
      "5\n",
      "7\n"
     ]
    }
   ],
   "source": [
    "for i in range(1,8,2):   ##step is 2 ;skip 2 elements\n",
    "    print(i)"
   ]
  },
  {
   "cell_type": "code",
   "execution_count": 31,
   "id": "47df540a-5ebb-43d1-8d85-a0243ca371bc",
   "metadata": {},
   "outputs": [
    {
     "name": "stdout",
     "output_type": "stream",
     "text": [
      "*\n",
      "**\n",
      "***\n",
      "****\n",
      "*****\n",
      "******\n",
      "*******\n"
     ]
    }
   ],
   "source": [
    "n=7\n",
    "for i in range(0,n):\n",
    "    for j in range(0,i+1):\n",
    "        print(\"*\",end=\"\")\n",
    "    print(\"\\r\")"
   ]
  },
  {
   "cell_type": "code",
   "execution_count": 35,
   "id": "12fa76d2-0002-4d3e-adff-76a39ed70aed",
   "metadata": {},
   "outputs": [
    {
     "name": "stdout",
     "output_type": "stream",
     "text": [
      "apple\n",
      "mango\n",
      "the fruit is banana\n"
     ]
    }
   ],
   "source": [
    "##break and countinue\n",
    "fruit_list=[\"apple\",\"mango\",\"banana\",\"cherry\",\"graps\"]\n",
    "for a in fruit_list:\n",
    "    if a==\"banana\":\n",
    "        print(\"the fruit is banana\")\n",
    "        break\n",
    "    print(a)"
   ]
  },
  {
   "cell_type": "code",
   "execution_count": 36,
   "id": "430a1178-da48-46da-9976-f793903abfe5",
   "metadata": {},
   "outputs": [
    {
     "name": "stdout",
     "output_type": "stream",
     "text": [
      "apple\n",
      "mango\n",
      "the fruit is banana\n",
      "banana\n",
      "cherry\n",
      "graps\n"
     ]
    }
   ],
   "source": [
    "fruit_list=[\"apple\",\"mango\",\"banana\",\"cherry\",\"graps\"]\n",
    "for a in fruit_list:\n",
    "    if a==\"banana\":\n",
    "        print(\"the fruit is banana\")\n",
    "        pass\n",
    "    print(a)"
   ]
  },
  {
   "cell_type": "code",
   "execution_count": 37,
   "id": "7ceffaff-42cf-45bd-ae33-853c531d9909",
   "metadata": {},
   "outputs": [
    {
     "name": "stdout",
     "output_type": "stream",
     "text": [
      "apple\n",
      "mango\n",
      "the fruit is banana\n",
      "cherry\n",
      "graps\n"
     ]
    }
   ],
   "source": [
    "fruit_list=[\"apple\",\"mango\",\"banana\",\"cherry\",\"graps\"]\n",
    "for a in fruit_list:\n",
    "    if a==\"banana\":\n",
    "        print(\"the fruit is banana\")\n",
    "        continue\n",
    "    print(a)"
   ]
  },
  {
   "cell_type": "code",
   "execution_count": null,
   "id": "c79afc85-b80b-423c-9eaf-39922821e06c",
   "metadata": {},
   "outputs": [],
   "source": []
  }
 ],
 "metadata": {
  "kernelspec": {
   "display_name": "Python 3 (ipykernel)",
   "language": "python",
   "name": "python3"
  },
  "language_info": {
   "codemirror_mode": {
    "name": "ipython",
    "version": 3
   },
   "file_extension": ".py",
   "mimetype": "text/x-python",
   "name": "python",
   "nbconvert_exporter": "python",
   "pygments_lexer": "ipython3",
   "version": "3.10.8"
  }
 },
 "nbformat": 4,
 "nbformat_minor": 5
}
