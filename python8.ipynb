{
 "cells": [
  {
   "cell_type": "code",
   "execution_count": 1,
   "id": "47036193-f9f4-4bff-8e99-e155eb067837",
   "metadata": {},
   "outputs": [],
   "source": [
    "##variable length argument"
   ]
  },
  {
   "cell_type": "code",
   "execution_count": 2,
   "id": "555b32d5-99c9-4ff1-be13-56d783319526",
   "metadata": {},
   "outputs": [],
   "source": [
    "def test(*args):   ##args will store as tupples\n",
    "    return args"
   ]
  },
  {
   "cell_type": "code",
   "execution_count": 3,
   "id": "49709597-e7a9-47c9-ab97-7f2258d30d16",
   "metadata": {},
   "outputs": [
    {
     "data": {
      "text/plain": [
       "(1, 2, 3, [1, 2, 3, 4], ('anwar', 1, 2, 3))"
      ]
     },
     "execution_count": 3,
     "metadata": {},
     "output_type": "execute_result"
    }
   ],
   "source": [
    "test(1,2,3,[1,2,3,4],(\"anwar\",1,2,3))"
   ]
  },
  {
   "cell_type": "code",
   "execution_count": 4,
   "id": "1298ad37-caa1-4412-8369-66a57b62fca7",
   "metadata": {},
   "outputs": [],
   "source": [
    "def test1(*args,a):\n",
    "    return args,a"
   ]
  },
  {
   "cell_type": "code",
   "execution_count": 5,
   "id": "97124aed-c382-434b-84f1-1e37879876c9",
   "metadata": {},
   "outputs": [
    {
     "data": {
      "text/plain": [
       "((1, 2, 3, 4), 'anu')"
      ]
     },
     "execution_count": 5,
     "metadata": {},
     "output_type": "execute_result"
    }
   ],
   "source": [
    "test1(1,2,3,4,a=\"anu\")"
   ]
  },
  {
   "cell_type": "code",
   "execution_count": 6,
   "id": "697d44dd-4b50-4707-81be-0b4f97e9aa6b",
   "metadata": {},
   "outputs": [],
   "source": [
    "def test2(*args):\n",
    "    l=[]\n",
    "    for i in args:\n",
    "        if type(i)==list:\n",
    "            l.append(i)\n",
    "    return l\n",
    "    "
   ]
  },
  {
   "cell_type": "code",
   "execution_count": 7,
   "id": "ad7c5982-f9ca-4fec-860f-fa36c9aa3a67",
   "metadata": {},
   "outputs": [
    {
     "data": {
      "text/plain": [
       "[['anwar', 'hi']]"
      ]
     },
     "execution_count": 7,
     "metadata": {},
     "output_type": "execute_result"
    }
   ],
   "source": [
    "test2(1,2,3,[\"anwar\",\"hi\"],(1,2,3,4))"
   ]
  },
  {
   "cell_type": "code",
   "execution_count": 8,
   "id": "a72b0b7a-4500-4f6c-9c15-eef468dca80b",
   "metadata": {},
   "outputs": [],
   "source": [
    "def test3(**args):\n",
    "    return args"
   ]
  },
  {
   "cell_type": "code",
   "execution_count": 9,
   "id": "ad62c5fb-ece9-4dc0-8ed9-11ba319b54f9",
   "metadata": {},
   "outputs": [
    {
     "data": {
      "text/plain": [
       "{}"
      ]
     },
     "execution_count": 9,
     "metadata": {},
     "output_type": "execute_result"
    }
   ],
   "source": [
    "test3()"
   ]
  },
  {
   "cell_type": "code",
   "execution_count": 10,
   "id": "1fb8d10f-faad-4432-b3ee-d98727cd6ae7",
   "metadata": {},
   "outputs": [
    {
     "data": {
      "text/plain": [
       "dict"
      ]
     },
     "execution_count": 10,
     "metadata": {},
     "output_type": "execute_result"
    }
   ],
   "source": [
    "type(test3())"
   ]
  },
  {
   "cell_type": "code",
   "execution_count": 13,
   "id": "31e33411-59b2-4d33-ac78-65524a0273b7",
   "metadata": {},
   "outputs": [
    {
     "data": {
      "text/plain": [
       "{'a': 12, 'b': 23, 'c': 'anu', 'd': [1, 2, 3, 4]}"
      ]
     },
     "execution_count": 13,
     "metadata": {},
     "output_type": "execute_result"
    }
   ],
   "source": [
    "test3(a=12,b=23,c=\"anu\",d=[1,2,3,4])"
   ]
  },
  {
   "cell_type": "code",
   "execution_count": 19,
   "id": "2690bb56-f79f-423c-9274-103dd50e4ff9",
   "metadata": {},
   "outputs": [],
   "source": [
    "def test4(**args):\n",
    "    for i in args.keys():\n",
    "        if type(args[i])==list:\n",
    "            return i,args[i]"
   ]
  },
  {
   "cell_type": "code",
   "execution_count": 20,
   "id": "52776258-b626-447a-9444-79338b3c3ec8",
   "metadata": {},
   "outputs": [
    {
     "data": {
      "text/plain": [
       "('d', [1, 2, 3, 4])"
      ]
     },
     "execution_count": 20,
     "metadata": {},
     "output_type": "execute_result"
    }
   ],
   "source": [
    "test4(a=12,b=23,c=\"anu\",d=[1,2,3,4])"
   ]
  },
  {
   "cell_type": "code",
   "execution_count": 21,
   "id": "4f147f07-4a44-4e18-9375-6177d4e0e26d",
   "metadata": {},
   "outputs": [],
   "source": [
    "def test5(*args,**kwargs):\n",
    "    return args,kwargs"
   ]
  },
  {
   "cell_type": "code",
   "execution_count": 22,
   "id": "0f42e007-b809-49eb-8177-af558d8e1183",
   "metadata": {},
   "outputs": [
    {
     "data": {
      "text/plain": [
       "((1, 2, 3, 4, 4), {'a': 23, 'b': 90})"
      ]
     },
     "execution_count": 22,
     "metadata": {},
     "output_type": "execute_result"
    }
   ],
   "source": [
    "test5(1,2,3,4,4,a=23,b=90)    ##return tupple and dictionary"
   ]
  },
  {
   "cell_type": "code",
   "execution_count": 23,
   "id": "ab402c75-7e7c-4c46-8507-eaa865eadc98",
   "metadata": {},
   "outputs": [
    {
     "data": {
      "text/plain": [
       "range(1, 10)"
      ]
     },
     "execution_count": 23,
     "metadata": {},
     "output_type": "execute_result"
    }
   ],
   "source": [
    "range(1,10)"
   ]
  },
  {
   "cell_type": "code",
   "execution_count": 24,
   "id": "772c3aea-5d83-4dc8-ae90-e749af5f3b30",
   "metadata": {},
   "outputs": [
    {
     "name": "stdout",
     "output_type": "stream",
     "text": [
      "1\n",
      "2\n",
      "3\n",
      "4\n",
      "5\n",
      "6\n",
      "7\n",
      "8\n",
      "9\n"
     ]
    }
   ],
   "source": [
    "for i in range(1,10):\n",
    "    print(i)"
   ]
  },
  {
   "cell_type": "code",
   "execution_count": 25,
   "id": "7a280330-6f68-4ec0-b529-989151938284",
   "metadata": {},
   "outputs": [],
   "source": [
    "l=[1,2,3,4,5,6,\"anu\",\"course\"]"
   ]
  },
  {
   "cell_type": "code",
   "execution_count": null,
   "id": "bdd4ea74-d538-40c1-93b0-558c565b03c9",
   "metadata": {},
   "outputs": [],
   "source": [
    "def test(a):     ###For large data it take lot of space so we use \"range\" like function\n",
    "    n=[]\n",
    "    for i in a:\n",
    "        if type(i)==int:\n",
    "            n.append(i)\n",
    "    return n"
   ]
  },
  {
   "cell_type": "code",
   "execution_count": 26,
   "id": "b3d00543-f533-4646-9268-ac0500d97daf",
   "metadata": {},
   "outputs": [
    {
     "data": {
      "text/plain": [
       "([1, 2, 3, 4, 5, 6, 'anu', 'course'],)"
      ]
     },
     "execution_count": 26,
     "metadata": {},
     "output_type": "execute_result"
    }
   ],
   "source": [
    "test(l)"
   ]
  },
  {
   "cell_type": "code",
   "execution_count": 27,
   "id": "b4244273-ec61-4717-9065-620decb34821",
   "metadata": {},
   "outputs": [],
   "source": [
    "## range like function does not store data so that we handle large files\n"
   ]
  },
  {
   "cell_type": "code",
   "execution_count": 28,
   "id": "9bf9699b-f5ac-4a95-93f8-21689db7c2c7",
   "metadata": {},
   "outputs": [],
   "source": [
    "def test1(n):\n",
    "    a,b=0,1\n",
    "    for i in range(n):\n",
    "        yield(a)\n",
    "        a,b=b,a+b"
   ]
  },
  {
   "cell_type": "code",
   "execution_count": 29,
   "id": "f0d606e7-a02e-4638-b7a7-a9132e2d5406",
   "metadata": {},
   "outputs": [
    {
     "data": {
      "text/plain": [
       "<generator object test1 at 0x7f0fee0c4580>"
      ]
     },
     "execution_count": 29,
     "metadata": {},
     "output_type": "execute_result"
    }
   ],
   "source": [
    "test1(6)"
   ]
  },
  {
   "cell_type": "code",
   "execution_count": 31,
   "id": "d76693c0-eac1-408b-9be2-73f3110b6e8e",
   "metadata": {},
   "outputs": [
    {
     "name": "stdout",
     "output_type": "stream",
     "text": [
      "0\n",
      "1\n",
      "1\n",
      "2\n",
      "3\n",
      "5\n",
      "8\n",
      "13\n",
      "21\n",
      "34\n"
     ]
    }
   ],
   "source": [
    "for i in test1(10):\n",
    "    print(i)"
   ]
  },
  {
   "cell_type": "markdown",
   "id": "ded959fc-20a4-498a-a6dc-c588c0635101",
   "metadata": {},
   "source": [
    "## Lamda function"
   ]
  },
  {
   "cell_type": "code",
   "execution_count": 33,
   "id": "059bb0c8-9f33-47f3-bacc-28c341c6175f",
   "metadata": {},
   "outputs": [],
   "source": [
    "def test2(n,p):\n",
    "    return n**p"
   ]
  },
  {
   "cell_type": "code",
   "execution_count": 35,
   "id": "499e45d8-a5cc-44cf-ae52-f89d74a07c54",
   "metadata": {},
   "outputs": [
    {
     "data": {
      "text/plain": [
       "1024"
      ]
     },
     "execution_count": 35,
     "metadata": {},
     "output_type": "execute_result"
    }
   ],
   "source": [
    "test2(4,5)"
   ]
  },
  {
   "cell_type": "code",
   "execution_count": 38,
   "id": "269d0e36-1841-4aaa-af31-f3f2f925a83b",
   "metadata": {},
   "outputs": [],
   "source": [
    "a=lambda s,q:s**q"
   ]
  },
  {
   "cell_type": "code",
   "execution_count": 40,
   "id": "0267853e-b1a0-4328-97b9-a60eb6eacc1b",
   "metadata": {},
   "outputs": [
    {
     "data": {
      "text/plain": [
       "8"
      ]
     },
     "execution_count": 40,
     "metadata": {},
     "output_type": "execute_result"
    }
   ],
   "source": [
    "a(2,3)"
   ]
  },
  {
   "cell_type": "code",
   "execution_count": 41,
   "id": "c8c8eef9-ea83-462c-a822-4e9297093a99",
   "metadata": {},
   "outputs": [],
   "source": [
    "add=lambda x,y:x+y"
   ]
  },
  {
   "cell_type": "code",
   "execution_count": 42,
   "id": "a94dff81-c203-4021-a78b-94f66a3639a3",
   "metadata": {},
   "outputs": [
    {
     "data": {
      "text/plain": [
       "3"
      ]
     },
     "execution_count": 42,
     "metadata": {},
     "output_type": "execute_result"
    }
   ],
   "source": [
    "add(1,2)"
   ]
  },
  {
   "cell_type": "code",
   "execution_count": 43,
   "id": "5475eb26-ff3b-4d1f-abcf-7af1a011a6b5",
   "metadata": {},
   "outputs": [],
   "source": [
    "c_to_fa=lambda c:(9/5)*c+32   ##converting celcius to faharentheat"
   ]
  },
  {
   "cell_type": "code",
   "execution_count": 44,
   "id": "2021595e-50ae-4605-98a5-f58bbb41ba99",
   "metadata": {},
   "outputs": [
    {
     "data": {
      "text/plain": [
       "53.6"
      ]
     },
     "execution_count": 44,
     "metadata": {},
     "output_type": "execute_result"
    }
   ],
   "source": [
    "c_to_fa(12)"
   ]
  },
  {
   "cell_type": "code",
   "execution_count": 45,
   "id": "29330bca-473f-4689-9874-db00bfb1dad4",
   "metadata": {},
   "outputs": [],
   "source": [
    "max=lambda x,y: x if x>y else y"
   ]
  },
  {
   "cell_type": "code",
   "execution_count": 46,
   "id": "b6f522dc-8adf-4643-bce3-a19a1559693d",
   "metadata": {},
   "outputs": [
    {
     "data": {
      "text/plain": [
       "2"
      ]
     },
     "execution_count": 46,
     "metadata": {},
     "output_type": "execute_result"
    }
   ],
   "source": [
    "max(1,2)"
   ]
  },
  {
   "cell_type": "code",
   "execution_count": 47,
   "id": "b1b9315f-e5c7-4033-9884-45b6968ef5cf",
   "metadata": {},
   "outputs": [],
   "source": [
    "string=\"anwar\""
   ]
  },
  {
   "cell_type": "code",
   "execution_count": 48,
   "id": "d16ebf32-18ba-4c4b-b220-da554a1a26a2",
   "metadata": {},
   "outputs": [],
   "source": [
    "str_len=lambda s:len(s)"
   ]
  },
  {
   "cell_type": "code",
   "execution_count": 50,
   "id": "c26d0c57-8a73-46da-9ff9-c6a01c6266f5",
   "metadata": {},
   "outputs": [
    {
     "data": {
      "text/plain": [
       "5"
      ]
     },
     "execution_count": 50,
     "metadata": {},
     "output_type": "execute_result"
    }
   ],
   "source": [
    "str_len(string)"
   ]
  },
  {
   "cell_type": "markdown",
   "id": "6a238b73-771c-44cb-9015-40cd5a54485e",
   "metadata": {},
   "source": [
    "## Map , Reduce filter function"
   ]
  },
  {
   "cell_type": "code",
   "execution_count": 1,
   "id": "0836f19a-3712-48e1-9c34-0d6370329c03",
   "metadata": {},
   "outputs": [],
   "source": [
    "l=[1,2,3,4,5,6,7]"
   ]
  },
  {
   "cell_type": "code",
   "execution_count": 2,
   "id": "8f2c34a6-1dd5-41fe-9c37-fa1a82dd9d09",
   "metadata": {},
   "outputs": [],
   "source": [
    "def test3(l):\n",
    "    n=[]\n",
    "    for i in l:\n",
    "        n.append(i**2)\n",
    "    return n"
   ]
  },
  {
   "cell_type": "code",
   "execution_count": 3,
   "id": "4c4b385e-8dcf-44c6-9cde-33bc010390bf",
   "metadata": {},
   "outputs": [
    {
     "data": {
      "text/plain": [
       "[1, 4, 9, 16, 25, 36, 49]"
      ]
     },
     "execution_count": 3,
     "metadata": {},
     "output_type": "execute_result"
    }
   ],
   "source": [
    "test3(l)"
   ]
  },
  {
   "cell_type": "code",
   "execution_count": 5,
   "id": "5666f935-e52d-45d0-9318-ac89c9d1defa",
   "metadata": {},
   "outputs": [],
   "source": [
    "def sqr(x):\n",
    "    return x**2"
   ]
  },
  {
   "cell_type": "code",
   "execution_count": 6,
   "id": "4ac090a6-50b7-4e43-9cb8-1134b4a7ffc3",
   "metadata": {},
   "outputs": [
    {
     "data": {
      "text/plain": [
       "<map at 0x7f1c9cca3df0>"
      ]
     },
     "execution_count": 6,
     "metadata": {},
     "output_type": "execute_result"
    }
   ],
   "source": [
    "map(sqr,l)   ###mapper function-map the element in the list/itrable"
   ]
  },
  {
   "cell_type": "code",
   "execution_count": 7,
   "id": "bc676d83-8ee3-4dba-a577-58ded3792972",
   "metadata": {},
   "outputs": [
    {
     "data": {
      "text/plain": [
       "[1, 4, 9, 16, 25, 36, 49]"
      ]
     },
     "execution_count": 7,
     "metadata": {},
     "output_type": "execute_result"
    }
   ],
   "source": [
    "list(map(sqr,l))"
   ]
  },
  {
   "cell_type": "code",
   "execution_count": 8,
   "id": "ce5e9fdb-ce49-4f40-a69b-a7181fb56376",
   "metadata": {},
   "outputs": [
    {
     "data": {
      "text/plain": [
       "[1, 4, 9, 16, 25, 36, 49]"
      ]
     },
     "execution_count": 8,
     "metadata": {},
     "output_type": "execute_result"
    }
   ],
   "source": [
    "list(map(lambda x:x**2,l))"
   ]
  },
  {
   "cell_type": "code",
   "execution_count": 9,
   "id": "495f3223-0cd3-4bf9-8ae4-08316cfde724",
   "metadata": {},
   "outputs": [],
   "source": [
    "## addition of two list"
   ]
  },
  {
   "cell_type": "code",
   "execution_count": 10,
   "id": "6ade52ba-ae82-42f6-a08f-59ea31cf859d",
   "metadata": {},
   "outputs": [],
   "source": [
    "l1=[1,2,3,4,5,6]\n",
    "l2=[4,5,6,7,8,9]"
   ]
  },
  {
   "cell_type": "code",
   "execution_count": 11,
   "id": "aafac625-ea9a-41ea-be0f-905c94963e30",
   "metadata": {},
   "outputs": [
    {
     "data": {
      "text/plain": [
       "[5, 7, 9, 11, 13, 15]"
      ]
     },
     "execution_count": 11,
     "metadata": {},
     "output_type": "execute_result"
    }
   ],
   "source": [
    "list(map(lambda x,y:x+y,l1,l2))"
   ]
  },
  {
   "cell_type": "code",
   "execution_count": 12,
   "id": "3bbceda1-1fd8-41a0-a5f1-0e7cf8985a54",
   "metadata": {},
   "outputs": [],
   "source": [
    "s=\"anwarsha\""
   ]
  },
  {
   "cell_type": "code",
   "execution_count": 15,
   "id": "64eaf6d9-c605-48b9-8c13-8823108cc34f",
   "metadata": {},
   "outputs": [
    {
     "data": {
      "text/plain": [
       "['A', 'N', 'W', 'A', 'R', 'S', 'H', 'A']"
      ]
     },
     "execution_count": 15,
     "metadata": {},
     "output_type": "execute_result"
    }
   ],
   "source": [
    "list(map(lambda x:x.upper(),s))"
   ]
  },
  {
   "cell_type": "code",
   "execution_count": 16,
   "id": "c4a008f5-12c7-4762-965b-0752eb76991a",
   "metadata": {},
   "outputs": [],
   "source": [
    "from functools import reduce"
   ]
  },
  {
   "cell_type": "code",
   "execution_count": 17,
   "id": "efa63757-5a40-48bf-9839-008004762736",
   "metadata": {},
   "outputs": [
    {
     "data": {
      "text/plain": [
       "21"
      ]
     },
     "execution_count": 17,
     "metadata": {},
     "output_type": "execute_result"
    }
   ],
   "source": [
    "reduce(lambda x,y:x+y,l1)   ##working\n",
    "                            ## x=1,y=2 ->x+y=1+2=3   the x=3 y=4"
   ]
  },
  {
   "cell_type": "code",
   "execution_count": 18,
   "id": "8e04efdf-821e-414b-a5fb-120e42802207",
   "metadata": {},
   "outputs": [],
   "source": [
    "def test4(x,y):\n",
    "    return x+y"
   ]
  },
  {
   "cell_type": "code",
   "execution_count": 19,
   "id": "ad8640bd-a855-4e16-ba9d-5be2c7d445bf",
   "metadata": {},
   "outputs": [
    {
     "data": {
      "text/plain": [
       "39"
      ]
     },
     "execution_count": 19,
     "metadata": {},
     "output_type": "execute_result"
    }
   ],
   "source": [
    "reduce(test4,l2)    ## always try to take two argument"
   ]
  },
  {
   "cell_type": "code",
   "execution_count": 20,
   "id": "3ce7656a-dea5-438b-90a8-5d2e72b83ca1",
   "metadata": {},
   "outputs": [
    {
     "data": {
      "text/plain": [
       "1"
      ]
     },
     "execution_count": 20,
     "metadata": {},
     "output_type": "execute_result"
    }
   ],
   "source": [
    "## exceptional case of reduce function\n",
    "reduce(lambda x,y:x+y,[1])"
   ]
  },
  {
   "cell_type": "code",
   "execution_count": 21,
   "id": "3026bbad-796f-4c39-a02b-045dd25829cf",
   "metadata": {},
   "outputs": [
    {
     "data": {
      "text/plain": [
       "6"
      ]
     },
     "execution_count": 21,
     "metadata": {},
     "output_type": "execute_result"
    }
   ],
   "source": [
    "reduce(lambda x,y:x if x>y else y , l1)"
   ]
  },
  {
   "cell_type": "code",
   "execution_count": 22,
   "id": "8c3ce1fd-1b8a-480f-b171-e16961b503eb",
   "metadata": {},
   "outputs": [
    {
     "data": {
      "text/plain": [
       "[1, 2, 3, 4, 5, 6]"
      ]
     },
     "execution_count": 22,
     "metadata": {},
     "output_type": "execute_result"
    }
   ],
   "source": [
    "l1"
   ]
  },
  {
   "cell_type": "markdown",
   "id": "6284d1d9-e671-4e6e-b63c-49385e8f76b2",
   "metadata": {},
   "source": [
    "##Filter function"
   ]
  },
  {
   "cell_type": "code",
   "execution_count": 23,
   "id": "cdb085fd-b34c-4edf-9a0c-9312c0726a5d",
   "metadata": {},
   "outputs": [
    {
     "data": {
      "text/plain": [
       "<filter at 0x7f1c7a6da1a0>"
      ]
     },
     "execution_count": 23,
     "metadata": {},
     "output_type": "execute_result"
    }
   ],
   "source": [
    "filter(lambda x:x%2==0 ,l1) "
   ]
  },
  {
   "cell_type": "code",
   "execution_count": 24,
   "id": "6bde25b8-c3ba-495a-8929-af340f2d9b85",
   "metadata": {},
   "outputs": [
    {
     "data": {
      "text/plain": [
       "[2, 4, 6]"
      ]
     },
     "execution_count": 24,
     "metadata": {},
     "output_type": "execute_result"
    }
   ],
   "source": [
    "list(filter(lambda x:x%2==0 ,l1))"
   ]
  },
  {
   "cell_type": "code",
   "execution_count": 25,
   "id": "9ce1e2d3-86b6-443c-9d4e-88f9d8467d51",
   "metadata": {},
   "outputs": [],
   "source": [
    "l3=[-1,92,-9,-5,3,4,-5]"
   ]
  },
  {
   "cell_type": "code",
   "execution_count": 28,
   "id": "f8873403-a7f5-4700-be6a-3aecf3e7f075",
   "metadata": {},
   "outputs": [
    {
     "data": {
      "text/plain": [
       "[-1, -9, -5, -5]"
      ]
     },
     "execution_count": 28,
     "metadata": {},
     "output_type": "execute_result"
    }
   ],
   "source": [
    "list(filter(lambda x:x<0,l3))"
   ]
  },
  {
   "cell_type": "code",
   "execution_count": 29,
   "id": "7deaa488-8a17-42af-a8fa-cf0969f76865",
   "metadata": {},
   "outputs": [],
   "source": [
    "l4=[\"anwarshah\",\"good\",\"morning\",\"hello\",\"world\"]"
   ]
  },
  {
   "cell_type": "code",
   "execution_count": 32,
   "id": "c18c1aad-36d4-486b-a77d-62fc5be36f9e",
   "metadata": {},
   "outputs": [
    {
     "data": {
      "text/plain": [
       "['good', 'hello', 'world']"
      ]
     },
     "execution_count": 32,
     "metadata": {},
     "output_type": "execute_result"
    }
   ],
   "source": [
    "list(filter(lambda x:len(x)<6,l4))"
   ]
  },
  {
   "cell_type": "code",
   "execution_count": null,
   "id": "fb7801fa-6c0c-4cc5-87c6-9947753a0b9e",
   "metadata": {},
   "outputs": [],
   "source": []
  },
  {
   "cell_type": "code",
   "execution_count": null,
   "id": "6131c3bd-12f7-4792-b750-0dc34884b656",
   "metadata": {},
   "outputs": [],
   "source": []
  },
  {
   "cell_type": "code",
   "execution_count": null,
   "id": "b71f0fb6-7226-477f-8bef-bf07f97104c9",
   "metadata": {},
   "outputs": [],
   "source": []
  },
  {
   "cell_type": "code",
   "execution_count": null,
   "id": "bc8d3308-01db-49f7-a3a0-835763f4a870",
   "metadata": {},
   "outputs": [],
   "source": []
  },
  {
   "cell_type": "code",
   "execution_count": null,
   "id": "7112354f-d92c-4208-80a0-bad063e81548",
   "metadata": {},
   "outputs": [],
   "source": []
  }
 ],
 "metadata": {
  "kernelspec": {
   "display_name": "Python 3 (ipykernel)",
   "language": "python",
   "name": "python3"
  },
  "language_info": {
   "codemirror_mode": {
    "name": "ipython",
    "version": 3
   },
   "file_extension": ".py",
   "mimetype": "text/x-python",
   "name": "python",
   "nbconvert_exporter": "python",
   "pygments_lexer": "ipython3",
   "version": "3.10.8"
  }
 },
 "nbformat": 4,
 "nbformat_minor": 5
}
