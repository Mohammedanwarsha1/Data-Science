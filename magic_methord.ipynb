{
 "cells": [
  {
   "cell_type": "markdown",
   "id": "1f47e66a-e64a-4ec7-af35-98a652111867",
   "metadata": {},
   "source": [
    "## class pwskills:\n",
    "    def student_details(self,name,mail_id,number):\n",
    "        print(name,mail_id,number)"
   ]
  },
  {
   "cell_type": "code",
   "execution_count": 2,
   "id": "c0590e86-dc56-4601-a341-6e96b80e75cf",
   "metadata": {},
   "outputs": [],
   "source": [
    "pw=pwskills()"
   ]
  },
  {
   "cell_type": "code",
   "execution_count": 3,
   "id": "c0e2c538-51c6-41f3-9a54-5457b9dcc403",
   "metadata": {},
   "outputs": [
    {
     "name": "stdout",
     "output_type": "stream",
     "text": [
      "anwar anwar@gmail.com 8273678\n"
     ]
    }
   ],
   "source": [
    "pw.student_details(\"anwar\",\"anwar@gmail.com\",8273678)"
   ]
  },
  {
   "cell_type": "code",
   "execution_count": 4,
   "id": "8988029d-cae3-4226-9de3-47aa8340b89e",
   "metadata": {},
   "outputs": [],
   "source": [
    "class pwskills:\n",
    "    def student_details(self,name,mail_id,number):\n",
    "        print(name,mail_id,number)\n",
    "    @staticmethod     ##Access without creating object\n",
    "    def mentor_class(list_mentor):\n",
    "        print(list_mentor)"
   ]
  },
  {
   "cell_type": "code",
   "execution_count": 5,
   "id": "dc719a6d-9ddb-4a03-b926-a3553f115d34",
   "metadata": {},
   "outputs": [
    {
     "name": "stdout",
     "output_type": "stream",
     "text": [
      "['anwar', 'nadim']\n"
     ]
    }
   ],
   "source": [
    "pwskills.mentor_class([\"anwar\",\"nadim\"])     ##accessing static methord without creating object"
   ]
  },
  {
   "cell_type": "code",
   "execution_count": 6,
   "id": "e0d6c314-a9b1-4160-8c6a-f8bfe5fb802e",
   "metadata": {},
   "outputs": [],
   "source": [
    "class pwskills:\n",
    "    def student_details(self,name,mail_id,number):\n",
    "        print(name,mail_id,number)\n",
    "    @staticmethod     ##Access without creating object\n",
    "    def mentor_class(list_mentor):\n",
    "        print(list_mentor)\n",
    "    def mentor(self,mentor_list):\n",
    "        print(mentor_list)"
   ]
  },
  {
   "cell_type": "code",
   "execution_count": 7,
   "id": "fb8b2cf0-9f68-43c8-92d2-4e6dc8ef44c6",
   "metadata": {},
   "outputs": [],
   "source": [
    "pw=pwskills()"
   ]
  },
  {
   "cell_type": "code",
   "execution_count": null,
   "id": "b85d042b-a549-4a8f-a2a7-22b89dfcb5b1",
   "metadata": {},
   "outputs": [],
   "source": []
  },
  {
   "cell_type": "code",
   "execution_count": 9,
   "id": "b4737616-3f50-4dad-9163-28b0bfc748d7",
   "metadata": {},
   "outputs": [
    {
     "name": "stdout",
     "output_type": "stream",
     "text": [
      "['anwar', 'nadim']\n"
     ]
    }
   ],
   "source": [
    "pw.mentor([\"anwar\",\"nadim\"])"
   ]
  },
  {
   "cell_type": "code",
   "execution_count": 15,
   "id": "3e07bb69-b236-438b-ac23-6c06d739170a",
   "metadata": {},
   "outputs": [
    {
     "name": "stdout",
     "output_type": "stream",
     "text": [
      "['anwar', 'adithya']\n"
     ]
    }
   ],
   "source": [
    "pw.mentor_class([\"anwar\",\"adithya\"])    ##through object we can also access static methord"
   ]
  },
  {
   "cell_type": "code",
   "execution_count": 17,
   "id": "6dad8272-7a15-42c3-8961-fac33743a600",
   "metadata": {},
   "outputs": [],
   "source": [
    "class pwskills:\n",
    "    def student_details(self,name,mail_id,number):\n",
    "        print(name,mail_id,number)\n",
    "    @staticmethod\n",
    "    def mentor_mail_id(mail_id):\n",
    "        print(mail_id)\n",
    "    @staticmethod     ##Access without creating object\n",
    "    def mentor_class(list_mentor):\n",
    "        print(list_mentor)\n",
    "        pwskills.mentor_mail_id([\"good\",\"morning\"])\n",
    "    @classmethod\n",
    "    def class_name(cls,class_name):\n",
    "        cls.mentor_class([\"anwar\",\"hi\"])   ##We can access static methord inside a class methord\n",
    "    def mentor(self,mentor_list):\n",
    "        print(mentor_list)\n",
    "        self.mentor_class([\"hello\",\"world\"])  ##We can access static methord inside a instance methord"
   ]
  },
  {
   "cell_type": "code",
   "execution_count": 18,
   "id": "b2179ced-0aca-4896-a21f-36eca8aaf543",
   "metadata": {},
   "outputs": [],
   "source": [
    "pw2=pwskills()"
   ]
  },
  {
   "cell_type": "code",
   "execution_count": 22,
   "id": "6505b8f2-4009-4307-bf80-61db3a9d0b3f",
   "metadata": {},
   "outputs": [
    {
     "name": "stdout",
     "output_type": "stream",
     "text": [
      "mohan mohan@gmail.com 92873428\n"
     ]
    }
   ],
   "source": [
    "pw2.student_details(\"mohan\",\"mohan@gmail.com\",92873428)"
   ]
  },
  {
   "cell_type": "code",
   "execution_count": 23,
   "id": "a9dc2a90-9216-45e3-9ea8-2394f7929898",
   "metadata": {},
   "outputs": [
    {
     "name": "stdout",
     "output_type": "stream",
     "text": [
      "krusj@gmail.com\n"
     ]
    }
   ],
   "source": [
    "pw2.mentor_mail_id(\"krusj@gmail.com\")"
   ]
  },
  {
   "cell_type": "code",
   "execution_count": 24,
   "id": "2530b175-8461-40aa-917b-62bedb1eb45d",
   "metadata": {},
   "outputs": [
    {
     "name": "stdout",
     "output_type": "stream",
     "text": [
      "dataScienceMasters\n",
      "['good', 'morning']\n"
     ]
    }
   ],
   "source": [
    "pw2.mentor_class(\"dataScienceMasters\")"
   ]
  },
  {
   "cell_type": "markdown",
   "id": "5f5583bc-6f9c-4a67-a03e-16c57a69558c",
   "metadata": {},
   "source": [
    "## MagicMethord or dunder Methord"
   ]
  },
  {
   "cell_type": "code",
   "execution_count": 25,
   "id": "365b76c2-ba7a-45a2-bc7c-02a9f27c6d2d",
   "metadata": {},
   "outputs": [
    {
     "data": {
      "text/plain": [
       "['__abs__',\n",
       " '__add__',\n",
       " '__and__',\n",
       " '__bool__',\n",
       " '__ceil__',\n",
       " '__class__',\n",
       " '__delattr__',\n",
       " '__dir__',\n",
       " '__divmod__',\n",
       " '__doc__',\n",
       " '__eq__',\n",
       " '__float__',\n",
       " '__floor__',\n",
       " '__floordiv__',\n",
       " '__format__',\n",
       " '__ge__',\n",
       " '__getattribute__',\n",
       " '__getnewargs__',\n",
       " '__gt__',\n",
       " '__hash__',\n",
       " '__index__',\n",
       " '__init__',\n",
       " '__init_subclass__',\n",
       " '__int__',\n",
       " '__invert__',\n",
       " '__le__',\n",
       " '__lshift__',\n",
       " '__lt__',\n",
       " '__mod__',\n",
       " '__mul__',\n",
       " '__ne__',\n",
       " '__neg__',\n",
       " '__new__',\n",
       " '__or__',\n",
       " '__pos__',\n",
       " '__pow__',\n",
       " '__radd__',\n",
       " '__rand__',\n",
       " '__rdivmod__',\n",
       " '__reduce__',\n",
       " '__reduce_ex__',\n",
       " '__repr__',\n",
       " '__rfloordiv__',\n",
       " '__rlshift__',\n",
       " '__rmod__',\n",
       " '__rmul__',\n",
       " '__ror__',\n",
       " '__round__',\n",
       " '__rpow__',\n",
       " '__rrshift__',\n",
       " '__rshift__',\n",
       " '__rsub__',\n",
       " '__rtruediv__',\n",
       " '__rxor__',\n",
       " '__setattr__',\n",
       " '__sizeof__',\n",
       " '__str__',\n",
       " '__sub__',\n",
       " '__subclasshook__',\n",
       " '__truediv__',\n",
       " '__trunc__',\n",
       " '__xor__',\n",
       " 'as_integer_ratio',\n",
       " 'bit_count',\n",
       " 'bit_length',\n",
       " 'conjugate',\n",
       " 'denominator',\n",
       " 'from_bytes',\n",
       " 'imag',\n",
       " 'numerator',\n",
       " 'real',\n",
       " 'to_bytes']"
      ]
     },
     "execution_count": 25,
     "metadata": {},
     "output_type": "execute_result"
    }
   ],
   "source": [
    "dir(int)   ##Methords which assosiated with int internally"
   ]
  },
  {
   "cell_type": "code",
   "execution_count": 26,
   "id": "c8e43cd1-b759-4899-8cd1-201a1c3eeb92",
   "metadata": {},
   "outputs": [],
   "source": [
    "a=19"
   ]
  },
  {
   "cell_type": "code",
   "execution_count": 27,
   "id": "ae5e2405-43b5-4644-9844-fd832ae56003",
   "metadata": {},
   "outputs": [
    {
     "data": {
      "text/plain": [
       "26"
      ]
     },
     "execution_count": 27,
     "metadata": {},
     "output_type": "execute_result"
    }
   ],
   "source": [
    "a+7"
   ]
  },
  {
   "cell_type": "code",
   "execution_count": 28,
   "id": "5a4a60a3-60f5-44a8-9070-ba110374579c",
   "metadata": {},
   "outputs": [
    {
     "data": {
      "text/plain": [
       "74"
      ]
     },
     "execution_count": 28,
     "metadata": {},
     "output_type": "execute_result"
    }
   ],
   "source": [
    "a.__add__(55)"
   ]
  },
  {
   "cell_type": "code",
   "execution_count": 29,
   "id": "7cc0e2bf-f45e-4686-8c3b-291c6d7154dc",
   "metadata": {},
   "outputs": [
    {
     "data": {
      "text/plain": [
       "['__add__',\n",
       " '__class__',\n",
       " '__contains__',\n",
       " '__delattr__',\n",
       " '__dir__',\n",
       " '__doc__',\n",
       " '__eq__',\n",
       " '__format__',\n",
       " '__ge__',\n",
       " '__getattribute__',\n",
       " '__getitem__',\n",
       " '__getnewargs__',\n",
       " '__gt__',\n",
       " '__hash__',\n",
       " '__init__',\n",
       " '__init_subclass__',\n",
       " '__iter__',\n",
       " '__le__',\n",
       " '__len__',\n",
       " '__lt__',\n",
       " '__mod__',\n",
       " '__mul__',\n",
       " '__ne__',\n",
       " '__new__',\n",
       " '__reduce__',\n",
       " '__reduce_ex__',\n",
       " '__repr__',\n",
       " '__rmod__',\n",
       " '__rmul__',\n",
       " '__setattr__',\n",
       " '__sizeof__',\n",
       " '__str__',\n",
       " '__subclasshook__',\n",
       " 'capitalize',\n",
       " 'casefold',\n",
       " 'center',\n",
       " 'count',\n",
       " 'encode',\n",
       " 'endswith',\n",
       " 'expandtabs',\n",
       " 'find',\n",
       " 'format',\n",
       " 'format_map',\n",
       " 'index',\n",
       " 'isalnum',\n",
       " 'isalpha',\n",
       " 'isascii',\n",
       " 'isdecimal',\n",
       " 'isdigit',\n",
       " 'isidentifier',\n",
       " 'islower',\n",
       " 'isnumeric',\n",
       " 'isprintable',\n",
       " 'isspace',\n",
       " 'istitle',\n",
       " 'isupper',\n",
       " 'join',\n",
       " 'ljust',\n",
       " 'lower',\n",
       " 'lstrip',\n",
       " 'maketrans',\n",
       " 'partition',\n",
       " 'removeprefix',\n",
       " 'removesuffix',\n",
       " 'replace',\n",
       " 'rfind',\n",
       " 'rindex',\n",
       " 'rjust',\n",
       " 'rpartition',\n",
       " 'rsplit',\n",
       " 'rstrip',\n",
       " 'split',\n",
       " 'splitlines',\n",
       " 'startswith',\n",
       " 'strip',\n",
       " 'swapcase',\n",
       " 'title',\n",
       " 'translate',\n",
       " 'upper',\n",
       " 'zfill']"
      ]
     },
     "execution_count": 29,
     "metadata": {},
     "output_type": "execute_result"
    }
   ],
   "source": [
    "dir(str)"
   ]
  },
  {
   "cell_type": "code",
   "execution_count": 32,
   "id": "47abb8f8-6d3b-4e84-960d-ac4e7c686342",
   "metadata": {},
   "outputs": [],
   "source": [
    "class pwskills3:\n",
    "    def __new__(cls):\n",
    "        print(\"this is my new\")\n",
    "    def __init__(self):\n",
    "        print(\"this is my init\")"
   ]
  },
  {
   "cell_type": "code",
   "execution_count": 33,
   "id": "5c8e16b9-e438-4d5f-be6b-511e3aac3ab9",
   "metadata": {},
   "outputs": [
    {
     "name": "stdout",
     "output_type": "stream",
     "text": [
      "this is my new\n"
     ]
    }
   ],
   "source": [
    "pw=pwskills3()"
   ]
  },
  {
   "cell_type": "code",
   "execution_count": 34,
   "id": "04e0f0ba-99c8-4d5f-9bc2-7fb170641a3d",
   "metadata": {},
   "outputs": [],
   "source": [
    "class pwskills4:\n",
    "    def __init__(self):\n",
    "        self.mobile_number=9278378"
   ]
  },
  {
   "cell_type": "code",
   "execution_count": 35,
   "id": "ea8e9787-1588-42bc-9710-e879e24e5611",
   "metadata": {},
   "outputs": [],
   "source": [
    "p=pwskills4()"
   ]
  },
  {
   "cell_type": "code",
   "execution_count": 36,
   "id": "accffe77-f622-45fd-b677-450abda9614e",
   "metadata": {},
   "outputs": [
    {
     "data": {
      "text/plain": [
       "<__main__.pwskills4 at 0x7f46fd1ad750>"
      ]
     },
     "execution_count": 36,
     "metadata": {},
     "output_type": "execute_result"
    }
   ],
   "source": [
    "p"
   ]
  },
  {
   "cell_type": "code",
   "execution_count": 38,
   "id": "7cef4928-2b22-4b4a-acb6-a1db2e0e8932",
   "metadata": {},
   "outputs": [],
   "source": [
    "class pwskills5:\n",
    "    def __init__(self):\n",
    "        self.mobile_number=9278378\n",
    "    def __str__(self):\n",
    "        return \"this is the majic methord will print something for object\""
   ]
  },
  {
   "cell_type": "code",
   "execution_count": 39,
   "id": "ab988152-c573-4e8a-b14d-f0eea1449980",
   "metadata": {},
   "outputs": [],
   "source": [
    "p1=pwskills5()"
   ]
  },
  {
   "cell_type": "code",
   "execution_count": 40,
   "id": "85ae614b-e72a-4864-9d57-c883ea3af555",
   "metadata": {},
   "outputs": [
    {
     "name": "stdout",
     "output_type": "stream",
     "text": [
      "this is the majic methord will print something for object\n"
     ]
    }
   ],
   "source": [
    "print(p1)"
   ]
  },
  {
   "cell_type": "code",
   "execution_count": 41,
   "id": "43d207ae-1aae-450d-a234-5e5bede9b1bd",
   "metadata": {},
   "outputs": [],
   "source": [
    "class pwskills5:\n",
    "    def __init__(self,course_price,course_name):\n",
    "        self.__course_price=course_price\n",
    "        self.course_name=course_name"
   ]
  },
  {
   "cell_type": "code",
   "execution_count": 42,
   "id": "5e84af49-174e-4116-b270-c37e549f43bc",
   "metadata": {},
   "outputs": [],
   "source": [
    "p3=pwskills5(3500,\"anwar\")"
   ]
  },
  {
   "cell_type": "code",
   "execution_count": 44,
   "id": "e32e2802-ed1d-405b-a203-a14caf89518d",
   "metadata": {},
   "outputs": [
    {
     "data": {
      "text/plain": [
       "'anwar'"
      ]
     },
     "execution_count": 44,
     "metadata": {},
     "output_type": "execute_result"
    }
   ],
   "source": [
    "p3.course_name"
   ]
  },
  {
   "cell_type": "code",
   "execution_count": 45,
   "id": "cd7e9d2d-bedb-4917-9830-b5917804079a",
   "metadata": {},
   "outputs": [
    {
     "data": {
      "text/plain": [
       "3500"
      ]
     },
     "execution_count": 45,
     "metadata": {},
     "output_type": "execute_result"
    }
   ],
   "source": [
    "p3._pwskills5__course_price"
   ]
  },
  {
   "cell_type": "code",
   "execution_count": 48,
   "id": "fd391c36-e9ee-474d-b044-c4f5352ff84c",
   "metadata": {},
   "outputs": [],
   "source": [
    "##Giving access to te user"
   ]
  },
  {
   "cell_type": "code",
   "execution_count": 60,
   "id": "a03ad1ee-b30a-4039-a704-6b44471362df",
   "metadata": {},
   "outputs": [],
   "source": [
    "class pwskills6:\n",
    "    def __init__(self,course_price,course_name):\n",
    "        self.__course_price=course_price\n",
    "        self.course_name=course_name\n",
    "    @property\n",
    "    def course_price_access(self):\n",
    "        return self.__course_price\n",
    "    @course_price_access.setter\n",
    "    def course_price_set(self,price):\n",
    "        if price<3500:\n",
    "            pass\n",
    "        else:\n",
    "            self.__course_price=price\n",
    "    @course_price_access.deleter\n",
    "    def course_price_del(self):\n",
    "        del self.__course_price"
   ]
  },
  {
   "cell_type": "code",
   "execution_count": 63,
   "id": "614d08b1-45b4-4635-a7d8-3b1947e61515",
   "metadata": {},
   "outputs": [],
   "source": [
    "p6=pwskills6(3500,\"anwarshah\")"
   ]
  },
  {
   "cell_type": "code",
   "execution_count": 54,
   "id": "373c1f47-6a89-448e-a069-b8444a194e56",
   "metadata": {},
   "outputs": [
    {
     "data": {
      "text/plain": [
       "3500"
      ]
     },
     "execution_count": 54,
     "metadata": {},
     "output_type": "execute_result"
    }
   ],
   "source": [
    "p6.course_price_access"
   ]
  },
  {
   "cell_type": "code",
   "execution_count": 56,
   "id": "d4f46474-a302-48fe-9f29-ecf20e34f24a",
   "metadata": {},
   "outputs": [],
   "source": [
    "p6.course_price_set=2500"
   ]
  },
  {
   "cell_type": "code",
   "execution_count": 57,
   "id": "b234e29a-8554-481e-a8d7-f2c79a576b78",
   "metadata": {},
   "outputs": [
    {
     "data": {
      "text/plain": [
       "3500"
      ]
     },
     "execution_count": 57,
     "metadata": {},
     "output_type": "execute_result"
    }
   ],
   "source": [
    "p6.course_price_access"
   ]
  },
  {
   "cell_type": "code",
   "execution_count": 61,
   "id": "289a0cf3-88f9-4754-9544-310addeaca23",
   "metadata": {},
   "outputs": [],
   "source": [
    "p6.course_price_set=2500"
   ]
  },
  {
   "cell_type": "code",
   "execution_count": 62,
   "id": "8359fc1d-7e7a-4f0d-8075-4d352a6d7f98",
   "metadata": {},
   "outputs": [
    {
     "data": {
      "text/plain": [
       "4500"
      ]
     },
     "execution_count": 62,
     "metadata": {},
     "output_type": "execute_result"
    }
   ],
   "source": [
    "p6.course_price_access"
   ]
  },
  {
   "cell_type": "code",
   "execution_count": 64,
   "id": "dbd53020-d5a7-4779-b0b0-a1cef5736b4b",
   "metadata": {},
   "outputs": [],
   "source": [
    "del p6.course_price_del"
   ]
  },
  {
   "cell_type": "code",
   "execution_count": 65,
   "id": "ed372c33-89f8-478d-abba-e0bfd205f232",
   "metadata": {},
   "outputs": [
    {
     "ename": "AttributeError",
     "evalue": "'pwskills6' object has no attribute '_pwskills6__course_price'",
     "output_type": "error",
     "traceback": [
      "\u001b[0;31m---------------------------------------------------------------------------\u001b[0m",
      "\u001b[0;31mAttributeError\u001b[0m                            Traceback (most recent call last)",
      "Cell \u001b[0;32mIn[65], line 1\u001b[0m\n\u001b[0;32m----> 1\u001b[0m \u001b[43mp6\u001b[49m\u001b[38;5;241;43m.\u001b[39;49m\u001b[43mcourse_price_access\u001b[49m\n",
      "Cell \u001b[0;32mIn[60], line 7\u001b[0m, in \u001b[0;36mpwskills6.course_price_access\u001b[0;34m(self)\u001b[0m\n\u001b[1;32m      5\u001b[0m \u001b[38;5;129m@property\u001b[39m\n\u001b[1;32m      6\u001b[0m \u001b[38;5;28;01mdef\u001b[39;00m \u001b[38;5;21mcourse_price_access\u001b[39m(\u001b[38;5;28mself\u001b[39m):\n\u001b[0;32m----> 7\u001b[0m     \u001b[38;5;28;01mreturn\u001b[39;00m \u001b[38;5;28;43mself\u001b[39;49m\u001b[38;5;241;43m.\u001b[39;49m\u001b[43m__course_price\u001b[49m\n",
      "\u001b[0;31mAttributeError\u001b[0m: 'pwskills6' object has no attribute '_pwskills6__course_price'"
     ]
    }
   ],
   "source": [
    "p6.course_price_access    ##Because already deleted"
   ]
  },
  {
   "cell_type": "code",
   "execution_count": null,
   "id": "286965fa-5986-412d-ab4e-b32977623af7",
   "metadata": {},
   "outputs": [],
   "source": []
  },
  {
   "cell_type": "code",
   "execution_count": null,
   "id": "29113ae2-6726-48d2-beaa-15752f07ee30",
   "metadata": {},
   "outputs": [],
   "source": []
  },
  {
   "cell_type": "code",
   "execution_count": null,
   "id": "d2f98475-275c-433f-ad25-9302da675f81",
   "metadata": {},
   "outputs": [],
   "source": []
  },
  {
   "cell_type": "code",
   "execution_count": null,
   "id": "fadeebf2-388d-4a04-b93e-f9483e2566a4",
   "metadata": {},
   "outputs": [],
   "source": []
  },
  {
   "cell_type": "code",
   "execution_count": null,
   "id": "cb874a89-699d-4478-9461-a789951e6159",
   "metadata": {},
   "outputs": [],
   "source": []
  },
  {
   "cell_type": "code",
   "execution_count": null,
   "id": "bb0e5742-5d77-48e1-a9e5-9e0f9639e1b3",
   "metadata": {},
   "outputs": [],
   "source": []
  }
 ],
 "metadata": {
  "kernelspec": {
   "display_name": "Python 3 (ipykernel)",
   "language": "python",
   "name": "python3"
  },
  "language_info": {
   "codemirror_mode": {
    "name": "ipython",
    "version": 3
   },
   "file_extension": ".py",
   "mimetype": "text/x-python",
   "name": "python",
   "nbconvert_exporter": "python",
   "pygments_lexer": "ipython3",
   "version": "3.10.8"
  }
 },
 "nbformat": 4,
 "nbformat_minor": 5
}
