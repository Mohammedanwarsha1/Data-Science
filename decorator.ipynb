{
 "cells": [
  {
   "cell_type": "markdown",
   "id": "a4374924-95d1-4b64-8827-cdf17a4dc43b",
   "metadata": {},
   "source": [
    "## Decorator"
   ]
  },
  {
   "cell_type": "code",
   "execution_count": 2,
   "id": "1176afb0-35d1-47b1-949b-cb9776f60bfb",
   "metadata": {},
   "outputs": [],
   "source": [
    "def test():\n",
    "    print(\"this is start of my function\")\n",
    "    print(4+7)\n",
    "    print(\"this is end of my function\")"
   ]
  },
  {
   "cell_type": "code",
   "execution_count": 3,
   "id": "d450031a-65d9-44f9-9875-44a629fbdc5a",
   "metadata": {},
   "outputs": [
    {
     "name": "stdout",
     "output_type": "stream",
     "text": [
      "this is start of my function\n",
      "11\n",
      "this is end of my function\n"
     ]
    }
   ],
   "source": [
    "test()"
   ]
  },
  {
   "cell_type": "code",
   "execution_count": 3,
   "id": "5601f5b6-d672-4441-895e-dcea7ed1b671",
   "metadata": {},
   "outputs": [],
   "source": [
    "## i have to class 1st and 3rd line repeatedly in every function we use decorator"
   ]
  },
  {
   "cell_type": "code",
   "execution_count": 4,
   "id": "7eab2f40-0b02-4a55-8f21-c30c5d1e24a5",
   "metadata": {},
   "outputs": [],
   "source": [
    "def deco(func):\n",
    "    def inner_deco():\n",
    "        print(\"this is my start\")\n",
    "        func()\n",
    "        print(\"this is end of func\")\n",
    "    return inner_deco"
   ]
  },
  {
   "cell_type": "code",
   "execution_count": 6,
   "id": "f5ee2b12-3d52-4870-b298-1252031ad21c",
   "metadata": {},
   "outputs": [],
   "source": [
    "@deco\n",
    "def test1():\n",
    "    print(4+7)"
   ]
  },
  {
   "cell_type": "code",
   "execution_count": 7,
   "id": "c7075c88-2eb6-4d3b-868c-126625b8eb4e",
   "metadata": {},
   "outputs": [
    {
     "name": "stdout",
     "output_type": "stream",
     "text": [
      "this is my start\n",
      "11\n",
      "this is end of func\n"
     ]
    }
   ],
   "source": [
    "test1()"
   ]
  },
  {
   "cell_type": "code",
   "execution_count": 8,
   "id": "41109188-e159-4fc8-b7fa-f35d33aca2ac",
   "metadata": {},
   "outputs": [],
   "source": [
    "import time\n",
    "def timer_test(func):\n",
    "    def timer_test_inner():\n",
    "        start=time.time()\n",
    "        func()\n",
    "        end=time.time()\n",
    "        print(end-start)\n",
    "    return timer_test_inner"
   ]
  },
  {
   "cell_type": "code",
   "execution_count": 10,
   "id": "d923ffeb-6a70-4aad-9b41-885a1e642f04",
   "metadata": {},
   "outputs": [],
   "source": [
    "@timer_test\n",
    "def test2():\n",
    "    print(23+45)"
   ]
  },
  {
   "cell_type": "code",
   "execution_count": 11,
   "id": "db6230ba-5943-45b2-b5b6-1d69618544da",
   "metadata": {},
   "outputs": [
    {
     "name": "stdout",
     "output_type": "stream",
     "text": [
      "68\n",
      "4.458427429199219e-05\n"
     ]
    }
   ],
   "source": [
    "test2()"
   ]
  },
  {
   "cell_type": "code",
   "execution_count": 12,
   "id": "99ab9332-904a-4a74-a2a4-f284d0d06ac0",
   "metadata": {},
   "outputs": [],
   "source": [
    "@timer_test\n",
    "def test3():\n",
    "    for i in range(100000):\n",
    "        pass"
   ]
  },
  {
   "cell_type": "code",
   "execution_count": 13,
   "id": "de9f540f-72bf-4e61-b0b4-29a90639cea0",
   "metadata": {},
   "outputs": [
    {
     "name": "stdout",
     "output_type": "stream",
     "text": [
      "0.001973867416381836\n"
     ]
    }
   ],
   "source": [
    "test3()"
   ]
  },
  {
   "cell_type": "code",
   "execution_count": 14,
   "id": "04d0246b-68a7-4972-968f-f5f3c217a75d",
   "metadata": {},
   "outputs": [],
   "source": [
    "class pwskills1():\n",
    "    def __init__(self,name,email):\n",
    "        self.name=name\n",
    "        self.email=email\n",
    "    def student_details(self):\n",
    "        print(self.name,self.email)"
   ]
  },
  {
   "cell_type": "code",
   "execution_count": 15,
   "id": "20f2601f-a0cd-4f60-8721-6f9072f42d74",
   "metadata": {},
   "outputs": [],
   "source": [
    "pw=pwskills1(\"anwar\",\"anu@gamil.com\")"
   ]
  },
  {
   "cell_type": "code",
   "execution_count": 16,
   "id": "60e875ab-c4a5-40e4-ae21-0449dfcb5fb5",
   "metadata": {},
   "outputs": [
    {
     "data": {
      "text/plain": [
       "'anwar'"
      ]
     },
     "execution_count": 16,
     "metadata": {},
     "output_type": "execute_result"
    }
   ],
   "source": [
    "pw.name"
   ]
  },
  {
   "cell_type": "code",
   "execution_count": 17,
   "id": "26da6a20-b2a8-4f4e-b0fb-35c95519da5a",
   "metadata": {},
   "outputs": [
    {
     "data": {
      "text/plain": [
       "'anu@gamil.com'"
      ]
     },
     "execution_count": 17,
     "metadata": {},
     "output_type": "execute_result"
    }
   ],
   "source": [
    "pw.email"
   ]
  },
  {
   "cell_type": "code",
   "execution_count": 18,
   "id": "95418bae-b08f-445b-813b-9ae0cfb89d49",
   "metadata": {},
   "outputs": [],
   "source": [
    "## we can use same using Decorator"
   ]
  },
  {
   "cell_type": "code",
   "execution_count": 19,
   "id": "f630870b-c573-456d-a79e-66e85f26c50d",
   "metadata": {},
   "outputs": [],
   "source": [
    "class pwskills1():\n",
    "    def __init__(self,name,email):\n",
    "        self.name=name\n",
    "        self.email=email\n",
    "    @classmethod       ##cls bind the methord to the entier class\n",
    "    def details(cls,name,email):\n",
    "        return cls(name,email)\n",
    "    \n",
    "    def student_details(self):\n",
    "        print(self.name,self.email)"
   ]
  },
  {
   "cell_type": "code",
   "execution_count": 20,
   "id": "72bb3276-4b31-44b1-a713-bb23804e45f3",
   "metadata": {},
   "outputs": [],
   "source": [
    "pw=pwskills1.details(\"anwar\",\"anu@gmail.com\")  ## pass name and email"
   ]
  },
  {
   "cell_type": "code",
   "execution_count": 22,
   "id": "71943868-e9d7-4376-82f9-5d065f8f7139",
   "metadata": {},
   "outputs": [
    {
     "data": {
      "text/plain": [
       "'anwar'"
      ]
     },
     "execution_count": 22,
     "metadata": {},
     "output_type": "execute_result"
    }
   ],
   "source": [
    "pw.name"
   ]
  },
  {
   "cell_type": "code",
   "execution_count": 24,
   "id": "a9ccaccc-ef6b-4db5-abae-ec3c73043b2b",
   "metadata": {},
   "outputs": [
    {
     "name": "stdout",
     "output_type": "stream",
     "text": [
      "anwar anu@gmail.com\n"
     ]
    }
   ],
   "source": [
    "pw.student_details()   ##access methord also"
   ]
  },
  {
   "cell_type": "code",
   "execution_count": 33,
   "id": "65a45561-5af1-43fb-9567-5cb5ddcaeaa3",
   "metadata": {},
   "outputs": [],
   "source": [
    "class pwskills2():\n",
    "    mobile_number=12345\n",
    "    def __init__(self,name,email):\n",
    "        self.name=name\n",
    "        self.email=email\n",
    "    @classmethod       ##cls bind the methord to the entier class\n",
    "    def details(cls,name,email):\n",
    "        return cls(name,email)\n",
    "    \n",
    "    def student_details(self):\n",
    "        print(self.name,self.email,pwskills2.mobile_number)"
   ]
  },
  {
   "cell_type": "code",
   "execution_count": 27,
   "id": "c6ae4555-85cd-4d86-8d89-27d0387331db",
   "metadata": {},
   "outputs": [
    {
     "data": {
      "text/plain": [
       "76543"
      ]
     },
     "execution_count": 27,
     "metadata": {},
     "output_type": "execute_result"
    }
   ],
   "source": [
    "pwskills2.mobile_number"
   ]
  },
  {
   "cell_type": "code",
   "execution_count": 28,
   "id": "fad83fd3-cc68-4dfa-a6be-7e4bbe24b68a",
   "metadata": {},
   "outputs": [],
   "source": [
    "pw=pwskills2.details(\"anw\",\"woiswio\")"
   ]
  },
  {
   "cell_type": "code",
   "execution_count": 29,
   "id": "91926d24-efc5-4010-873a-30a271b578df",
   "metadata": {},
   "outputs": [
    {
     "name": "stdout",
     "output_type": "stream",
     "text": [
      "anw woiswio\n"
     ]
    }
   ],
   "source": [
    "pw.student_details()"
   ]
  },
  {
   "cell_type": "code",
   "execution_count": 30,
   "id": "6eadb5c2-55e7-4f0f-be67-747876462d9c",
   "metadata": {},
   "outputs": [],
   "source": [
    "pw1=pwskills2(\"anu\",\"anu@gmail.com\")"
   ]
  },
  {
   "cell_type": "markdown",
   "id": "da2f665c-367d-41a5-8abc-607d84825c9a",
   "metadata": {},
   "source": [
    "### pw1.student_details()"
   ]
  },
  {
   "cell_type": "code",
   "execution_count": 4,
   "id": "8811883d-f990-46b3-83d5-bfd9991a736d",
   "metadata": {},
   "outputs": [],
   "source": [
    "class pwskills2():\n",
    "    mobile_number=12345\n",
    "    def __init__(self,name,email):\n",
    "        self.name=name\n",
    "        self.email=email\n",
    "    @classmethod\n",
    "    def change_number(cls,mobile):\n",
    "        pwskills2.mobile_number=mobile\n",
    "    @classmethod       ##cls bind the methord to the entier class\n",
    "    def details(cls,name,email):\n",
    "        return cls(name,email)\n",
    "    \n",
    "    def student_details(self):\n",
    "        print(self.name,self.email,pwskills2.mobile_number)"
   ]
  },
  {
   "cell_type": "code",
   "execution_count": 6,
   "id": "fb7952b5-a0b4-42a4-8646-f28a12971d11",
   "metadata": {},
   "outputs": [
    {
     "data": {
      "text/plain": [
       "12345"
      ]
     },
     "execution_count": 6,
     "metadata": {},
     "output_type": "execute_result"
    }
   ],
   "source": [
    "pwskills2.mobile_number"
   ]
  },
  {
   "cell_type": "code",
   "execution_count": 37,
   "id": "98c6eb7d-9bee-4305-b216-580c08254197",
   "metadata": {},
   "outputs": [],
   "source": [
    "pwskills2.change_number(1234)"
   ]
  },
  {
   "cell_type": "code",
   "execution_count": 38,
   "id": "cf85f2b5-b27a-4368-a3b1-eacb35142d4e",
   "metadata": {},
   "outputs": [
    {
     "data": {
      "text/plain": [
       "1234"
      ]
     },
     "execution_count": 38,
     "metadata": {},
     "output_type": "execute_result"
    }
   ],
   "source": [
    "pwskills2.mobile_number"
   ]
  },
  {
   "cell_type": "code",
   "execution_count": null,
   "id": "72a29f6e-e08d-4b12-9c95-bc3212108acc",
   "metadata": {},
   "outputs": [],
   "source": []
  },
  {
   "cell_type": "code",
   "execution_count": null,
   "id": "6f255600-455f-4bc0-9216-8b166a60e6e1",
   "metadata": {},
   "outputs": [],
   "source": []
  }
 ],
 "metadata": {
  "kernelspec": {
   "display_name": "Python 3 (ipykernel)",
   "language": "python",
   "name": "python3"
  },
  "language_info": {
   "codemirror_mode": {
    "name": "ipython",
    "version": 3
   },
   "file_extension": ".py",
   "mimetype": "text/x-python",
   "name": "python",
   "nbconvert_exporter": "python",
   "pygments_lexer": "ipython3",
   "version": "3.10.8"
  }
 },
 "nbformat": 4,
 "nbformat_minor": 5
}
